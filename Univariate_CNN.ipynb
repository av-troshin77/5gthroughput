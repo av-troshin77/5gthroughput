{
 "cells": [
  {
   "cell_type": "markdown",
   "metadata": {},
   "source": [
    "# Univariate CNN"
   ]
  },
  {
   "cell_type": "code",
   "execution_count": 1,
   "metadata": {},
   "outputs": [],
   "source": [
    "import pandas as pd\n",
    "import numpy as np\n",
    "import tensorflow as tf\n",
    "import matplotlib.pyplot as plt\n",
    "from sklearn.metrics import mean_squared_error"
   ]
  },
  {
   "cell_type": "code",
   "execution_count": 2,
   "metadata": {},
   "outputs": [],
   "source": [
    "# fix tensorflow gpu problems\n",
    "from tensorflow.compat.v1 import ConfigProto\n",
    "from tensorflow.compat.v1 import InteractiveSession\n",
    "config = ConfigProto()\n",
    "config.gpu_options.allow_growth = True\n",
    "session = InteractiveSession(config=config)"
   ]
  },
  {
   "cell_type": "code",
   "execution_count": 3,
   "metadata": {},
   "outputs": [
    {
     "name": "stdout",
     "output_type": "stream",
     "text": [
      "0\n",
      "True\n",
      "True\n",
      "\n"
     ]
    }
   ],
   "source": [
    "# check gpu support\n",
    "gpus = tf.config.list_physical_devices('GPU')\n",
    "print(len(gpus))\n",
    "print(tf.test.is_built_with_gpu_support())\n",
    "print(tf.test.is_built_with_cuda())\n",
    "print(tf.test.gpu_device_name())"
   ]
  },
  {
   "cell_type": "markdown",
   "metadata": {},
   "source": [
    "## 1. Load the dataset"
   ]
  },
  {
   "cell_type": "code",
   "execution_count": 4,
   "metadata": {},
   "outputs": [
    {
     "data": {
      "text/html": [
       "<div>\n",
       "<style scoped>\n",
       "    .dataframe tbody tr th:only-of-type {\n",
       "        vertical-align: middle;\n",
       "    }\n",
       "\n",
       "    .dataframe tbody tr th {\n",
       "        vertical-align: top;\n",
       "    }\n",
       "\n",
       "    .dataframe thead th {\n",
       "        text-align: right;\n",
       "    }\n",
       "</style>\n",
       "<table border=\"1\" class=\"dataframe\">\n",
       "  <thead>\n",
       "    <tr style=\"text-align: right;\">\n",
       "      <th></th>\n",
       "      <th></th>\n",
       "      <th>abstractSignalStr</th>\n",
       "      <th>latitude</th>\n",
       "      <th>longitude</th>\n",
       "      <th>movingSpeed</th>\n",
       "      <th>compassDirection</th>\n",
       "      <th>nrStatus</th>\n",
       "      <th>lte_rssi</th>\n",
       "      <th>lte_rsrp</th>\n",
       "      <th>lte_rsrq</th>\n",
       "      <th>lte_rssnr</th>\n",
       "      <th>nr_ssRsrp</th>\n",
       "      <th>nr_ssRsrq</th>\n",
       "      <th>nr_ssSinr</th>\n",
       "      <th>Throughput</th>\n",
       "      <th>mobility_mode</th>\n",
       "      <th>trajectory_direction</th>\n",
       "      <th>tower_id</th>\n",
       "    </tr>\n",
       "    <tr>\n",
       "      <th>run_num</th>\n",
       "      <th>seq_num</th>\n",
       "      <th></th>\n",
       "      <th></th>\n",
       "      <th></th>\n",
       "      <th></th>\n",
       "      <th></th>\n",
       "      <th></th>\n",
       "      <th></th>\n",
       "      <th></th>\n",
       "      <th></th>\n",
       "      <th></th>\n",
       "      <th></th>\n",
       "      <th></th>\n",
       "      <th></th>\n",
       "      <th></th>\n",
       "      <th></th>\n",
       "      <th></th>\n",
       "      <th></th>\n",
       "    </tr>\n",
       "  </thead>\n",
       "  <tbody>\n",
       "    <tr>\n",
       "      <th rowspan=\"5\" valign=\"top\">1</th>\n",
       "      <th>1.0</th>\n",
       "      <td>2</td>\n",
       "      <td>44.975314</td>\n",
       "      <td>-93.259316</td>\n",
       "      <td>0.094889</td>\n",
       "      <td>150</td>\n",
       "      <td>NOT_RESTRICTED</td>\n",
       "      <td>-61.0</td>\n",
       "      <td>-94</td>\n",
       "      <td>-14.0</td>\n",
       "      <td>2.147484e+09</td>\n",
       "      <td>NaN</td>\n",
       "      <td>NaN</td>\n",
       "      <td>NaN</td>\n",
       "      <td>78</td>\n",
       "      <td>driving</td>\n",
       "      <td>CW</td>\n",
       "      <td>16</td>\n",
       "    </tr>\n",
       "    <tr>\n",
       "      <th>2.0</th>\n",
       "      <td>2</td>\n",
       "      <td>44.975311</td>\n",
       "      <td>-93.259311</td>\n",
       "      <td>0.876634</td>\n",
       "      <td>117</td>\n",
       "      <td>NOT_RESTRICTED</td>\n",
       "      <td>-61.0</td>\n",
       "      <td>-94</td>\n",
       "      <td>-14.0</td>\n",
       "      <td>2.147484e+09</td>\n",
       "      <td>NaN</td>\n",
       "      <td>NaN</td>\n",
       "      <td>NaN</td>\n",
       "      <td>117</td>\n",
       "      <td>driving</td>\n",
       "      <td>CW</td>\n",
       "      <td>16</td>\n",
       "    </tr>\n",
       "    <tr>\n",
       "      <th>3.0</th>\n",
       "      <td>2</td>\n",
       "      <td>44.975305</td>\n",
       "      <td>-93.259292</td>\n",
       "      <td>2.225798</td>\n",
       "      <td>113</td>\n",
       "      <td>NOT_RESTRICTED</td>\n",
       "      <td>-61.0</td>\n",
       "      <td>-94</td>\n",
       "      <td>-14.0</td>\n",
       "      <td>2.147484e+09</td>\n",
       "      <td>NaN</td>\n",
       "      <td>NaN</td>\n",
       "      <td>NaN</td>\n",
       "      <td>110</td>\n",
       "      <td>driving</td>\n",
       "      <td>CW</td>\n",
       "      <td>16</td>\n",
       "    </tr>\n",
       "    <tr>\n",
       "      <th>4.0</th>\n",
       "      <td>2</td>\n",
       "      <td>44.975293</td>\n",
       "      <td>-93.259258</td>\n",
       "      <td>3.180726</td>\n",
       "      <td>114</td>\n",
       "      <td>NOT_RESTRICTED</td>\n",
       "      <td>-59.0</td>\n",
       "      <td>-95</td>\n",
       "      <td>-16.0</td>\n",
       "      <td>2.147484e+09</td>\n",
       "      <td>NaN</td>\n",
       "      <td>NaN</td>\n",
       "      <td>NaN</td>\n",
       "      <td>108</td>\n",
       "      <td>driving</td>\n",
       "      <td>CW</td>\n",
       "      <td>16</td>\n",
       "    </tr>\n",
       "    <tr>\n",
       "      <th>5.0</th>\n",
       "      <td>2</td>\n",
       "      <td>44.975278</td>\n",
       "      <td>-93.259214</td>\n",
       "      <td>3.751234</td>\n",
       "      <td>115</td>\n",
       "      <td>NOT_RESTRICTED</td>\n",
       "      <td>-59.0</td>\n",
       "      <td>-95</td>\n",
       "      <td>-16.0</td>\n",
       "      <td>2.147484e+09</td>\n",
       "      <td>NaN</td>\n",
       "      <td>NaN</td>\n",
       "      <td>NaN</td>\n",
       "      <td>100</td>\n",
       "      <td>driving</td>\n",
       "      <td>CW</td>\n",
       "      <td>16</td>\n",
       "    </tr>\n",
       "  </tbody>\n",
       "</table>\n",
       "</div>"
      ],
      "text/plain": [
       "                 abstractSignalStr   latitude  longitude  movingSpeed  \\\n",
       "run_num seq_num                                                         \n",
       "1       1.0                      2  44.975314 -93.259316     0.094889   \n",
       "        2.0                      2  44.975311 -93.259311     0.876634   \n",
       "        3.0                      2  44.975305 -93.259292     2.225798   \n",
       "        4.0                      2  44.975293 -93.259258     3.180726   \n",
       "        5.0                      2  44.975278 -93.259214     3.751234   \n",
       "\n",
       "                 compassDirection        nrStatus  lte_rssi  lte_rsrp  \\\n",
       "run_num seq_num                                                         \n",
       "1       1.0                   150  NOT_RESTRICTED     -61.0       -94   \n",
       "        2.0                   117  NOT_RESTRICTED     -61.0       -94   \n",
       "        3.0                   113  NOT_RESTRICTED     -61.0       -94   \n",
       "        4.0                   114  NOT_RESTRICTED     -59.0       -95   \n",
       "        5.0                   115  NOT_RESTRICTED     -59.0       -95   \n",
       "\n",
       "                 lte_rsrq     lte_rssnr  nr_ssRsrp  nr_ssRsrq  nr_ssSinr  \\\n",
       "run_num seq_num                                                            \n",
       "1       1.0         -14.0  2.147484e+09        NaN        NaN        NaN   \n",
       "        2.0         -14.0  2.147484e+09        NaN        NaN        NaN   \n",
       "        3.0         -14.0  2.147484e+09        NaN        NaN        NaN   \n",
       "        4.0         -16.0  2.147484e+09        NaN        NaN        NaN   \n",
       "        5.0         -16.0  2.147484e+09        NaN        NaN        NaN   \n",
       "\n",
       "                 Throughput mobility_mode trajectory_direction  tower_id  \n",
       "run_num seq_num                                                           \n",
       "1       1.0              78       driving                   CW        16  \n",
       "        2.0             117       driving                   CW        16  \n",
       "        3.0             110       driving                   CW        16  \n",
       "        4.0             108       driving                   CW        16  \n",
       "        5.0             100       driving                   CW        16  "
      ]
     },
     "execution_count": 4,
     "metadata": {},
     "output_type": "execute_result"
    }
   ],
   "source": [
    "df = pd.read_csv('Lumos5G-v1.0.csv',\n",
    "                index_col=['run_num', 'seq_num'])\n",
    "df.head(5)"
   ]
  },
  {
   "cell_type": "code",
   "execution_count": 5,
   "metadata": {},
   "outputs": [
    {
     "data": {
      "text/html": [
       "<div>\n",
       "<style scoped>\n",
       "    .dataframe tbody tr th:only-of-type {\n",
       "        vertical-align: middle;\n",
       "    }\n",
       "\n",
       "    .dataframe tbody tr th {\n",
       "        vertical-align: top;\n",
       "    }\n",
       "\n",
       "    .dataframe thead th {\n",
       "        text-align: right;\n",
       "    }\n",
       "</style>\n",
       "<table border=\"1\" class=\"dataframe\">\n",
       "  <thead>\n",
       "    <tr style=\"text-align: right;\">\n",
       "      <th></th>\n",
       "      <th></th>\n",
       "      <th>Throughput</th>\n",
       "    </tr>\n",
       "    <tr>\n",
       "      <th>run_num</th>\n",
       "      <th>seq_num</th>\n",
       "      <th></th>\n",
       "    </tr>\n",
       "  </thead>\n",
       "  <tbody>\n",
       "    <tr>\n",
       "      <th rowspan=\"5\" valign=\"top\">1</th>\n",
       "      <th>1.0</th>\n",
       "      <td>78</td>\n",
       "    </tr>\n",
       "    <tr>\n",
       "      <th>2.0</th>\n",
       "      <td>117</td>\n",
       "    </tr>\n",
       "    <tr>\n",
       "      <th>3.0</th>\n",
       "      <td>110</td>\n",
       "    </tr>\n",
       "    <tr>\n",
       "      <th>4.0</th>\n",
       "      <td>108</td>\n",
       "    </tr>\n",
       "    <tr>\n",
       "      <th>5.0</th>\n",
       "      <td>100</td>\n",
       "    </tr>\n",
       "  </tbody>\n",
       "</table>\n",
       "</div>"
      ],
      "text/plain": [
       "                 Throughput\n",
       "run_num seq_num            \n",
       "1       1.0              78\n",
       "        2.0             117\n",
       "        3.0             110\n",
       "        4.0             108\n",
       "        5.0             100"
      ]
     },
     "execution_count": 5,
     "metadata": {},
     "output_type": "execute_result"
    }
   ],
   "source": [
    "# select columns\n",
    "ndf = df[[\"Throughput\"]]\n",
    "ndf.head()"
   ]
  },
  {
   "cell_type": "code",
   "execution_count": 6,
   "metadata": {},
   "outputs": [
    {
     "name": "stdout",
     "output_type": "stream",
     "text": [
      "Max throughput: Throughput    1920\n",
      "dtype: int64\n",
      "Min throughput: Throughput    0\n",
      "dtype: int64\n"
     ]
    }
   ],
   "source": [
    "max_throughput = ndf.max()\n",
    "min_throughput = ndf.min()\n",
    "print(f'Max throughput: {max_throughput}')\n",
    "print(f'Min throughput: {min_throughput}')\n",
    "max_throughput = max_throughput.item() # get python int!"
   ]
  },
  {
   "cell_type": "code",
   "execution_count": 7,
   "metadata": {},
   "outputs": [
    {
     "data": {
      "text/html": [
       "<div>\n",
       "<style scoped>\n",
       "    .dataframe tbody tr th:only-of-type {\n",
       "        vertical-align: middle;\n",
       "    }\n",
       "\n",
       "    .dataframe tbody tr th {\n",
       "        vertical-align: top;\n",
       "    }\n",
       "\n",
       "    .dataframe thead th {\n",
       "        text-align: right;\n",
       "    }\n",
       "</style>\n",
       "<table border=\"1\" class=\"dataframe\">\n",
       "  <thead>\n",
       "    <tr style=\"text-align: right;\">\n",
       "      <th></th>\n",
       "      <th></th>\n",
       "      <th>Throughput</th>\n",
       "    </tr>\n",
       "    <tr>\n",
       "      <th>run_num</th>\n",
       "      <th>seq_num</th>\n",
       "      <th></th>\n",
       "    </tr>\n",
       "  </thead>\n",
       "  <tbody>\n",
       "    <tr>\n",
       "      <th rowspan=\"5\" valign=\"top\">1</th>\n",
       "      <th>1.0</th>\n",
       "      <td>0.040625</td>\n",
       "    </tr>\n",
       "    <tr>\n",
       "      <th>2.0</th>\n",
       "      <td>0.060937</td>\n",
       "    </tr>\n",
       "    <tr>\n",
       "      <th>3.0</th>\n",
       "      <td>0.057292</td>\n",
       "    </tr>\n",
       "    <tr>\n",
       "      <th>4.0</th>\n",
       "      <td>0.056250</td>\n",
       "    </tr>\n",
       "    <tr>\n",
       "      <th>5.0</th>\n",
       "      <td>0.052083</td>\n",
       "    </tr>\n",
       "  </tbody>\n",
       "</table>\n",
       "</div>"
      ],
      "text/plain": [
       "                 Throughput\n",
       "run_num seq_num            \n",
       "1       1.0        0.040625\n",
       "        2.0        0.060937\n",
       "        3.0        0.057292\n",
       "        4.0        0.056250\n",
       "        5.0        0.052083"
      ]
     },
     "execution_count": 7,
     "metadata": {},
     "output_type": "execute_result"
    }
   ],
   "source": [
    "# Min-Max Scaling\n",
    "df=(ndf-ndf.min())/(ndf.max()-ndf.min())\n",
    "df.head()"
   ]
  },
  {
   "cell_type": "markdown",
   "metadata": {},
   "source": [
    "## 2. Create Train-Test Sets"
   ]
  },
  {
   "cell_type": "code",
   "execution_count": 8,
   "metadata": {},
   "outputs": [],
   "source": [
    "# split function into sequences\n",
    "def multistep_split(seq, n_steps_in, n_steps_out):\n",
    "    X = list()\n",
    "    y = list()\n",
    "    for i in range(len(seq)):\n",
    "        # pattern end\n",
    "        end_ix = i + n_steps_in\n",
    "        out_end_ix = end_ix + n_steps_out\n",
    "        if out_end_ix > len(seq):\n",
    "            break\n",
    "        seq_x = seq[i:end_ix]\n",
    "        seq_y = seq[end_ix:out_end_ix, -1]\n",
    "        X.append(seq_x)\n",
    "        y.append(seq_y)\n",
    "    return np.array(X), np.array(y)"
   ]
  },
  {
   "cell_type": "code",
   "execution_count": 9,
   "metadata": {},
   "outputs": [
    {
     "name": "stdout",
     "output_type": "stream",
     "text": [
      "(64696, 20)\n",
      "(64696, 10)\n"
     ]
    }
   ],
   "source": [
    "# separately splits runs into sequences\n",
    "run_max=df.index.max()[0]\n",
    "seconds_in = 20\n",
    "seconds_out = 10 \n",
    "X_list = list()\n",
    "y_list = list()\n",
    "for run_num in range(1, run_max+1):\n",
    "    run = df.loc[run_num].values\n",
    "    X, y = multistep_split(run.astype('float32'), n_steps_in=seconds_in, n_steps_out=seconds_out)\n",
    "    X_list.append(X)\n",
    "    y_list.append(y)\n",
    "X = np.concatenate(X_list)\n",
    "y = np.concatenate(y_list)\n",
    "X = X.reshape((X.shape[0], X.shape[1]))\n",
    "print(X.shape)\n",
    "print(y.shape)"
   ]
  },
  {
   "cell_type": "code",
   "execution_count": 10,
   "metadata": {},
   "outputs": [
    {
     "name": "stdout",
     "output_type": "stream",
     "text": [
      "(51756, 20, 1)\n",
      "(51756, 10)\n",
      "(12940, 20, 1)\n",
      "(12940, 10)\n"
     ]
    }
   ],
   "source": [
    "ratio=0.8\n",
    "train_size = int(ratio*X.shape[0])\n",
    "X_train = X[:train_size]\n",
    "y_train = y[:train_size]\n",
    "X_test = X[train_size:]\n",
    "y_test = y[train_size:]\n",
    "# reshape inputs into 3D\n",
    "X_train = X_train.reshape((X_train.shape[0], X_train.shape[1], 1))\n",
    "X_test = X_test.reshape((X_test.shape[0], X_test.shape[1], 1))\n",
    "print(X_train.shape)\n",
    "print(y_train.shape)\n",
    "print(X_test.shape)\n",
    "print(y_test.shape)"
   ]
  },
  {
   "cell_type": "markdown",
   "metadata": {},
   "source": [
    "## 3. Define CNN"
   ]
  },
  {
   "cell_type": "code",
   "execution_count": 11,
   "metadata": {},
   "outputs": [],
   "source": [
    "def cnn(seconds_in, seconds_out, lr=0.0001):\n",
    "    # define layers\n",
    "    inputs = tf.keras.Input(shape=(seconds_in, 1))\n",
    "    conv1 = tf.keras.layers.Conv1D(filters=32, kernel_size=4, activation='relu')\n",
    "    conv2 = tf.keras.layers.Conv1D(filters=64, kernel_size=4, activation='relu')\n",
    "    flat = tf.keras.layers.Flatten()\n",
    "    dense1 = tf.keras.layers.Dense(64, activation='relu')\n",
    "    outputs = tf.keras.layers.Dense(seconds_out, activation='linear')\n",
    "    layers = [inputs, conv1, conv2, flat, dense1, outputs]\n",
    "    # create model\n",
    "    model = tf.keras.models.Sequential(layers)\n",
    "    model.summary()\n",
    "    # compile model\n",
    "    opt = tf.keras.optimizers.Adam(learning_rate=lr)\n",
    "    rmse = tf.keras.metrics.RootMeanSquaredError()\n",
    "    mae = tf.keras.metrics.MeanAbsoluteError()\n",
    "    model.compile(optimizer=opt, loss='mean_squared_error', metrics=[rmse, mae])\n",
    "    return model"
   ]
  },
  {
   "cell_type": "markdown",
   "metadata": {},
   "source": [
    "## 4. Train CNN"
   ]
  },
  {
   "cell_type": "code",
   "execution_count": 12,
   "metadata": {},
   "outputs": [
    {
     "name": "stdout",
     "output_type": "stream",
     "text": [
      "Model: \"sequential\"\n",
      "_________________________________________________________________\n",
      "Layer (type)                 Output Shape              Param #   \n",
      "=================================================================\n",
      "conv1d (Conv1D)              (None, 17, 32)            160       \n",
      "_________________________________________________________________\n",
      "conv1d_1 (Conv1D)            (None, 14, 64)            8256      \n",
      "_________________________________________________________________\n",
      "flatten (Flatten)            (None, 896)               0         \n",
      "_________________________________________________________________\n",
      "dense (Dense)                (None, 64)                57408     \n",
      "_________________________________________________________________\n",
      "dense_1 (Dense)              (None, 10)                650       \n",
      "=================================================================\n",
      "Total params: 66,474\n",
      "Trainable params: 66,474\n",
      "Non-trainable params: 0\n",
      "_________________________________________________________________\n"
     ]
    }
   ],
   "source": [
    "model = cnn(seconds_in, seconds_out, lr=0.0001)"
   ]
  },
  {
   "cell_type": "code",
   "execution_count": 13,
   "metadata": {},
   "outputs": [
    {
     "name": "stdout",
     "output_type": "stream",
     "text": [
      "Epoch 1/50\n",
      "1618/1618 [==============================] - 5s 3ms/step - loss: 0.1529 - root_mean_squared_error: 0.2140 - mean_absolute_error: 0.1529 - val_loss: 0.1036 - val_root_mean_squared_error: 0.1636 - val_mean_absolute_error: 0.1036\n",
      "Epoch 2/50\n",
      "1618/1618 [==============================] - 4s 2ms/step - loss: 0.1144 - root_mean_squared_error: 0.1725 - mean_absolute_error: 0.1144 - val_loss: 0.1026 - val_root_mean_squared_error: 0.1627 - val_mean_absolute_error: 0.1026\n",
      "Epoch 3/50\n",
      "1618/1618 [==============================] - 4s 2ms/step - loss: 0.1133 - root_mean_squared_error: 0.1710 - mean_absolute_error: 0.1133 - val_loss: 0.1015 - val_root_mean_squared_error: 0.1613 - val_mean_absolute_error: 0.1015\n",
      "Epoch 4/50\n",
      "1618/1618 [==============================] - 4s 2ms/step - loss: 0.1118 - root_mean_squared_error: 0.1695 - mean_absolute_error: 0.1118 - val_loss: 0.1011 - val_root_mean_squared_error: 0.1596 - val_mean_absolute_error: 0.1011\n",
      "Epoch 5/50\n",
      "1618/1618 [==============================] - 4s 2ms/step - loss: 0.1121 - root_mean_squared_error: 0.1701 - mean_absolute_error: 0.1121 - val_loss: 0.1008 - val_root_mean_squared_error: 0.1595 - val_mean_absolute_error: 0.1008\n",
      "Epoch 6/50\n",
      "1618/1618 [==============================] - 4s 2ms/step - loss: 0.1123 - root_mean_squared_error: 0.1696 - mean_absolute_error: 0.1123 - val_loss: 0.1009 - val_root_mean_squared_error: 0.1601 - val_mean_absolute_error: 0.1009\n",
      "Epoch 7/50\n",
      "1618/1618 [==============================] - 3s 2ms/step - loss: 0.1123 - root_mean_squared_error: 0.1702 - mean_absolute_error: 0.1123 - val_loss: 0.1010 - val_root_mean_squared_error: 0.1614 - val_mean_absolute_error: 0.1010\n",
      "Epoch 8/50\n",
      "1618/1618 [==============================] - 3s 2ms/step - loss: 0.1114 - root_mean_squared_error: 0.1692 - mean_absolute_error: 0.1114 - val_loss: 0.1005 - val_root_mean_squared_error: 0.1588 - val_mean_absolute_error: 0.1005\n",
      "Epoch 9/50\n",
      "1618/1618 [==============================] - 3s 2ms/step - loss: 0.1110 - root_mean_squared_error: 0.1688 - mean_absolute_error: 0.1110 - val_loss: 0.1004 - val_root_mean_squared_error: 0.1598 - val_mean_absolute_error: 0.1004\n",
      "Epoch 10/50\n",
      "1618/1618 [==============================] - 4s 2ms/step - loss: 0.1110 - root_mean_squared_error: 0.1687 - mean_absolute_error: 0.1110 - val_loss: 0.1006 - val_root_mean_squared_error: 0.1581 - val_mean_absolute_error: 0.1006\n",
      "Epoch 11/50\n",
      "1618/1618 [==============================] - 4s 3ms/step - loss: 0.1112 - root_mean_squared_error: 0.1691 - mean_absolute_error: 0.1112 - val_loss: 0.1011 - val_root_mean_squared_error: 0.1609 - val_mean_absolute_error: 0.1011\n",
      "Epoch 12/50\n",
      "1618/1618 [==============================] - 4s 2ms/step - loss: 0.1108 - root_mean_squared_error: 0.1681 - mean_absolute_error: 0.1108 - val_loss: 0.1001 - val_root_mean_squared_error: 0.1590 - val_mean_absolute_error: 0.1001\n",
      "Epoch 13/50\n",
      "1618/1618 [==============================] - 4s 2ms/step - loss: 0.1109 - root_mean_squared_error: 0.1685 - mean_absolute_error: 0.1109 - val_loss: 0.1002 - val_root_mean_squared_error: 0.1583 - val_mean_absolute_error: 0.1002\n",
      "Epoch 14/50\n",
      "1618/1618 [==============================] - 4s 3ms/step - loss: 0.1110 - root_mean_squared_error: 0.1689 - mean_absolute_error: 0.1110 - val_loss: 0.1003 - val_root_mean_squared_error: 0.1586 - val_mean_absolute_error: 0.1003\n",
      "Epoch 15/50\n",
      "1618/1618 [==============================] - 4s 2ms/step - loss: 0.1105 - root_mean_squared_error: 0.1683 - mean_absolute_error: 0.1105 - val_loss: 0.1003 - val_root_mean_squared_error: 0.1586 - val_mean_absolute_error: 0.1003\n",
      "Epoch 16/50\n",
      "1618/1618 [==============================] - 4s 2ms/step - loss: 0.1105 - root_mean_squared_error: 0.1679 - mean_absolute_error: 0.1105 - val_loss: 0.1001 - val_root_mean_squared_error: 0.1583 - val_mean_absolute_error: 0.1001\n",
      "Epoch 17/50\n",
      "1618/1618 [==============================] - 4s 2ms/step - loss: 0.1108 - root_mean_squared_error: 0.1683 - mean_absolute_error: 0.1108 - val_loss: 0.1002 - val_root_mean_squared_error: 0.1580 - val_mean_absolute_error: 0.1002\n",
      "Epoch 18/50\n",
      "1618/1618 [==============================] - 4s 2ms/step - loss: 0.1099 - root_mean_squared_error: 0.1675 - mean_absolute_error: 0.1099 - val_loss: 0.1001 - val_root_mean_squared_error: 0.1583 - val_mean_absolute_error: 0.1001\n",
      "Epoch 19/50\n",
      "1618/1618 [==============================] - 4s 2ms/step - loss: 0.1104 - root_mean_squared_error: 0.1680 - mean_absolute_error: 0.1104 - val_loss: 0.1001 - val_root_mean_squared_error: 0.1587 - val_mean_absolute_error: 0.1001\n",
      "Epoch 20/50\n",
      "1618/1618 [==============================] - 4s 2ms/step - loss: 0.1104 - root_mean_squared_error: 0.1683 - mean_absolute_error: 0.1104 - val_loss: 0.1006 - val_root_mean_squared_error: 0.1576 - val_mean_absolute_error: 0.1006\n",
      "Epoch 21/50\n",
      "1618/1618 [==============================] - 4s 2ms/step - loss: 0.1100 - root_mean_squared_error: 0.1674 - mean_absolute_error: 0.1100 - val_loss: 0.0999 - val_root_mean_squared_error: 0.1585 - val_mean_absolute_error: 0.0999\n",
      "Epoch 22/50\n",
      "1618/1618 [==============================] - 4s 2ms/step - loss: 0.1096 - root_mean_squared_error: 0.1669 - mean_absolute_error: 0.1096 - val_loss: 0.1002 - val_root_mean_squared_error: 0.1579 - val_mean_absolute_error: 0.1002\n",
      "Epoch 23/50\n",
      "1618/1618 [==============================] - 4s 3ms/step - loss: 0.1091 - root_mean_squared_error: 0.1663 - mean_absolute_error: 0.1091 - val_loss: 0.1010 - val_root_mean_squared_error: 0.1609 - val_mean_absolute_error: 0.1010\n",
      "Epoch 24/50\n",
      "1618/1618 [==============================] - 4s 2ms/step - loss: 0.1100 - root_mean_squared_error: 0.1671 - mean_absolute_error: 0.1100 - val_loss: 0.0998 - val_root_mean_squared_error: 0.1581 - val_mean_absolute_error: 0.0998\n",
      "Epoch 25/50\n",
      "1618/1618 [==============================] - 4s 2ms/step - loss: 0.1097 - root_mean_squared_error: 0.1668 - mean_absolute_error: 0.1097 - val_loss: 0.1002 - val_root_mean_squared_error: 0.1598 - val_mean_absolute_error: 0.1002\n",
      "Epoch 26/50\n",
      "1618/1618 [==============================] - 4s 2ms/step - loss: 0.1090 - root_mean_squared_error: 0.1658 - mean_absolute_error: 0.1090 - val_loss: 0.1002 - val_root_mean_squared_error: 0.1572 - val_mean_absolute_error: 0.1002\n",
      "Epoch 27/50\n",
      "1618/1618 [==============================] - 4s 2ms/step - loss: 0.1097 - root_mean_squared_error: 0.1668 - mean_absolute_error: 0.1097 - val_loss: 0.1025 - val_root_mean_squared_error: 0.1627 - val_mean_absolute_error: 0.1025\n",
      "Epoch 28/50\n",
      "1618/1618 [==============================] - 4s 2ms/step - loss: 0.1100 - root_mean_squared_error: 0.1673 - mean_absolute_error: 0.1100 - val_loss: 0.1002 - val_root_mean_squared_error: 0.1579 - val_mean_absolute_error: 0.1002\n",
      "Epoch 29/50\n",
      "1618/1618 [==============================] - 4s 2ms/step - loss: 0.1093 - root_mean_squared_error: 0.1663 - mean_absolute_error: 0.1093 - val_loss: 0.0999 - val_root_mean_squared_error: 0.1586 - val_mean_absolute_error: 0.0999\n",
      "Epoch 30/50\n",
      "1618/1618 [==============================] - 4s 2ms/step - loss: 0.1086 - root_mean_squared_error: 0.1657 - mean_absolute_error: 0.1086 - val_loss: 0.1001 - val_root_mean_squared_error: 0.1587 - val_mean_absolute_error: 0.1001\n",
      "Epoch 31/50\n",
      "1618/1618 [==============================] - 4s 2ms/step - loss: 0.1093 - root_mean_squared_error: 0.1663 - mean_absolute_error: 0.1093 - val_loss: 0.1004 - val_root_mean_squared_error: 0.1569 - val_mean_absolute_error: 0.1004\n",
      "Epoch 32/50\n",
      "1618/1618 [==============================] - 4s 2ms/step - loss: 0.1086 - root_mean_squared_error: 0.1657 - mean_absolute_error: 0.1086 - val_loss: 0.1000 - val_root_mean_squared_error: 0.1578 - val_mean_absolute_error: 0.1000\n",
      "Epoch 33/50\n",
      "1618/1618 [==============================] - 4s 2ms/step - loss: 0.1091 - root_mean_squared_error: 0.1660 - mean_absolute_error: 0.1091 - val_loss: 0.1000 - val_root_mean_squared_error: 0.1583 - val_mean_absolute_error: 0.1000\n",
      "Epoch 34/50\n",
      "1618/1618 [==============================] - 4s 2ms/step - loss: 0.1091 - root_mean_squared_error: 0.1661 - mean_absolute_error: 0.1091 - val_loss: 0.0998 - val_root_mean_squared_error: 0.1597 - val_mean_absolute_error: 0.0998\n",
      "Epoch 35/50\n",
      "1618/1618 [==============================] - 4s 2ms/step - loss: 0.1084 - root_mean_squared_error: 0.1653 - mean_absolute_error: 0.1084 - val_loss: 0.1002 - val_root_mean_squared_error: 0.1589 - val_mean_absolute_error: 0.1002\n",
      "Epoch 36/50\n",
      "1618/1618 [==============================] - 4s 2ms/step - loss: 0.1089 - root_mean_squared_error: 0.1656 - mean_absolute_error: 0.1089 - val_loss: 0.1005 - val_root_mean_squared_error: 0.1589 - val_mean_absolute_error: 0.1005\n",
      "Epoch 37/50\n",
      "1618/1618 [==============================] - 4s 2ms/step - loss: 0.1084 - root_mean_squared_error: 0.1651 - mean_absolute_error: 0.1084 - val_loss: 0.0998 - val_root_mean_squared_error: 0.1583 - val_mean_absolute_error: 0.0998\n",
      "Epoch 38/50\n",
      "1618/1618 [==============================] - 4s 2ms/step - loss: 0.1087 - root_mean_squared_error: 0.1656 - mean_absolute_error: 0.1087 - val_loss: 0.1000 - val_root_mean_squared_error: 0.1573 - val_mean_absolute_error: 0.1000\n",
      "Epoch 39/50\n",
      "1618/1618 [==============================] - 4s 2ms/step - loss: 0.1086 - root_mean_squared_error: 0.1656 - mean_absolute_error: 0.1086 - val_loss: 0.0998 - val_root_mean_squared_error: 0.1587 - val_mean_absolute_error: 0.0998\n",
      "Epoch 40/50\n",
      "1618/1618 [==============================] - 4s 2ms/step - loss: 0.1091 - root_mean_squared_error: 0.1657 - mean_absolute_error: 0.1091 - val_loss: 0.0997 - val_root_mean_squared_error: 0.1575 - val_mean_absolute_error: 0.0997\n",
      "Epoch 41/50\n",
      "1618/1618 [==============================] - 4s 2ms/step - loss: 0.1083 - root_mean_squared_error: 0.1651 - mean_absolute_error: 0.1083 - val_loss: 0.1003 - val_root_mean_squared_error: 0.1571 - val_mean_absolute_error: 0.1003\n",
      "Epoch 42/50\n",
      "1618/1618 [==============================] - 4s 2ms/step - loss: 0.1081 - root_mean_squared_error: 0.1646 - mean_absolute_error: 0.1081 - val_loss: 0.1004 - val_root_mean_squared_error: 0.1571 - val_mean_absolute_error: 0.1004\n",
      "Epoch 43/50\n",
      "1618/1618 [==============================] - 4s 2ms/step - loss: 0.1083 - root_mean_squared_error: 0.1647 - mean_absolute_error: 0.1083 - val_loss: 0.1002 - val_root_mean_squared_error: 0.1572 - val_mean_absolute_error: 0.1002\n",
      "Epoch 44/50\n",
      "1618/1618 [==============================] - 4s 2ms/step - loss: 0.1086 - root_mean_squared_error: 0.1651 - mean_absolute_error: 0.1086 - val_loss: 0.0999 - val_root_mean_squared_error: 0.1585 - val_mean_absolute_error: 0.0999\n"
     ]
    }
   ],
   "source": [
    "early_stopping = tf.keras.callbacks.EarlyStopping(monitor='val_loss',\n",
    "                                                  min_delta=0.0001,\n",
    "                                                  patience=20,\n",
    "                                                  verbose=0,\n",
    "                                                  mode='auto',\n",
    "                                                  restore_best_weights=True)\n",
    "history = model.fit(X_train,\n",
    "                    y_train,\n",
    "                    epochs=50,\n",
    "                    batch_size=32,\n",
    "                    validation_data=(X_test, y_test),\n",
    "                    callbacks=[early_stopping],\n",
    "                    verbose=1)"
   ]
  },
  {
   "cell_type": "code",
   "execution_count": 17,
   "metadata": {},
   "outputs": [
    {
     "name": "stdout",
     "output_type": "stream",
     "text": [
      "Minimal Loss: 191.5163\n"
     ]
    },
    {
     "data": {
      "image/png": "[encoded data removed]",
      "text/plain": [
       "<Figure size 720x360 with 1 Axes>"
      ]
     },
     "metadata": {
      "needs_background": "light"
     },
     "output_type": "display_data"
    }
   ],
   "source": [
    "loss = history.history['loss']\n",
    "val_loss = history.history['val_loss']\n",
    "min_loss = min(val_loss)\n",
    "print(f'Minimal Loss: {min_loss*max_throughput:.4f}')\n",
    "plt.figure(figsize=(10,5))\n",
    "plt.plot(loss, 'r', label='Loss of training data')\n",
    "plt.plot(val_loss, 'b-', label='Loss of validation data')\n",
    "plt.title('Model Loss')\n",
    "plt.ylabel('Loss')\n",
    "plt.xlabel('Training Epoch')\n",
    "plt.legend()\n",
    "plt.show()"
   ]
  },
  {
   "cell_type": "code",
   "execution_count": 15,
   "metadata": {},
   "outputs": [
    {
     "name": "stdout",
     "output_type": "stream",
     "text": [
      "Minimal MAE 191.5 Mbps\n",
      "Minimal RMSE 301.2 Mbps\n"
     ]
    },
    {
     "data": {
      "text/plain": [
       "<Figure size 432x288 with 0 Axes>"
      ]
     },
     "metadata": {},
     "output_type": "display_data"
    },
    {
     "data": {
      "image/png": "[encoded data removed]",
      "text/plain": [
       "<Figure size 720x360 with 1 Axes>"
      ]
     },
     "metadata": {
      "needs_background": "light"
     },
     "output_type": "display_data"
    }
   ],
   "source": [
    "plt.clf() # clear the figure\n",
    "mae = history.history['val_mean_absolute_error']\n",
    "min_mae = min(mae)\n",
    "print(f'Minimal MAE {min_mae*max_throughput:.1f} Mbps')\n",
    "rmse = history.history['val_root_mean_squared_error']\n",
    "min_rmse = min(rmse)\n",
    "print(f'Minimal RMSE {min_rmse*max_throughput:.1f} Mbps')\n",
    "plt.figure(figsize=(10,5))\n",
    "plt.plot(mae, 'r', label='MAE')\n",
    "plt.plot(rmse, 'b', label='RMSE')\n",
    "plt.title('Metrics')\n",
    "plt.ylabel('Loss')\n",
    "plt.xlabel('Training Epoch')\n",
    "plt.legend()\n",
    "plt.show()"
   ]
  },
  {
   "cell_type": "markdown",
   "metadata": {},
   "source": [
    "## 5. Test-Predict Comparision"
   ]
  },
  {
   "cell_type": "code",
   "execution_count": 16,
   "metadata": {},
   "outputs": [
    {
     "name": "stdout",
     "output_type": "stream",
     "text": [
      "Forecast MSE of the example: 0.0091\n"
     ]
    },
    {
     "data": {
      "image/png": "[encoded data removed]",
      "text/plain": [
       "<Figure size 432x288 with 1 Axes>"
      ]
     },
     "metadata": {
      "needs_background": "light"
     },
     "output_type": "display_data"
    }
   ],
   "source": [
    "n = 50 # example number\n",
    "y_true = y_test[n]\n",
    "x_in = X_test[n].reshape((1, seconds_in, 1))\n",
    "y_pred = model.predict(x_in).flatten()\n",
    "plt.plot(y_true*max_throughput, 'b')\n",
    "plt.plot(y_pred*max_throughput, 'r')\n",
    "plt.ylim(0, max_throughput)\n",
    "print(f'Forecast MSE of the example: {mean_squared_error(y_true, y_pred):.4f}')\n",
    "plt.show()"
   ]
  }
 ],
 "metadata": {
  "kernelspec": {
   "display_name": "Python 3",
   "language": "python",
   "name": "python3"
  },
  "language_info": {
   "codemirror_mode": {
    "name": "ipython",
    "version": 3
   },
   "file_extension": ".py",
   "mimetype": "text/x-python",
   "name": "python",
   "nbconvert_exporter": "python",
   "pygments_lexer": "ipython3",
   "version": "3.8.10"
  }
 },
 "nbformat": 4,
 "nbformat_minor": 4
}
