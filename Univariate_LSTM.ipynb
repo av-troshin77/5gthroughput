{
 "cells": [
  {
   "cell_type": "markdown",
   "metadata": {},
   "source": [
    "# Univariate LSTM"
   ]
  },
  {
   "cell_type": "code",
   "execution_count": 1,
   "metadata": {},
   "outputs": [],
   "source": [
    "import pandas as pd\n",
    "import numpy as np\n",
    "import tensorflow as tf\n",
    "import matplotlib.pyplot as plt"
   ]
  },
  {
   "cell_type": "code",
   "execution_count": 2,
   "metadata": {},
   "outputs": [],
   "source": [
    "# fix tensorflow gpu problems\n",
    "from tensorflow.compat.v1 import ConfigProto\n",
    "from tensorflow.compat.v1 import InteractiveSession\n",
    "config = ConfigProto()\n",
    "config.gpu_options.allow_growth = True\n",
    "session = InteractiveSession(config=config)"
   ]
  },
  {
   "cell_type": "code",
   "execution_count": 3,
   "metadata": {},
   "outputs": [
    {
     "name": "stdout",
     "output_type": "stream",
     "text": [
      "1\n",
      "True\n",
      "True\n",
      "/device:GPU:0\n"
     ]
    }
   ],
   "source": [
    "# check gpu support\n",
    "gpus = tf.config.list_physical_devices('GPU')\n",
    "print(len(gpus))\n",
    "print(tf.test.is_built_with_gpu_support())\n",
    "print(tf.test.is_built_with_cuda())\n",
    "print(tf.test.gpu_device_name())"
   ]
  },
  {
   "cell_type": "markdown",
   "metadata": {},
   "source": [
    "## 1. Load the Dataset"
   ]
  },
  {
   "cell_type": "code",
   "execution_count": 4,
   "metadata": {},
   "outputs": [
    {
     "data": {
      "text/html": [
       "<div>\n",
       "<style scoped>\n",
       "    .dataframe tbody tr th:only-of-type {\n",
       "        vertical-align: middle;\n",
       "    }\n",
       "\n",
       "    .dataframe tbody tr th {\n",
       "        vertical-align: top;\n",
       "    }\n",
       "\n",
       "    .dataframe thead th {\n",
       "        text-align: right;\n",
       "    }\n",
       "</style>\n",
       "<table border=\"1\" class=\"dataframe\">\n",
       "  <thead>\n",
       "    <tr style=\"text-align: right;\">\n",
       "      <th></th>\n",
       "      <th></th>\n",
       "      <th>abstractSignalStr</th>\n",
       "      <th>latitude</th>\n",
       "      <th>longitude</th>\n",
       "      <th>movingSpeed</th>\n",
       "      <th>compassDirection</th>\n",
       "      <th>nrStatus</th>\n",
       "      <th>lte_rssi</th>\n",
       "      <th>lte_rsrp</th>\n",
       "      <th>lte_rsrq</th>\n",
       "      <th>lte_rssnr</th>\n",
       "      <th>nr_ssRsrp</th>\n",
       "      <th>nr_ssRsrq</th>\n",
       "      <th>nr_ssSinr</th>\n",
       "      <th>Throughput</th>\n",
       "      <th>mobility_mode</th>\n",
       "      <th>trajectory_direction</th>\n",
       "      <th>tower_id</th>\n",
       "    </tr>\n",
       "    <tr>\n",
       "      <th>run_num</th>\n",
       "      <th>seq_num</th>\n",
       "      <th></th>\n",
       "      <th></th>\n",
       "      <th></th>\n",
       "      <th></th>\n",
       "      <th></th>\n",
       "      <th></th>\n",
       "      <th></th>\n",
       "      <th></th>\n",
       "      <th></th>\n",
       "      <th></th>\n",
       "      <th></th>\n",
       "      <th></th>\n",
       "      <th></th>\n",
       "      <th></th>\n",
       "      <th></th>\n",
       "      <th></th>\n",
       "      <th></th>\n",
       "    </tr>\n",
       "  </thead>\n",
       "  <tbody>\n",
       "    <tr>\n",
       "      <th rowspan=\"5\" valign=\"top\">1</th>\n",
       "      <th>1.0</th>\n",
       "      <td>2</td>\n",
       "      <td>44.975314</td>\n",
       "      <td>-93.259316</td>\n",
       "      <td>0.094889</td>\n",
       "      <td>150</td>\n",
       "      <td>NOT_RESTRICTED</td>\n",
       "      <td>-61.0</td>\n",
       "      <td>-94</td>\n",
       "      <td>-14.0</td>\n",
       "      <td>2.147484e+09</td>\n",
       "      <td>NaN</td>\n",
       "      <td>NaN</td>\n",
       "      <td>NaN</td>\n",
       "      <td>78</td>\n",
       "      <td>driving</td>\n",
       "      <td>CW</td>\n",
       "      <td>16</td>\n",
       "    </tr>\n",
       "    <tr>\n",
       "      <th>2.0</th>\n",
       "      <td>2</td>\n",
       "      <td>44.975311</td>\n",
       "      <td>-93.259311</td>\n",
       "      <td>0.876634</td>\n",
       "      <td>117</td>\n",
       "      <td>NOT_RESTRICTED</td>\n",
       "      <td>-61.0</td>\n",
       "      <td>-94</td>\n",
       "      <td>-14.0</td>\n",
       "      <td>2.147484e+09</td>\n",
       "      <td>NaN</td>\n",
       "      <td>NaN</td>\n",
       "      <td>NaN</td>\n",
       "      <td>117</td>\n",
       "      <td>driving</td>\n",
       "      <td>CW</td>\n",
       "      <td>16</td>\n",
       "    </tr>\n",
       "    <tr>\n",
       "      <th>3.0</th>\n",
       "      <td>2</td>\n",
       "      <td>44.975305</td>\n",
       "      <td>-93.259292</td>\n",
       "      <td>2.225798</td>\n",
       "      <td>113</td>\n",
       "      <td>NOT_RESTRICTED</td>\n",
       "      <td>-61.0</td>\n",
       "      <td>-94</td>\n",
       "      <td>-14.0</td>\n",
       "      <td>2.147484e+09</td>\n",
       "      <td>NaN</td>\n",
       "      <td>NaN</td>\n",
       "      <td>NaN</td>\n",
       "      <td>110</td>\n",
       "      <td>driving</td>\n",
       "      <td>CW</td>\n",
       "      <td>16</td>\n",
       "    </tr>\n",
       "    <tr>\n",
       "      <th>4.0</th>\n",
       "      <td>2</td>\n",
       "      <td>44.975293</td>\n",
       "      <td>-93.259258</td>\n",
       "      <td>3.180726</td>\n",
       "      <td>114</td>\n",
       "      <td>NOT_RESTRICTED</td>\n",
       "      <td>-59.0</td>\n",
       "      <td>-95</td>\n",
       "      <td>-16.0</td>\n",
       "      <td>2.147484e+09</td>\n",
       "      <td>NaN</td>\n",
       "      <td>NaN</td>\n",
       "      <td>NaN</td>\n",
       "      <td>108</td>\n",
       "      <td>driving</td>\n",
       "      <td>CW</td>\n",
       "      <td>16</td>\n",
       "    </tr>\n",
       "    <tr>\n",
       "      <th>5.0</th>\n",
       "      <td>2</td>\n",
       "      <td>44.975278</td>\n",
       "      <td>-93.259214</td>\n",
       "      <td>3.751234</td>\n",
       "      <td>115</td>\n",
       "      <td>NOT_RESTRICTED</td>\n",
       "      <td>-59.0</td>\n",
       "      <td>-95</td>\n",
       "      <td>-16.0</td>\n",
       "      <td>2.147484e+09</td>\n",
       "      <td>NaN</td>\n",
       "      <td>NaN</td>\n",
       "      <td>NaN</td>\n",
       "      <td>100</td>\n",
       "      <td>driving</td>\n",
       "      <td>CW</td>\n",
       "      <td>16</td>\n",
       "    </tr>\n",
       "  </tbody>\n",
       "</table>\n",
       "</div>"
      ],
      "text/plain": [
       "                 abstractSignalStr   latitude  longitude  movingSpeed  \\\n",
       "run_num seq_num                                                         \n",
       "1       1.0                      2  44.975314 -93.259316     0.094889   \n",
       "        2.0                      2  44.975311 -93.259311     0.876634   \n",
       "        3.0                      2  44.975305 -93.259292     2.225798   \n",
       "        4.0                      2  44.975293 -93.259258     3.180726   \n",
       "        5.0                      2  44.975278 -93.259214     3.751234   \n",
       "\n",
       "                 compassDirection        nrStatus  lte_rssi  lte_rsrp  \\\n",
       "run_num seq_num                                                         \n",
       "1       1.0                   150  NOT_RESTRICTED     -61.0       -94   \n",
       "        2.0                   117  NOT_RESTRICTED     -61.0       -94   \n",
       "        3.0                   113  NOT_RESTRICTED     -61.0       -94   \n",
       "        4.0                   114  NOT_RESTRICTED     -59.0       -95   \n",
       "        5.0                   115  NOT_RESTRICTED     -59.0       -95   \n",
       "\n",
       "                 lte_rsrq     lte_rssnr  nr_ssRsrp  nr_ssRsrq  nr_ssSinr  \\\n",
       "run_num seq_num                                                            \n",
       "1       1.0         -14.0  2.147484e+09        NaN        NaN        NaN   \n",
       "        2.0         -14.0  2.147484e+09        NaN        NaN        NaN   \n",
       "        3.0         -14.0  2.147484e+09        NaN        NaN        NaN   \n",
       "        4.0         -16.0  2.147484e+09        NaN        NaN        NaN   \n",
       "        5.0         -16.0  2.147484e+09        NaN        NaN        NaN   \n",
       "\n",
       "                 Throughput mobility_mode trajectory_direction  tower_id  \n",
       "run_num seq_num                                                           \n",
       "1       1.0              78       driving                   CW        16  \n",
       "        2.0             117       driving                   CW        16  \n",
       "        3.0             110       driving                   CW        16  \n",
       "        4.0             108       driving                   CW        16  \n",
       "        5.0             100       driving                   CW        16  "
      ]
     },
     "execution_count": 4,
     "metadata": {},
     "output_type": "execute_result"
    }
   ],
   "source": [
    "df = pd.read_csv('Lumos5G-v1.0.csv',\n",
    "                index_col=['run_num', 'seq_num'])\n",
    "df.head(5)"
   ]
  },
  {
   "cell_type": "code",
   "execution_count": 5,
   "metadata": {},
   "outputs": [
    {
     "data": {
      "text/html": [
       "<div>\n",
       "<style scoped>\n",
       "    .dataframe tbody tr th:only-of-type {\n",
       "        vertical-align: middle;\n",
       "    }\n",
       "\n",
       "    .dataframe tbody tr th {\n",
       "        vertical-align: top;\n",
       "    }\n",
       "\n",
       "    .dataframe thead th {\n",
       "        text-align: right;\n",
       "    }\n",
       "</style>\n",
       "<table border=\"1\" class=\"dataframe\">\n",
       "  <thead>\n",
       "    <tr style=\"text-align: right;\">\n",
       "      <th></th>\n",
       "      <th></th>\n",
       "      <th>Throughput</th>\n",
       "    </tr>\n",
       "    <tr>\n",
       "      <th>run_num</th>\n",
       "      <th>seq_num</th>\n",
       "      <th></th>\n",
       "    </tr>\n",
       "  </thead>\n",
       "  <tbody>\n",
       "    <tr>\n",
       "      <th rowspan=\"5\" valign=\"top\">1</th>\n",
       "      <th>1.0</th>\n",
       "      <td>78</td>\n",
       "    </tr>\n",
       "    <tr>\n",
       "      <th>2.0</th>\n",
       "      <td>117</td>\n",
       "    </tr>\n",
       "    <tr>\n",
       "      <th>3.0</th>\n",
       "      <td>110</td>\n",
       "    </tr>\n",
       "    <tr>\n",
       "      <th>4.0</th>\n",
       "      <td>108</td>\n",
       "    </tr>\n",
       "    <tr>\n",
       "      <th>5.0</th>\n",
       "      <td>100</td>\n",
       "    </tr>\n",
       "  </tbody>\n",
       "</table>\n",
       "</div>"
      ],
      "text/plain": [
       "                 Throughput\n",
       "run_num seq_num            \n",
       "1       1.0              78\n",
       "        2.0             117\n",
       "        3.0             110\n",
       "        4.0             108\n",
       "        5.0             100"
      ]
     },
     "execution_count": 5,
     "metadata": {},
     "output_type": "execute_result"
    }
   ],
   "source": [
    "# select columns\n",
    "ndf = df[[\"Throughput\"]]\n",
    "ndf.head()"
   ]
  },
  {
   "cell_type": "code",
   "execution_count": 6,
   "metadata": {},
   "outputs": [
    {
     "name": "stdout",
     "output_type": "stream",
     "text": [
      "Max throughput: Throughput    1920\n",
      "dtype: int64\n",
      "Min throughput: Throughput    0\n",
      "dtype: int64\n"
     ]
    }
   ],
   "source": [
    "max_throughput = ndf.max()\n",
    "min_throughput = ndf.min()\n",
    "print(f'Max throughput: {max_throughput}')\n",
    "print(f'Min throughput: {min_throughput}')\n",
    "max_throughput = max_throughput.item() # get python int!"
   ]
  },
  {
   "cell_type": "code",
   "execution_count": 7,
   "metadata": {},
   "outputs": [
    {
     "data": {
      "text/html": [
       "<div>\n",
       "<style scoped>\n",
       "    .dataframe tbody tr th:only-of-type {\n",
       "        vertical-align: middle;\n",
       "    }\n",
       "\n",
       "    .dataframe tbody tr th {\n",
       "        vertical-align: top;\n",
       "    }\n",
       "\n",
       "    .dataframe thead th {\n",
       "        text-align: right;\n",
       "    }\n",
       "</style>\n",
       "<table border=\"1\" class=\"dataframe\">\n",
       "  <thead>\n",
       "    <tr style=\"text-align: right;\">\n",
       "      <th></th>\n",
       "      <th></th>\n",
       "      <th>Throughput</th>\n",
       "    </tr>\n",
       "    <tr>\n",
       "      <th>run_num</th>\n",
       "      <th>seq_num</th>\n",
       "      <th></th>\n",
       "    </tr>\n",
       "  </thead>\n",
       "  <tbody>\n",
       "    <tr>\n",
       "      <th rowspan=\"5\" valign=\"top\">1</th>\n",
       "      <th>1.0</th>\n",
       "      <td>0.040625</td>\n",
       "    </tr>\n",
       "    <tr>\n",
       "      <th>2.0</th>\n",
       "      <td>0.060937</td>\n",
       "    </tr>\n",
       "    <tr>\n",
       "      <th>3.0</th>\n",
       "      <td>0.057292</td>\n",
       "    </tr>\n",
       "    <tr>\n",
       "      <th>4.0</th>\n",
       "      <td>0.056250</td>\n",
       "    </tr>\n",
       "    <tr>\n",
       "      <th>5.0</th>\n",
       "      <td>0.052083</td>\n",
       "    </tr>\n",
       "  </tbody>\n",
       "</table>\n",
       "</div>"
      ],
      "text/plain": [
       "                 Throughput\n",
       "run_num seq_num            \n",
       "1       1.0        0.040625\n",
       "        2.0        0.060937\n",
       "        3.0        0.057292\n",
       "        4.0        0.056250\n",
       "        5.0        0.052083"
      ]
     },
     "execution_count": 7,
     "metadata": {},
     "output_type": "execute_result"
    }
   ],
   "source": [
    "# Min-Max Scaling\n",
    "df=(ndf-ndf.min())/(ndf.max()-ndf.min())\n",
    "df.head()"
   ]
  },
  {
   "cell_type": "markdown",
   "metadata": {},
   "source": [
    "## 2. Create Train-Test Sets"
   ]
  },
  {
   "cell_type": "code",
   "execution_count": 8,
   "metadata": {},
   "outputs": [],
   "source": [
    "# split function into sequences\n",
    "def multistep_split(seq, n_steps_in, n_steps_out):\n",
    "    X = list()\n",
    "    y = list()\n",
    "    for i in range(len(seq)):\n",
    "        # pattern end\n",
    "        end_ix = i + n_steps_in\n",
    "        out_end_ix = end_ix + n_steps_out\n",
    "        if out_end_ix > len(seq):\n",
    "            break\n",
    "        seq_x = seq[i:end_ix]\n",
    "        seq_y = seq[end_ix:out_end_ix, -1]\n",
    "        X.append(seq_x)\n",
    "        y.append(seq_y)\n",
    "    return np.array(X), np.array(y)"
   ]
  },
  {
   "cell_type": "code",
   "execution_count": 9,
   "metadata": {},
   "outputs": [
    {
     "name": "stdout",
     "output_type": "stream",
     "text": [
      "(64696, 20)\n",
      "(64696, 10)\n"
     ]
    }
   ],
   "source": [
    "# separately splits runs into sequences\n",
    "run_max=df.index.max()[0]\n",
    "seconds_in = 20 # previous steps\n",
    "seconds_out = 10 # forecast steps\n",
    "X_list = list()\n",
    "y_list = list()\n",
    "for run_num in range(1, run_max+1):\n",
    "    run = df.loc[run_num].values\n",
    "    X, y = multistep_split(run.astype('float32'), n_steps_in=seconds_in, n_steps_out=seconds_out)\n",
    "    X_list.append(X)\n",
    "    y_list.append(y)\n",
    "X = np.concatenate(X_list)\n",
    "y = np.concatenate(y_list)\n",
    "X = X.reshape((X.shape[0], X.shape[1]))\n",
    "print(X.shape)\n",
    "print(y.shape)"
   ]
  },
  {
   "cell_type": "code",
   "execution_count": 10,
   "metadata": {},
   "outputs": [
    {
     "name": "stdout",
     "output_type": "stream",
     "text": [
      "(51756, 20)\n",
      "(51756, 10)\n",
      "(12940, 20)\n",
      "(12940, 10)\n"
     ]
    }
   ],
   "source": [
    "ratio=0.8\n",
    "train_size = int(ratio*X.shape[0])\n",
    "X_train = X[:train_size]\n",
    "y_train = y[:train_size]\n",
    "X_test = X[train_size:]\n",
    "y_test = y[train_size:]\n",
    "print(X_train.shape)\n",
    "print(y_train.shape)\n",
    "print(X_test.shape)\n",
    "print(y_test.shape)"
   ]
  },
  {
   "cell_type": "code",
   "execution_count": 11,
   "metadata": {},
   "outputs": [],
   "source": [
    "# reshape inputs into 3d \n",
    "X_train = X_train.reshape((X_train.shape[0], X_train.shape[1], 1))\n",
    "X_test = X_test.reshape((X_test.shape[0], X_test.shape[1], 1))"
   ]
  },
  {
   "cell_type": "markdown",
   "metadata": {},
   "source": [
    "## 3. Simple LSTM"
   ]
  },
  {
   "cell_type": "code",
   "execution_count": 12,
   "metadata": {},
   "outputs": [],
   "source": [
    "def simple_lstm(seconds_in, seconds_out, lr=0.0001, ls='mean_squared_error'):\n",
    "    # define layers\n",
    "    inputs = tf.keras.Input(shape=(seconds_in, 1))\n",
    "    lstm = tf.keras.layers.LSTM(128, activation='tanh')\n",
    "    dense1 = tf.keras.layers.Dense(128, activation='relu')\n",
    "    outputs = tf.keras.layers.Dense(seconds_out, activation='linear')\n",
    "    layers = [inputs, lstm, dense1, outputs]\n",
    "    # create model\n",
    "    model = tf.keras.Sequential(layers)\n",
    "    model.summary()\n",
    "    # compile model\n",
    "    opt = tf.keras.optimizers.Adam(learning_rate=lr)\n",
    "    rmse = tf.keras.metrics.RootMeanSquaredError()\n",
    "    mae = tf.keras.metrics.MeanAbsoluteError()\n",
    "    model.compile(optimizer=opt, loss=ls, metrics=[rmse, mae])\n",
    "    return model"
   ]
  },
  {
   "cell_type": "markdown",
   "metadata": {},
   "source": [
    "## 4. Stacked LSTM"
   ]
  },
  {
   "cell_type": "code",
   "execution_count": 13,
   "metadata": {},
   "outputs": [],
   "source": [
    "def stacked_lstm(seconds_in, seconds_out, lr=0.0001, ls='mean_squared_error'):\n",
    "    # define layers\n",
    "    inputs = tf.keras.Input(shape=(seconds_in, 1))\n",
    "    lstm1 = tf.keras.layers.LSTM(32, activation='tanh',\n",
    "                                 return_sequences=True)\n",
    "    lstm2 = tf.keras.layers.LSTM(32, activation='tanh')\n",
    "    dense1 = tf.keras.layers.Dense(64, activation='relu')\n",
    "    outputs = tf.keras.layers.Dense(seconds_out, activation='linear')\n",
    "    layers = [inputs, lstm1, lstm2, dense1, outputs]\n",
    "    # create model\n",
    "    model = tf.keras.models.Sequential(layers)\n",
    "    model.summary()\n",
    "    # compile model\n",
    "    opt = tf.keras.optimizers.Adam(learning_rate=lr)\n",
    "    rmse = tf.keras.metrics.RootMeanSquaredError()\n",
    "    mae = tf.keras.metrics.MeanAbsoluteError()\n",
    "    model.compile(optimizer=opt, loss=ls, metrics=[rmse, mae])    \n",
    "    return model"
   ]
  },
  {
   "cell_type": "markdown",
   "metadata": {},
   "source": [
    "## 5. Encoder-Decoder LSTM"
   ]
  },
  {
   "cell_type": "code",
   "execution_count": 14,
   "metadata": {},
   "outputs": [],
   "source": [
    "def encoder_decoder_lstm(seconds_in, seconds_out, lr=0.0001, ls='mean_squared_error'):\n",
    "    # define layers\n",
    "    inputs = tf.keras.Input(shape=(seconds_in, 1))\n",
    "    encoder = tf.keras.layers.LSTM(32, activation='tanh')\n",
    "    vector = tf.keras.layers.RepeatVector(seconds_out)\n",
    "    decoder = tf.keras.layers.LSTM(32, activation='tanh',\n",
    "                                        return_sequences=True)\n",
    "    output = tf.keras.layers.Dense(1, activation='linear')\n",
    "    outputs = tf.keras.layers.TimeDistributed(output)\n",
    "    layers = [inputs, encoder, vector, decoder, outputs]\n",
    "    # create model\n",
    "    model = tf.keras.models.Sequential(layers)\n",
    "    model.summary()\n",
    "    # compile model\n",
    "    opt = tf.keras.optimizers.Adam(learning_rate=lr)\n",
    "    rmse = tf.keras.metrics.RootMeanSquaredError()\n",
    "    mae = tf.keras.metrics.MeanAbsoluteError()\n",
    "    model.compile(optimizer=opt, loss=ls, metrics=[rmse, mae])\n",
    "    return model"
   ]
  },
  {
   "cell_type": "markdown",
   "metadata": {},
   "source": [
    "## 6. Bidirectional LSTM"
   ]
  },
  {
   "cell_type": "code",
   "execution_count": 15,
   "metadata": {},
   "outputs": [],
   "source": [
    "def bidirectional_lstm(seconds_in, seconds_out, lr=0.0001, ls='mean_squared_error'):\n",
    "    # define layers\n",
    "    inputs = tf.keras.Input(shape=(seconds_in, 1))\n",
    "    lstm = tf.keras.layers.LSTM(16, activation='tanh',\n",
    "                                return_sequences=True)\n",
    "    bidirect = tf.keras.layers.Bidirectional(lstm)\n",
    "    output = tf.keras.layers.Dense(1, activation='linear')\n",
    "    outputs = tf.keras.layers.TimeDistributed(output)\n",
    "    layers = [inputs, bidirect, outputs]\n",
    "    # create model\n",
    "    model = tf.keras.models.Sequential(layers)\n",
    "    model.summary()\n",
    "    # compile model\n",
    "    opt = tf.keras.optimizers.Adam(learning_rate=lr)\n",
    "    rmse = tf.keras.metrics.RootMeanSquaredError()\n",
    "    mae = tf.keras.metrics.MeanAbsoluteError()\n",
    "    model.compile(optimizer=opt, loss=ls, metrics=[rmse, mae])\n",
    "    return model"
   ]
  },
  {
   "cell_type": "code",
   "execution_count": 16,
   "metadata": {},
   "outputs": [
    {
     "name": "stdout",
     "output_type": "stream",
     "text": [
      "Model: \"sequential\"\n",
      "_________________________________________________________________\n",
      "Layer (type)                 Output Shape              Param #   \n",
      "=================================================================\n",
      "lstm (LSTM)                  (None, 128)               66560     \n",
      "_________________________________________________________________\n",
      "dense (Dense)                (None, 128)               16512     \n",
      "_________________________________________________________________\n",
      "dense_1 (Dense)              (None, 10)                1290      \n",
      "=================================================================\n",
      "Total params: 84,362\n",
      "Trainable params: 84,362\n",
      "Non-trainable params: 0\n",
      "_________________________________________________________________\n"
     ]
    }
   ],
   "source": [
    "model = simple_lstm(seconds_in, seconds_out, lr=0.00001, ls='mean_squared_error')\n",
    "#model = stacked_lstm(seconds_in, seconds_out, lr=0.0001, ls='mean_absolute_error')\n",
    "#model = encoder_decoder_lstm(seconds_in, seconds_out, lr=0.0001, ls='mean_absolute_error')\n",
    "#model = bidirectional_lstm(seconds_in, seconds_out, lr=0.0001, ls='mean_absolute_error')"
   ]
  },
  {
   "cell_type": "markdown",
   "metadata": {},
   "source": [
    "## 4. Train LSTM"
   ]
  },
  {
   "cell_type": "code",
   "execution_count": 17,
   "metadata": {},
   "outputs": [
    {
     "name": "stdout",
     "output_type": "stream",
     "text": [
      "Epoch 1/100\n",
      "1618/1618 [==============================] - 9s 5ms/step - loss: 0.0587 - root_mean_squared_error: 0.2423 - mean_absolute_error: 0.1815 - val_loss: 0.0342 - val_root_mean_squared_error: 0.1849 - val_mean_absolute_error: 0.1450\n",
      "Epoch 2/100\n",
      "1618/1618 [==============================] - 8s 5ms/step - loss: 0.0357 - root_mean_squared_error: 0.1890 - mean_absolute_error: 0.1490 - val_loss: 0.0311 - val_root_mean_squared_error: 0.1764 - val_mean_absolute_error: 0.1371\n",
      "Epoch 3/100\n",
      "1618/1618 [==============================] - 8s 5ms/step - loss: 0.0331 - root_mean_squared_error: 0.1819 - mean_absolute_error: 0.1410 - val_loss: 0.0295 - val_root_mean_squared_error: 0.1717 - val_mean_absolute_error: 0.1309\n",
      "Epoch 4/100\n",
      "1618/1618 [==============================] - 9s 5ms/step - loss: 0.0320 - root_mean_squared_error: 0.1788 - mean_absolute_error: 0.1368 - val_loss: 0.0285 - val_root_mean_squared_error: 0.1688 - val_mean_absolute_error: 0.1271\n",
      "Epoch 5/100\n",
      "1618/1618 [==============================] - 8s 5ms/step - loss: 0.0312 - root_mean_squared_error: 0.1766 - mean_absolute_error: 0.1341 - val_loss: 0.0279 - val_root_mean_squared_error: 0.1671 - val_mean_absolute_error: 0.1248\n",
      "Epoch 6/100\n",
      "1618/1618 [==============================] - 8s 5ms/step - loss: 0.0306 - root_mean_squared_error: 0.1749 - mean_absolute_error: 0.1318 - val_loss: 0.0275 - val_root_mean_squared_error: 0.1658 - val_mean_absolute_error: 0.1232\n",
      "Epoch 7/100\n",
      "1618/1618 [==============================] - 9s 5ms/step - loss: 0.0301 - root_mean_squared_error: 0.1735 - mean_absolute_error: 0.1300 - val_loss: 0.0268 - val_root_mean_squared_error: 0.1637 - val_mean_absolute_error: 0.1207\n",
      "Epoch 8/100\n",
      "1618/1618 [==============================] - 8s 5ms/step - loss: 0.0297 - root_mean_squared_error: 0.1724 - mean_absolute_error: 0.1283 - val_loss: 0.0265 - val_root_mean_squared_error: 0.1628 - val_mean_absolute_error: 0.1196\n",
      "Epoch 9/100\n",
      "1618/1618 [==============================] - 8s 5ms/step - loss: 0.0294 - root_mean_squared_error: 0.1715 - mean_absolute_error: 0.1273 - val_loss: 0.0262 - val_root_mean_squared_error: 0.1619 - val_mean_absolute_error: 0.1180\n",
      "Epoch 10/100\n",
      "1618/1618 [==============================] - 8s 5ms/step - loss: 0.0292 - root_mean_squared_error: 0.1709 - mean_absolute_error: 0.1263 - val_loss: 0.0262 - val_root_mean_squared_error: 0.1618 - val_mean_absolute_error: 0.1173\n",
      "Epoch 11/100\n",
      "1618/1618 [==============================] - 8s 5ms/step - loss: 0.0290 - root_mean_squared_error: 0.1703 - mean_absolute_error: 0.1254 - val_loss: 0.0258 - val_root_mean_squared_error: 0.1607 - val_mean_absolute_error: 0.1162\n",
      "Epoch 12/100\n",
      "1618/1618 [==============================] - 8s 5ms/step - loss: 0.0288 - root_mean_squared_error: 0.1698 - mean_absolute_error: 0.1247 - val_loss: 0.0257 - val_root_mean_squared_error: 0.1604 - val_mean_absolute_error: 0.1153\n",
      "Epoch 13/100\n",
      "1618/1618 [==============================] - 8s 5ms/step - loss: 0.0287 - root_mean_squared_error: 0.1695 - mean_absolute_error: 0.1241 - val_loss: 0.0257 - val_root_mean_squared_error: 0.1603 - val_mean_absolute_error: 0.1157\n",
      "Epoch 14/100\n",
      "1618/1618 [==============================] - 8s 5ms/step - loss: 0.0286 - root_mean_squared_error: 0.1691 - mean_absolute_error: 0.1236 - val_loss: 0.0255 - val_root_mean_squared_error: 0.1597 - val_mean_absolute_error: 0.1137\n",
      "Epoch 15/100\n",
      "1618/1618 [==============================] - 8s 5ms/step - loss: 0.0285 - root_mean_squared_error: 0.1689 - mean_absolute_error: 0.1232 - val_loss: 0.0258 - val_root_mean_squared_error: 0.1605 - val_mean_absolute_error: 0.1156\n",
      "Epoch 16/100\n",
      "1618/1618 [==============================] - 8s 5ms/step - loss: 0.0284 - root_mean_squared_error: 0.1686 - mean_absolute_error: 0.1228 - val_loss: 0.0253 - val_root_mean_squared_error: 0.1592 - val_mean_absolute_error: 0.1134\n",
      "Epoch 17/100\n",
      "1618/1618 [==============================] - 8s 5ms/step - loss: 0.0284 - root_mean_squared_error: 0.1685 - mean_absolute_error: 0.1226 - val_loss: 0.0254 - val_root_mean_squared_error: 0.1595 - val_mean_absolute_error: 0.1142\n",
      "Epoch 18/100\n",
      "1618/1618 [==============================] - 9s 5ms/step - loss: 0.0283 - root_mean_squared_error: 0.1683 - mean_absolute_error: 0.1224 - val_loss: 0.0253 - val_root_mean_squared_error: 0.1589 - val_mean_absolute_error: 0.1128\n",
      "Epoch 19/100\n",
      "1618/1618 [==============================] - 8s 5ms/step - loss: 0.0283 - root_mean_squared_error: 0.1681 - mean_absolute_error: 0.1221 - val_loss: 0.0257 - val_root_mean_squared_error: 0.1602 - val_mean_absolute_error: 0.1146\n",
      "Epoch 20/100\n",
      "1618/1618 [==============================] - 8s 5ms/step - loss: 0.0282 - root_mean_squared_error: 0.1681 - mean_absolute_error: 0.1218 - val_loss: 0.0252 - val_root_mean_squared_error: 0.1588 - val_mean_absolute_error: 0.1123\n",
      "Epoch 21/100\n",
      "1618/1618 [==============================] - 9s 5ms/step - loss: 0.0282 - root_mean_squared_error: 0.1679 - mean_absolute_error: 0.1217 - val_loss: 0.0252 - val_root_mean_squared_error: 0.1586 - val_mean_absolute_error: 0.1128\n",
      "Epoch 22/100\n",
      "1618/1618 [==============================] - 9s 5ms/step - loss: 0.0282 - root_mean_squared_error: 0.1679 - mean_absolute_error: 0.1216 - val_loss: 0.0251 - val_root_mean_squared_error: 0.1585 - val_mean_absolute_error: 0.1117\n",
      "Epoch 23/100\n",
      "1618/1618 [==============================] - 8s 5ms/step - loss: 0.0281 - root_mean_squared_error: 0.1677 - mean_absolute_error: 0.1213 - val_loss: 0.0251 - val_root_mean_squared_error: 0.1585 - val_mean_absolute_error: 0.1126\n",
      "Epoch 24/100\n",
      "1618/1618 [==============================] - 9s 5ms/step - loss: 0.0281 - root_mean_squared_error: 0.1677 - mean_absolute_error: 0.1213 - val_loss: 0.0250 - val_root_mean_squared_error: 0.1581 - val_mean_absolute_error: 0.1109\n",
      "Epoch 25/100\n",
      "1618/1618 [==============================] - 8s 5ms/step - loss: 0.0281 - root_mean_squared_error: 0.1677 - mean_absolute_error: 0.1211 - val_loss: 0.0251 - val_root_mean_squared_error: 0.1583 - val_mean_absolute_error: 0.1122\n",
      "Epoch 26/100\n",
      "1618/1618 [==============================] - 9s 5ms/step - loss: 0.0281 - root_mean_squared_error: 0.1676 - mean_absolute_error: 0.1211 - val_loss: 0.0251 - val_root_mean_squared_error: 0.1583 - val_mean_absolute_error: 0.1112\n",
      "Epoch 27/100\n",
      "1618/1618 [==============================] - 8s 5ms/step - loss: 0.0281 - root_mean_squared_error: 0.1676 - mean_absolute_error: 0.1210 - val_loss: 0.0250 - val_root_mean_squared_error: 0.1582 - val_mean_absolute_error: 0.1119\n",
      "Epoch 28/100\n",
      "1618/1618 [==============================] - 8s 5ms/step - loss: 0.0280 - root_mean_squared_error: 0.1675 - mean_absolute_error: 0.1209 - val_loss: 0.0250 - val_root_mean_squared_error: 0.1581 - val_mean_absolute_error: 0.1112\n",
      "Epoch 29/100\n",
      "1618/1618 [==============================] - 9s 5ms/step - loss: 0.0280 - root_mean_squared_error: 0.1674 - mean_absolute_error: 0.1208 - val_loss: 0.0249 - val_root_mean_squared_error: 0.1580 - val_mean_absolute_error: 0.1102\n",
      "Epoch 30/100\n",
      "1618/1618 [==============================] - 9s 5ms/step - loss: 0.0280 - root_mean_squared_error: 0.1674 - mean_absolute_error: 0.1207 - val_loss: 0.0250 - val_root_mean_squared_error: 0.1582 - val_mean_absolute_error: 0.1123\n",
      "Epoch 31/100\n",
      "1618/1618 [==============================] - 9s 5ms/step - loss: 0.0280 - root_mean_squared_error: 0.1674 - mean_absolute_error: 0.1207 - val_loss: 0.0252 - val_root_mean_squared_error: 0.1586 - val_mean_absolute_error: 0.1125\n",
      "Epoch 32/100\n",
      "1618/1618 [==============================] - 9s 5ms/step - loss: 0.0280 - root_mean_squared_error: 0.1674 - mean_absolute_error: 0.1206 - val_loss: 0.0251 - val_root_mean_squared_error: 0.1586 - val_mean_absolute_error: 0.1130\n",
      "Epoch 33/100\n",
      "1618/1618 [==============================] - 9s 5ms/step - loss: 0.0280 - root_mean_squared_error: 0.1673 - mean_absolute_error: 0.1205 - val_loss: 0.0249 - val_root_mean_squared_error: 0.1578 - val_mean_absolute_error: 0.1105\n",
      "Epoch 34/100\n",
      "1618/1618 [==============================] - 9s 5ms/step - loss: 0.0280 - root_mean_squared_error: 0.1673 - mean_absolute_error: 0.1206 - val_loss: 0.0252 - val_root_mean_squared_error: 0.1588 - val_mean_absolute_error: 0.1124\n",
      "Epoch 35/100\n"
     ]
    },
    {
     "name": "stdout",
     "output_type": "stream",
     "text": [
      "1618/1618 [==============================] - 9s 5ms/step - loss: 0.0280 - root_mean_squared_error: 0.1672 - mean_absolute_error: 0.1205 - val_loss: 0.0249 - val_root_mean_squared_error: 0.1577 - val_mean_absolute_error: 0.1097\n",
      "Epoch 36/100\n",
      "1618/1618 [==============================] - 8s 5ms/step - loss: 0.0279 - root_mean_squared_error: 0.1672 - mean_absolute_error: 0.1204 - val_loss: 0.0256 - val_root_mean_squared_error: 0.1602 - val_mean_absolute_error: 0.1138\n",
      "Epoch 37/100\n",
      "1618/1618 [==============================] - 8s 5ms/step - loss: 0.0280 - root_mean_squared_error: 0.1672 - mean_absolute_error: 0.1204 - val_loss: 0.0251 - val_root_mean_squared_error: 0.1585 - val_mean_absolute_error: 0.1118\n",
      "Epoch 38/100\n",
      "1618/1618 [==============================] - 8s 5ms/step - loss: 0.0279 - root_mean_squared_error: 0.1672 - mean_absolute_error: 0.1203 - val_loss: 0.0250 - val_root_mean_squared_error: 0.1581 - val_mean_absolute_error: 0.1109\n",
      "Epoch 39/100\n",
      "1618/1618 [==============================] - 9s 5ms/step - loss: 0.0279 - root_mean_squared_error: 0.1671 - mean_absolute_error: 0.1202 - val_loss: 0.0249 - val_root_mean_squared_error: 0.1577 - val_mean_absolute_error: 0.1105\n",
      "Epoch 40/100\n",
      "1618/1618 [==============================] - 8s 5ms/step - loss: 0.0279 - root_mean_squared_error: 0.1671 - mean_absolute_error: 0.1203 - val_loss: 0.0249 - val_root_mean_squared_error: 0.1578 - val_mean_absolute_error: 0.1108\n",
      "Epoch 41/100\n",
      "1618/1618 [==============================] - 8s 5ms/step - loss: 0.0279 - root_mean_squared_error: 0.1671 - mean_absolute_error: 0.1203 - val_loss: 0.0248 - val_root_mean_squared_error: 0.1576 - val_mean_absolute_error: 0.1092\n",
      "Epoch 42/100\n",
      "1618/1618 [==============================] - 8s 5ms/step - loss: 0.0279 - root_mean_squared_error: 0.1670 - mean_absolute_error: 0.1201 - val_loss: 0.0249 - val_root_mean_squared_error: 0.1579 - val_mean_absolute_error: 0.1106\n",
      "Epoch 43/100\n",
      "1618/1618 [==============================] - 8s 5ms/step - loss: 0.0279 - root_mean_squared_error: 0.1670 - mean_absolute_error: 0.1201 - val_loss: 0.0249 - val_root_mean_squared_error: 0.1577 - val_mean_absolute_error: 0.1107\n",
      "Epoch 44/100\n",
      "1618/1618 [==============================] - 9s 5ms/step - loss: 0.0279 - root_mean_squared_error: 0.1669 - mean_absolute_error: 0.1201 - val_loss: 0.0250 - val_root_mean_squared_error: 0.1582 - val_mean_absolute_error: 0.1106\n",
      "Epoch 45/100\n",
      "1618/1618 [==============================] - 8s 5ms/step - loss: 0.0279 - root_mean_squared_error: 0.1670 - mean_absolute_error: 0.1201 - val_loss: 0.0252 - val_root_mean_squared_error: 0.1587 - val_mean_absolute_error: 0.1118\n",
      "Epoch 46/100\n",
      "1618/1618 [==============================] - 9s 5ms/step - loss: 0.0279 - root_mean_squared_error: 0.1670 - mean_absolute_error: 0.1201 - val_loss: 0.0249 - val_root_mean_squared_error: 0.1577 - val_mean_absolute_error: 0.1108\n",
      "Epoch 47/100\n",
      "1618/1618 [==============================] - 9s 5ms/step - loss: 0.0279 - root_mean_squared_error: 0.1669 - mean_absolute_error: 0.1200 - val_loss: 0.0248 - val_root_mean_squared_error: 0.1575 - val_mean_absolute_error: 0.1100\n",
      "Epoch 48/100\n",
      "1618/1618 [==============================] - 9s 5ms/step - loss: 0.0279 - root_mean_squared_error: 0.1670 - mean_absolute_error: 0.1201 - val_loss: 0.0251 - val_root_mean_squared_error: 0.1585 - val_mean_absolute_error: 0.1121\n",
      "Epoch 49/100\n",
      "1618/1618 [==============================] - 9s 5ms/step - loss: 0.0279 - root_mean_squared_error: 0.1669 - mean_absolute_error: 0.1200 - val_loss: 0.0255 - val_root_mean_squared_error: 0.1597 - val_mean_absolute_error: 0.1130\n",
      "Epoch 50/100\n",
      "1618/1618 [==============================] - 9s 5ms/step - loss: 0.0278 - root_mean_squared_error: 0.1669 - mean_absolute_error: 0.1199 - val_loss: 0.0248 - val_root_mean_squared_error: 0.1575 - val_mean_absolute_error: 0.1105\n",
      "Epoch 51/100\n",
      "1618/1618 [==============================] - 9s 5ms/step - loss: 0.0278 - root_mean_squared_error: 0.1669 - mean_absolute_error: 0.1200 - val_loss: 0.0248 - val_root_mean_squared_error: 0.1575 - val_mean_absolute_error: 0.1104\n",
      "Epoch 52/100\n",
      "1618/1618 [==============================] - 8s 5ms/step - loss: 0.0278 - root_mean_squared_error: 0.1668 - mean_absolute_error: 0.1199 - val_loss: 0.0249 - val_root_mean_squared_error: 0.1578 - val_mean_absolute_error: 0.1111\n",
      "Epoch 53/100\n",
      "1618/1618 [==============================] - 8s 5ms/step - loss: 0.0278 - root_mean_squared_error: 0.1668 - mean_absolute_error: 0.1199 - val_loss: 0.0248 - val_root_mean_squared_error: 0.1576 - val_mean_absolute_error: 0.1102\n",
      "Epoch 54/100\n",
      "1618/1618 [==============================] - 8s 5ms/step - loss: 0.0278 - root_mean_squared_error: 0.1668 - mean_absolute_error: 0.1199 - val_loss: 0.0248 - val_root_mean_squared_error: 0.1573 - val_mean_absolute_error: 0.1095\n",
      "Epoch 55/100\n",
      "1618/1618 [==============================] - 8s 5ms/step - loss: 0.0278 - root_mean_squared_error: 0.1667 - mean_absolute_error: 0.1198 - val_loss: 0.0248 - val_root_mean_squared_error: 0.1576 - val_mean_absolute_error: 0.1103\n",
      "Epoch 56/100\n",
      "1618/1618 [==============================] - 8s 5ms/step - loss: 0.0278 - root_mean_squared_error: 0.1667 - mean_absolute_error: 0.1199 - val_loss: 0.0248 - val_root_mean_squared_error: 0.1575 - val_mean_absolute_error: 0.1097\n",
      "Epoch 57/100\n",
      "1618/1618 [==============================] - 9s 5ms/step - loss: 0.0278 - root_mean_squared_error: 0.1667 - mean_absolute_error: 0.1198 - val_loss: 0.0248 - val_root_mean_squared_error: 0.1575 - val_mean_absolute_error: 0.1094\n",
      "Epoch 58/100\n",
      "1618/1618 [==============================] - 8s 5ms/step - loss: 0.0278 - root_mean_squared_error: 0.1667 - mean_absolute_error: 0.1198 - val_loss: 0.0247 - val_root_mean_squared_error: 0.1573 - val_mean_absolute_error: 0.1093\n",
      "Epoch 59/100\n",
      "1618/1618 [==============================] - 9s 5ms/step - loss: 0.0278 - root_mean_squared_error: 0.1667 - mean_absolute_error: 0.1197 - val_loss: 0.0247 - val_root_mean_squared_error: 0.1572 - val_mean_absolute_error: 0.1096\n",
      "Epoch 60/100\n",
      "1618/1618 [==============================] - 9s 5ms/step - loss: 0.0278 - root_mean_squared_error: 0.1666 - mean_absolute_error: 0.1198 - val_loss: 0.0249 - val_root_mean_squared_error: 0.1576 - val_mean_absolute_error: 0.1107\n",
      "Epoch 61/100\n",
      "1618/1618 [==============================] - 9s 5ms/step - loss: 0.0278 - root_mean_squared_error: 0.1666 - mean_absolute_error: 0.1198 - val_loss: 0.0248 - val_root_mean_squared_error: 0.1575 - val_mean_absolute_error: 0.1098\n",
      "Epoch 62/100\n",
      "1618/1618 [==============================] - 9s 5ms/step - loss: 0.0277 - root_mean_squared_error: 0.1666 - mean_absolute_error: 0.1197 - val_loss: 0.0248 - val_root_mean_squared_error: 0.1576 - val_mean_absolute_error: 0.1096\n",
      "Epoch 63/100\n",
      "1618/1618 [==============================] - 9s 5ms/step - loss: 0.0278 - root_mean_squared_error: 0.1666 - mean_absolute_error: 0.1197 - val_loss: 0.0248 - val_root_mean_squared_error: 0.1574 - val_mean_absolute_error: 0.1104\n",
      "Epoch 64/100\n",
      "1618/1618 [==============================] - 9s 5ms/step - loss: 0.0277 - root_mean_squared_error: 0.1665 - mean_absolute_error: 0.1196 - val_loss: 0.0248 - val_root_mean_squared_error: 0.1575 - val_mean_absolute_error: 0.1108\n",
      "Epoch 65/100\n",
      "1618/1618 [==============================] - 8s 5ms/step - loss: 0.0277 - root_mean_squared_error: 0.1665 - mean_absolute_error: 0.1197 - val_loss: 0.0250 - val_root_mean_squared_error: 0.1580 - val_mean_absolute_error: 0.1110\n",
      "Epoch 66/100\n",
      "1618/1618 [==============================] - 9s 5ms/step - loss: 0.0277 - root_mean_squared_error: 0.1665 - mean_absolute_error: 0.1196 - val_loss: 0.0247 - val_root_mean_squared_error: 0.1572 - val_mean_absolute_error: 0.1095\n",
      "Epoch 67/100\n",
      "1618/1618 [==============================] - 9s 5ms/step - loss: 0.0277 - root_mean_squared_error: 0.1664 - mean_absolute_error: 0.1196 - val_loss: 0.0247 - val_root_mean_squared_error: 0.1572 - val_mean_absolute_error: 0.1092\n",
      "Epoch 68/100\n",
      "1618/1618 [==============================] - 9s 5ms/step - loss: 0.0277 - root_mean_squared_error: 0.1664 - mean_absolute_error: 0.1196 - val_loss: 0.0247 - val_root_mean_squared_error: 0.1571 - val_mean_absolute_error: 0.1089\n",
      "Epoch 69/100\n"
     ]
    },
    {
     "name": "stdout",
     "output_type": "stream",
     "text": [
      "1618/1618 [==============================] - 9s 5ms/step - loss: 0.0277 - root_mean_squared_error: 0.1664 - mean_absolute_error: 0.1195 - val_loss: 0.0247 - val_root_mean_squared_error: 0.1571 - val_mean_absolute_error: 0.1092\n",
      "Epoch 70/100\n",
      "1618/1618 [==============================] - 9s 5ms/step - loss: 0.0277 - root_mean_squared_error: 0.1664 - mean_absolute_error: 0.1196 - val_loss: 0.0253 - val_root_mean_squared_error: 0.1589 - val_mean_absolute_error: 0.1123\n",
      "Epoch 71/100\n",
      "1618/1618 [==============================] - 9s 5ms/step - loss: 0.0277 - root_mean_squared_error: 0.1664 - mean_absolute_error: 0.1195 - val_loss: 0.0248 - val_root_mean_squared_error: 0.1574 - val_mean_absolute_error: 0.1103\n",
      "Epoch 72/100\n",
      "1618/1618 [==============================] - 9s 5ms/step - loss: 0.0277 - root_mean_squared_error: 0.1663 - mean_absolute_error: 0.1196 - val_loss: 0.0249 - val_root_mean_squared_error: 0.1578 - val_mean_absolute_error: 0.1107\n",
      "Epoch 73/100\n",
      "1618/1618 [==============================] - 9s 5ms/step - loss: 0.0277 - root_mean_squared_error: 0.1663 - mean_absolute_error: 0.1195 - val_loss: 0.0247 - val_root_mean_squared_error: 0.1571 - val_mean_absolute_error: 0.1090\n",
      "Epoch 74/100\n",
      "1618/1618 [==============================] - 9s 5ms/step - loss: 0.0276 - root_mean_squared_error: 0.1663 - mean_absolute_error: 0.1195 - val_loss: 0.0247 - val_root_mean_squared_error: 0.1573 - val_mean_absolute_error: 0.1100\n",
      "Epoch 75/100\n",
      "1618/1618 [==============================] - 8s 5ms/step - loss: 0.0277 - root_mean_squared_error: 0.1663 - mean_absolute_error: 0.1195 - val_loss: 0.0250 - val_root_mean_squared_error: 0.1580 - val_mean_absolute_error: 0.1106\n",
      "Epoch 76/100\n",
      "1618/1618 [==============================] - 8s 5ms/step - loss: 0.0276 - root_mean_squared_error: 0.1663 - mean_absolute_error: 0.1195 - val_loss: 0.0247 - val_root_mean_squared_error: 0.1573 - val_mean_absolute_error: 0.1092\n",
      "Epoch 77/100\n",
      "1618/1618 [==============================] - 9s 5ms/step - loss: 0.0276 - root_mean_squared_error: 0.1662 - mean_absolute_error: 0.1194 - val_loss: 0.0247 - val_root_mean_squared_error: 0.1572 - val_mean_absolute_error: 0.1103\n",
      "Epoch 78/100\n",
      "1618/1618 [==============================] - 9s 5ms/step - loss: 0.0276 - root_mean_squared_error: 0.1663 - mean_absolute_error: 0.1195 - val_loss: 0.0247 - val_root_mean_squared_error: 0.1571 - val_mean_absolute_error: 0.1092\n",
      "Epoch 79/100\n",
      "1618/1618 [==============================] - 9s 5ms/step - loss: 0.0276 - root_mean_squared_error: 0.1662 - mean_absolute_error: 0.1194 - val_loss: 0.0249 - val_root_mean_squared_error: 0.1579 - val_mean_absolute_error: 0.1107\n",
      "Epoch 80/100\n",
      "1618/1618 [==============================] - 9s 5ms/step - loss: 0.0276 - root_mean_squared_error: 0.1662 - mean_absolute_error: 0.1194 - val_loss: 0.0248 - val_root_mean_squared_error: 0.1576 - val_mean_absolute_error: 0.1100\n",
      "Epoch 81/100\n",
      "1618/1618 [==============================] - 9s 5ms/step - loss: 0.0276 - root_mean_squared_error: 0.1662 - mean_absolute_error: 0.1194 - val_loss: 0.0248 - val_root_mean_squared_error: 0.1575 - val_mean_absolute_error: 0.1097\n",
      "Epoch 82/100\n",
      "1618/1618 [==============================] - 9s 5ms/step - loss: 0.0276 - root_mean_squared_error: 0.1662 - mean_absolute_error: 0.1194 - val_loss: 0.0247 - val_root_mean_squared_error: 0.1570 - val_mean_absolute_error: 0.1091\n",
      "Epoch 83/100\n",
      "1618/1618 [==============================] - 9s 5ms/step - loss: 0.0276 - root_mean_squared_error: 0.1661 - mean_absolute_error: 0.1193 - val_loss: 0.0248 - val_root_mean_squared_error: 0.1575 - val_mean_absolute_error: 0.1103\n",
      "Epoch 84/100\n",
      "1618/1618 [==============================] - 9s 5ms/step - loss: 0.0276 - root_mean_squared_error: 0.1661 - mean_absolute_error: 0.1194 - val_loss: 0.0247 - val_root_mean_squared_error: 0.1571 - val_mean_absolute_error: 0.1087\n",
      "Epoch 85/100\n",
      "1618/1618 [==============================] - 9s 5ms/step - loss: 0.0276 - root_mean_squared_error: 0.1662 - mean_absolute_error: 0.1194 - val_loss: 0.0247 - val_root_mean_squared_error: 0.1572 - val_mean_absolute_error: 0.1094\n",
      "Epoch 86/100\n",
      "1618/1618 [==============================] - 8s 5ms/step - loss: 0.0276 - root_mean_squared_error: 0.1661 - mean_absolute_error: 0.1193 - val_loss: 0.0247 - val_root_mean_squared_error: 0.1571 - val_mean_absolute_error: 0.1089\n",
      "Epoch 87/100\n",
      "1618/1618 [==============================] - 8s 5ms/step - loss: 0.0276 - root_mean_squared_error: 0.1661 - mean_absolute_error: 0.1193 - val_loss: 0.0247 - val_root_mean_squared_error: 0.1571 - val_mean_absolute_error: 0.1098\n",
      "Epoch 88/100\n",
      "1618/1618 [==============================] - 8s 5ms/step - loss: 0.0276 - root_mean_squared_error: 0.1661 - mean_absolute_error: 0.1193 - val_loss: 0.0247 - val_root_mean_squared_error: 0.1571 - val_mean_absolute_error: 0.1102\n",
      "Epoch 89/100\n",
      "1618/1618 [==============================] - 8s 5ms/step - loss: 0.0276 - root_mean_squared_error: 0.1660 - mean_absolute_error: 0.1193 - val_loss: 0.0247 - val_root_mean_squared_error: 0.1571 - val_mean_absolute_error: 0.1094\n",
      "Epoch 90/100\n",
      "1618/1618 [==============================] - 9s 5ms/step - loss: 0.0276 - root_mean_squared_error: 0.1660 - mean_absolute_error: 0.1193 - val_loss: 0.0248 - val_root_mean_squared_error: 0.1573 - val_mean_absolute_error: 0.1097\n",
      "Epoch 91/100\n",
      "1618/1618 [==============================] - 9s 5ms/step - loss: 0.0276 - root_mean_squared_error: 0.1660 - mean_absolute_error: 0.1193 - val_loss: 0.0246 - val_root_mean_squared_error: 0.1570 - val_mean_absolute_error: 0.1087\n",
      "Epoch 92/100\n",
      "1618/1618 [==============================] - 9s 5ms/step - loss: 0.0276 - root_mean_squared_error: 0.1660 - mean_absolute_error: 0.1193 - val_loss: 0.0247 - val_root_mean_squared_error: 0.1570 - val_mean_absolute_error: 0.1094\n",
      "Epoch 93/100\n",
      "1618/1618 [==============================] - 9s 5ms/step - loss: 0.0275 - root_mean_squared_error: 0.1660 - mean_absolute_error: 0.1192 - val_loss: 0.0248 - val_root_mean_squared_error: 0.1576 - val_mean_absolute_error: 0.1103\n",
      "Epoch 94/100\n",
      "1618/1618 [==============================] - 9s 5ms/step - loss: 0.0275 - root_mean_squared_error: 0.1660 - mean_absolute_error: 0.1192 - val_loss: 0.0247 - val_root_mean_squared_error: 0.1572 - val_mean_absolute_error: 0.1086\n",
      "Epoch 95/100\n",
      "1618/1618 [==============================] - 9s 5ms/step - loss: 0.0275 - root_mean_squared_error: 0.1660 - mean_absolute_error: 0.1193 - val_loss: 0.0247 - val_root_mean_squared_error: 0.1573 - val_mean_absolute_error: 0.1103\n",
      "Epoch 96/100\n",
      "1618/1618 [==============================] - 8s 5ms/step - loss: 0.0275 - root_mean_squared_error: 0.1659 - mean_absolute_error: 0.1192 - val_loss: 0.0247 - val_root_mean_squared_error: 0.1572 - val_mean_absolute_error: 0.1100\n",
      "Epoch 97/100\n",
      "1618/1618 [==============================] - 9s 5ms/step - loss: 0.0275 - root_mean_squared_error: 0.1659 - mean_absolute_error: 0.1192 - val_loss: 0.0246 - val_root_mean_squared_error: 0.1569 - val_mean_absolute_error: 0.1093\n",
      "Epoch 98/100\n",
      "1618/1618 [==============================] - 9s 5ms/step - loss: 0.0275 - root_mean_squared_error: 0.1659 - mean_absolute_error: 0.1193 - val_loss: 0.0247 - val_root_mean_squared_error: 0.1572 - val_mean_absolute_error: 0.1100\n",
      "Epoch 99/100\n",
      "1618/1618 [==============================] - 9s 5ms/step - loss: 0.0275 - root_mean_squared_error: 0.1659 - mean_absolute_error: 0.1192 - val_loss: 0.0250 - val_root_mean_squared_error: 0.1581 - val_mean_absolute_error: 0.1116\n",
      "Epoch 100/100\n",
      "1618/1618 [==============================] - 8s 5ms/step - loss: 0.0275 - root_mean_squared_error: 0.1659 - mean_absolute_error: 0.1192 - val_loss: 0.0250 - val_root_mean_squared_error: 0.1582 - val_mean_absolute_error: 0.1109\n"
     ]
    }
   ],
   "source": [
    "early_stopping = tf.keras.callbacks.EarlyStopping(monitor='val_loss',\n",
    "                                                  min_delta=0.00001,\n",
    "                                                  patience=10,\n",
    "                                                  verbose=0,\n",
    "                                                  mode='auto',\n",
    "                                                  restore_best_weights=True)\n",
    "history = model.fit(X_train,y_train,\n",
    "                    epochs=100,\n",
    "                    batch_size=32,\n",
    "                    validation_data=(X_test, y_test),\n",
    "                    callbacks=[early_stopping],\n",
    "                    verbose=1)"
   ]
  },
  {
   "cell_type": "code",
   "execution_count": 18,
   "metadata": {},
   "outputs": [
    {
     "name": "stdout",
     "output_type": "stream",
     "text": [
      "Minimal Loss: 0.0246\n"
     ]
    },
    {
     "data": {
      "image/png": "[encoded data removed]",
      "text/plain": [
       "<Figure size 720x360 with 1 Axes>"
      ]
     },
     "metadata": {
      "needs_background": "light"
     },
     "output_type": "display_data"
    }
   ],
   "source": [
    "loss = history.history['loss']\n",
    "val_loss = history.history['val_loss']\n",
    "min_loss = min(val_loss)\n",
    "print(f'Minimal Loss: {min_loss:.4f}')\n",
    "plt.figure(figsize=(10,5))\n",
    "plt.plot(loss, 'r', label='Loss of training data')\n",
    "plt.plot(val_loss, 'b-', label='Loss of validation data')\n",
    "plt.title('Model Loss')\n",
    "plt.ylabel('Loss')\n",
    "plt.xlabel('Training Epoch')\n",
    "plt.legend()\n",
    "plt.show()"
   ]
  },
  {
   "cell_type": "code",
   "execution_count": 19,
   "metadata": {},
   "outputs": [
    {
     "name": "stdout",
     "output_type": "stream",
     "text": [
      "Minimal MAE 208.5 Mbps\n",
      "Minimal RMSE 301.3 Mbps\n"
     ]
    },
    {
     "data": {
      "text/plain": [
       "<Figure size 432x288 with 0 Axes>"
      ]
     },
     "metadata": {},
     "output_type": "display_data"
    },
    {
     "data": {
      "image/png": "[encoded data removed]",
      "text/plain": [
       "<Figure size 720x360 with 1 Axes>"
      ]
     },
     "metadata": {
      "needs_background": "light"
     },
     "output_type": "display_data"
    }
   ],
   "source": [
    "# MAE and RMSE plots\n",
    "plt.clf() # clear the figure\n",
    "mae = history.history['val_mean_absolute_error']\n",
    "min_mae = min(mae)\n",
    "print(f'Minimal MAE {min_mae*max_throughput:.1f} Mbps')\n",
    "rmse = history.history['val_root_mean_squared_error']\n",
    "min_rmse = min(rmse)\n",
    "print(f'Minimal RMSE {min_rmse*max_throughput:.1f} Mbps')\n",
    "plt.figure(figsize=(10,5))\n",
    "plt.plot(mae, 'r', label='MAE')\n",
    "plt.plot(rmse, 'b', label='RMSE')\n",
    "plt.title('Metrics')\n",
    "plt.ylabel('Loss')\n",
    "plt.xlabel('Training Epoch')\n",
    "plt.legend()\n",
    "plt.show()"
   ]
  },
  {
   "cell_type": "markdown",
   "metadata": {},
   "source": [
    "## 5. Test-Prediction Comparision"
   ]
  },
  {
   "cell_type": "code",
   "execution_count": 22,
   "metadata": {},
   "outputs": [
    {
     "data": {
      "image/png": "[encoded data removed]",
      "text/plain": [
       "<Figure size 432x288 with 1 Axes>"
      ]
     },
     "metadata": {
      "needs_background": "light"
     },
     "output_type": "display_data"
    }
   ],
   "source": [
    "n = 45 # example number\n",
    "y_true = y_test[n]\n",
    "x_in = X_test[n].reshape((1, seconds_in, 1))\n",
    "y_pred = model.predict(x_in).flatten()\n",
    "plt.plot(y_true*max_throughput, 'b')\n",
    "plt.plot(y_pred*max_throughput, 'r')\n",
    "plt.ylim(0, max_throughput)\n",
    "plt.show()"
   ]
  }
 ],
 "metadata": {
  "kernelspec": {
   "display_name": "Python 3",
   "language": "python",
   "name": "python3"
  },
  "language_info": {
   "codemirror_mode": {
    "name": "ipython",
    "version": 3
   },
   "file_extension": ".py",
   "mimetype": "text/x-python",
   "name": "python",
   "nbconvert_exporter": "python",
   "pygments_lexer": "ipython3",
   "version": "3.6.9"
  }
 },
 "nbformat": 4,
 "nbformat_minor": 4
}
