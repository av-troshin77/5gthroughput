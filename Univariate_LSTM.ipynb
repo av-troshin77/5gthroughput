{
 "cells": [
  {
   "cell_type": "markdown",
   "metadata": {},
   "source": [
    "# Univariate LSTM"
   ]
  },
  {
   "cell_type": "code",
   "execution_count": 1,
   "metadata": {},
   "outputs": [],
   "source": [
    "import pandas as pd\n",
    "import numpy as np\n",
    "import tensorflow as tf\n",
    "import matplotlib.pyplot as plt\n",
    "from sklearn.metrics import mean_squared_error"
   ]
  },
  {
   "cell_type": "code",
   "execution_count": 2,
   "metadata": {},
   "outputs": [],
   "source": [
    "# fix tensorflow gpu problems\n",
    "from tensorflow.compat.v1 import ConfigProto\n",
    "from tensorflow.compat.v1 import InteractiveSession\n",
    "config = ConfigProto()\n",
    "config.gpu_options.allow_growth = True\n",
    "session = InteractiveSession(config=config)"
   ]
  },
  {
   "cell_type": "code",
   "execution_count": 3,
   "metadata": {},
   "outputs": [
    {
     "name": "stdout",
     "output_type": "stream",
     "text": [
      "1\n",
      "True\n",
      "True\n",
      "/device:GPU:0\n"
     ]
    }
   ],
   "source": [
    "# check gpu support\n",
    "gpus = tf.config.list_physical_devices('GPU')\n",
    "print(len(gpus))\n",
    "print(tf.test.is_built_with_gpu_support())\n",
    "print(tf.test.is_built_with_cuda())\n",
    "print(tf.test.gpu_device_name())"
   ]
  },
  {
   "cell_type": "markdown",
   "metadata": {},
   "source": [
    "## 1. Load the Dataset"
   ]
  },
  {
   "cell_type": "code",
   "execution_count": 4,
   "metadata": {},
   "outputs": [
    {
     "data": {
      "text/html": [
       "<div>\n",
       "<style scoped>\n",
       "    .dataframe tbody tr th:only-of-type {\n",
       "        vertical-align: middle;\n",
       "    }\n",
       "\n",
       "    .dataframe tbody tr th {\n",
       "        vertical-align: top;\n",
       "    }\n",
       "\n",
       "    .dataframe thead th {\n",
       "        text-align: right;\n",
       "    }\n",
       "</style>\n",
       "<table border=\"1\" class=\"dataframe\">\n",
       "  <thead>\n",
       "    <tr style=\"text-align: right;\">\n",
       "      <th></th>\n",
       "      <th></th>\n",
       "      <th>abstractSignalStr</th>\n",
       "      <th>latitude</th>\n",
       "      <th>longitude</th>\n",
       "      <th>movingSpeed</th>\n",
       "      <th>compassDirection</th>\n",
       "      <th>nrStatus</th>\n",
       "      <th>lte_rssi</th>\n",
       "      <th>lte_rsrp</th>\n",
       "      <th>lte_rsrq</th>\n",
       "      <th>lte_rssnr</th>\n",
       "      <th>nr_ssRsrp</th>\n",
       "      <th>nr_ssRsrq</th>\n",
       "      <th>nr_ssSinr</th>\n",
       "      <th>Throughput</th>\n",
       "      <th>mobility_mode</th>\n",
       "      <th>trajectory_direction</th>\n",
       "      <th>tower_id</th>\n",
       "    </tr>\n",
       "    <tr>\n",
       "      <th>run_num</th>\n",
       "      <th>seq_num</th>\n",
       "      <th></th>\n",
       "      <th></th>\n",
       "      <th></th>\n",
       "      <th></th>\n",
       "      <th></th>\n",
       "      <th></th>\n",
       "      <th></th>\n",
       "      <th></th>\n",
       "      <th></th>\n",
       "      <th></th>\n",
       "      <th></th>\n",
       "      <th></th>\n",
       "      <th></th>\n",
       "      <th></th>\n",
       "      <th></th>\n",
       "      <th></th>\n",
       "      <th></th>\n",
       "    </tr>\n",
       "  </thead>\n",
       "  <tbody>\n",
       "    <tr>\n",
       "      <th rowspan=\"5\" valign=\"top\">1</th>\n",
       "      <th>1.0</th>\n",
       "      <td>2</td>\n",
       "      <td>44.975314</td>\n",
       "      <td>-93.259316</td>\n",
       "      <td>0.094889</td>\n",
       "      <td>150</td>\n",
       "      <td>NOT_RESTRICTED</td>\n",
       "      <td>-61.0</td>\n",
       "      <td>-94</td>\n",
       "      <td>-14.0</td>\n",
       "      <td>2.147484e+09</td>\n",
       "      <td>NaN</td>\n",
       "      <td>NaN</td>\n",
       "      <td>NaN</td>\n",
       "      <td>78</td>\n",
       "      <td>driving</td>\n",
       "      <td>CW</td>\n",
       "      <td>16</td>\n",
       "    </tr>\n",
       "    <tr>\n",
       "      <th>2.0</th>\n",
       "      <td>2</td>\n",
       "      <td>44.975311</td>\n",
       "      <td>-93.259311</td>\n",
       "      <td>0.876634</td>\n",
       "      <td>117</td>\n",
       "      <td>NOT_RESTRICTED</td>\n",
       "      <td>-61.0</td>\n",
       "      <td>-94</td>\n",
       "      <td>-14.0</td>\n",
       "      <td>2.147484e+09</td>\n",
       "      <td>NaN</td>\n",
       "      <td>NaN</td>\n",
       "      <td>NaN</td>\n",
       "      <td>117</td>\n",
       "      <td>driving</td>\n",
       "      <td>CW</td>\n",
       "      <td>16</td>\n",
       "    </tr>\n",
       "    <tr>\n",
       "      <th>3.0</th>\n",
       "      <td>2</td>\n",
       "      <td>44.975305</td>\n",
       "      <td>-93.259292</td>\n",
       "      <td>2.225798</td>\n",
       "      <td>113</td>\n",
       "      <td>NOT_RESTRICTED</td>\n",
       "      <td>-61.0</td>\n",
       "      <td>-94</td>\n",
       "      <td>-14.0</td>\n",
       "      <td>2.147484e+09</td>\n",
       "      <td>NaN</td>\n",
       "      <td>NaN</td>\n",
       "      <td>NaN</td>\n",
       "      <td>110</td>\n",
       "      <td>driving</td>\n",
       "      <td>CW</td>\n",
       "      <td>16</td>\n",
       "    </tr>\n",
       "    <tr>\n",
       "      <th>4.0</th>\n",
       "      <td>2</td>\n",
       "      <td>44.975293</td>\n",
       "      <td>-93.259258</td>\n",
       "      <td>3.180726</td>\n",
       "      <td>114</td>\n",
       "      <td>NOT_RESTRICTED</td>\n",
       "      <td>-59.0</td>\n",
       "      <td>-95</td>\n",
       "      <td>-16.0</td>\n",
       "      <td>2.147484e+09</td>\n",
       "      <td>NaN</td>\n",
       "      <td>NaN</td>\n",
       "      <td>NaN</td>\n",
       "      <td>108</td>\n",
       "      <td>driving</td>\n",
       "      <td>CW</td>\n",
       "      <td>16</td>\n",
       "    </tr>\n",
       "    <tr>\n",
       "      <th>5.0</th>\n",
       "      <td>2</td>\n",
       "      <td>44.975278</td>\n",
       "      <td>-93.259214</td>\n",
       "      <td>3.751234</td>\n",
       "      <td>115</td>\n",
       "      <td>NOT_RESTRICTED</td>\n",
       "      <td>-59.0</td>\n",
       "      <td>-95</td>\n",
       "      <td>-16.0</td>\n",
       "      <td>2.147484e+09</td>\n",
       "      <td>NaN</td>\n",
       "      <td>NaN</td>\n",
       "      <td>NaN</td>\n",
       "      <td>100</td>\n",
       "      <td>driving</td>\n",
       "      <td>CW</td>\n",
       "      <td>16</td>\n",
       "    </tr>\n",
       "  </tbody>\n",
       "</table>\n",
       "</div>"
      ],
      "text/plain": [
       "                 abstractSignalStr   latitude  longitude  movingSpeed  \\\n",
       "run_num seq_num                                                         \n",
       "1       1.0                      2  44.975314 -93.259316     0.094889   \n",
       "        2.0                      2  44.975311 -93.259311     0.876634   \n",
       "        3.0                      2  44.975305 -93.259292     2.225798   \n",
       "        4.0                      2  44.975293 -93.259258     3.180726   \n",
       "        5.0                      2  44.975278 -93.259214     3.751234   \n",
       "\n",
       "                 compassDirection        nrStatus  lte_rssi  lte_rsrp  \\\n",
       "run_num seq_num                                                         \n",
       "1       1.0                   150  NOT_RESTRICTED     -61.0       -94   \n",
       "        2.0                   117  NOT_RESTRICTED     -61.0       -94   \n",
       "        3.0                   113  NOT_RESTRICTED     -61.0       -94   \n",
       "        4.0                   114  NOT_RESTRICTED     -59.0       -95   \n",
       "        5.0                   115  NOT_RESTRICTED     -59.0       -95   \n",
       "\n",
       "                 lte_rsrq     lte_rssnr  nr_ssRsrp  nr_ssRsrq  nr_ssSinr  \\\n",
       "run_num seq_num                                                            \n",
       "1       1.0         -14.0  2.147484e+09        NaN        NaN        NaN   \n",
       "        2.0         -14.0  2.147484e+09        NaN        NaN        NaN   \n",
       "        3.0         -14.0  2.147484e+09        NaN        NaN        NaN   \n",
       "        4.0         -16.0  2.147484e+09        NaN        NaN        NaN   \n",
       "        5.0         -16.0  2.147484e+09        NaN        NaN        NaN   \n",
       "\n",
       "                 Throughput mobility_mode trajectory_direction  tower_id  \n",
       "run_num seq_num                                                           \n",
       "1       1.0              78       driving                   CW        16  \n",
       "        2.0             117       driving                   CW        16  \n",
       "        3.0             110       driving                   CW        16  \n",
       "        4.0             108       driving                   CW        16  \n",
       "        5.0             100       driving                   CW        16  "
      ]
     },
     "execution_count": 4,
     "metadata": {},
     "output_type": "execute_result"
    }
   ],
   "source": [
    "df = pd.read_csv('Lumos5G-v1.0.csv',\n",
    "                index_col=['run_num', 'seq_num'])\n",
    "df.head(5)"
   ]
  },
  {
   "cell_type": "code",
   "execution_count": 5,
   "metadata": {},
   "outputs": [
    {
     "data": {
      "text/html": [
       "<div>\n",
       "<style scoped>\n",
       "    .dataframe tbody tr th:only-of-type {\n",
       "        vertical-align: middle;\n",
       "    }\n",
       "\n",
       "    .dataframe tbody tr th {\n",
       "        vertical-align: top;\n",
       "    }\n",
       "\n",
       "    .dataframe thead th {\n",
       "        text-align: right;\n",
       "    }\n",
       "</style>\n",
       "<table border=\"1\" class=\"dataframe\">\n",
       "  <thead>\n",
       "    <tr style=\"text-align: right;\">\n",
       "      <th></th>\n",
       "      <th></th>\n",
       "      <th>Throughput</th>\n",
       "    </tr>\n",
       "    <tr>\n",
       "      <th>run_num</th>\n",
       "      <th>seq_num</th>\n",
       "      <th></th>\n",
       "    </tr>\n",
       "  </thead>\n",
       "  <tbody>\n",
       "    <tr>\n",
       "      <th rowspan=\"5\" valign=\"top\">1</th>\n",
       "      <th>1.0</th>\n",
       "      <td>78</td>\n",
       "    </tr>\n",
       "    <tr>\n",
       "      <th>2.0</th>\n",
       "      <td>117</td>\n",
       "    </tr>\n",
       "    <tr>\n",
       "      <th>3.0</th>\n",
       "      <td>110</td>\n",
       "    </tr>\n",
       "    <tr>\n",
       "      <th>4.0</th>\n",
       "      <td>108</td>\n",
       "    </tr>\n",
       "    <tr>\n",
       "      <th>5.0</th>\n",
       "      <td>100</td>\n",
       "    </tr>\n",
       "  </tbody>\n",
       "</table>\n",
       "</div>"
      ],
      "text/plain": [
       "                 Throughput\n",
       "run_num seq_num            \n",
       "1       1.0              78\n",
       "        2.0             117\n",
       "        3.0             110\n",
       "        4.0             108\n",
       "        5.0             100"
      ]
     },
     "execution_count": 5,
     "metadata": {},
     "output_type": "execute_result"
    }
   ],
   "source": [
    "# select columns\n",
    "ndf = df[[\"Throughput\"]]\n",
    "ndf.head()"
   ]
  },
  {
   "cell_type": "code",
   "execution_count": 6,
   "metadata": {},
   "outputs": [
    {
     "name": "stdout",
     "output_type": "stream",
     "text": [
      "Max throughput: Throughput    1920\n",
      "dtype: int64\n",
      "Min throughput: Throughput    0\n",
      "dtype: int64\n"
     ]
    }
   ],
   "source": [
    "max_throughput = ndf.max()\n",
    "min_throughput = ndf.min()\n",
    "print(f'Max throughput: {max_throughput}')\n",
    "print(f'Min throughput: {min_throughput}')\n",
    "max_throughput = max_throughput.item() # get python int!"
   ]
  },
  {
   "cell_type": "code",
   "execution_count": 7,
   "metadata": {},
   "outputs": [
    {
     "data": {
      "text/html": [
       "<div>\n",
       "<style scoped>\n",
       "    .dataframe tbody tr th:only-of-type {\n",
       "        vertical-align: middle;\n",
       "    }\n",
       "\n",
       "    .dataframe tbody tr th {\n",
       "        vertical-align: top;\n",
       "    }\n",
       "\n",
       "    .dataframe thead th {\n",
       "        text-align: right;\n",
       "    }\n",
       "</style>\n",
       "<table border=\"1\" class=\"dataframe\">\n",
       "  <thead>\n",
       "    <tr style=\"text-align: right;\">\n",
       "      <th></th>\n",
       "      <th></th>\n",
       "      <th>Throughput</th>\n",
       "    </tr>\n",
       "    <tr>\n",
       "      <th>run_num</th>\n",
       "      <th>seq_num</th>\n",
       "      <th></th>\n",
       "    </tr>\n",
       "  </thead>\n",
       "  <tbody>\n",
       "    <tr>\n",
       "      <th rowspan=\"5\" valign=\"top\">1</th>\n",
       "      <th>1.0</th>\n",
       "      <td>0.040625</td>\n",
       "    </tr>\n",
       "    <tr>\n",
       "      <th>2.0</th>\n",
       "      <td>0.060937</td>\n",
       "    </tr>\n",
       "    <tr>\n",
       "      <th>3.0</th>\n",
       "      <td>0.057292</td>\n",
       "    </tr>\n",
       "    <tr>\n",
       "      <th>4.0</th>\n",
       "      <td>0.056250</td>\n",
       "    </tr>\n",
       "    <tr>\n",
       "      <th>5.0</th>\n",
       "      <td>0.052083</td>\n",
       "    </tr>\n",
       "  </tbody>\n",
       "</table>\n",
       "</div>"
      ],
      "text/plain": [
       "                 Throughput\n",
       "run_num seq_num            \n",
       "1       1.0        0.040625\n",
       "        2.0        0.060937\n",
       "        3.0        0.057292\n",
       "        4.0        0.056250\n",
       "        5.0        0.052083"
      ]
     },
     "execution_count": 7,
     "metadata": {},
     "output_type": "execute_result"
    }
   ],
   "source": [
    "# Min-Max Scaling\n",
    "df=(ndf-ndf.min())/(ndf.max()-ndf.min())\n",
    "df.head()"
   ]
  },
  {
   "cell_type": "markdown",
   "metadata": {},
   "source": [
    "## 2. Create Train-Test Sets"
   ]
  },
  {
   "cell_type": "code",
   "execution_count": 8,
   "metadata": {},
   "outputs": [],
   "source": [
    "# split function into sequences\n",
    "def multistep_split(seq, n_steps_in, n_steps_out):\n",
    "    X = list()\n",
    "    y = list()\n",
    "    for i in range(len(seq)):\n",
    "        # pattern end\n",
    "        end_ix = i + n_steps_in\n",
    "        out_end_ix = end_ix + n_steps_out\n",
    "        if out_end_ix > len(seq):\n",
    "            break\n",
    "        seq_x = seq[i:end_ix]\n",
    "        seq_y = seq[end_ix:out_end_ix, -1]\n",
    "        X.append(seq_x)\n",
    "        y.append(seq_y)\n",
    "    return np.array(X), np.array(y)"
   ]
  },
  {
   "cell_type": "code",
   "execution_count": 9,
   "metadata": {},
   "outputs": [
    {
     "name": "stdout",
     "output_type": "stream",
     "text": [
      "(63516, 20)\n",
      "(63516, 20)\n"
     ]
    }
   ],
   "source": [
    "# separately splits runs into sequences\n",
    "run_max=df.index.max()[0]\n",
    "seconds_in = 20 # previous steps\n",
    "seconds_out = 20 # forecast steps\n",
    "X_list = list()\n",
    "y_list = list()\n",
    "for run_num in range(1, run_max+1):\n",
    "    run = df.loc[run_num].values\n",
    "    X, y = multistep_split(run.astype('float32'), n_steps_in=seconds_in, n_steps_out=seconds_out)\n",
    "    X_list.append(X)\n",
    "    y_list.append(y)\n",
    "X = np.concatenate(X_list)\n",
    "y = np.concatenate(y_list)\n",
    "X = X.reshape((X.shape[0], X.shape[1]))\n",
    "print(X.shape)\n",
    "print(y.shape)"
   ]
  },
  {
   "cell_type": "code",
   "execution_count": 10,
   "metadata": {},
   "outputs": [
    {
     "name": "stdout",
     "output_type": "stream",
     "text": [
      "(44461, 20)\n",
      "(44461, 20)\n",
      "(19055, 20)\n",
      "(19055, 20)\n"
     ]
    }
   ],
   "source": [
    "ratio=0.7\n",
    "train_size = int(ratio*X.shape[0])\n",
    "X_train = X[:train_size]\n",
    "y_train = y[:train_size]\n",
    "X_test = X[train_size:]\n",
    "y_test = y[train_size:]\n",
    "print(X_train.shape)\n",
    "print(y_train.shape)\n",
    "print(X_test.shape)\n",
    "print(y_test.shape)"
   ]
  },
  {
   "cell_type": "markdown",
   "metadata": {},
   "source": [
    "## 3. Define LSTM"
   ]
  },
  {
   "cell_type": "code",
   "execution_count": 11,
   "metadata": {},
   "outputs": [],
   "source": [
    "# reshape inputs\n",
    "X_train = X_train.reshape((X_train.shape[0], X_train.shape[1], 1))\n",
    "X_test = X_test.reshape((X_test.shape[0], X_test.shape[1], 1))"
   ]
  },
  {
   "cell_type": "code",
   "execution_count": 12,
   "metadata": {},
   "outputs": [
    {
     "name": "stdout",
     "output_type": "stream",
     "text": [
      "Model: \"sequential\"\n",
      "_________________________________________________________________\n",
      "Layer (type)                 Output Shape              Param #   \n",
      "=================================================================\n",
      "lstm (LSTM)                  (None, 32)                4352      \n",
      "_________________________________________________________________\n",
      "dense (Dense)                (None, 20)                660       \n",
      "=================================================================\n",
      "Total params: 5,012\n",
      "Trainable params: 5,012\n",
      "Non-trainable params: 0\n",
      "_________________________________________________________________\n"
     ]
    }
   ],
   "source": [
    "model = tf.keras.models.Sequential()\n",
    "model.add(tf.keras.layers.LSTM(32,\n",
    "                               activation='tanh',\n",
    "                               input_shape=(seconds_in, 1)))\n",
    "model.add(tf.keras.layers.Dense(seconds_out))\n",
    "model.summary()"
   ]
  },
  {
   "cell_type": "code",
   "execution_count": 13,
   "metadata": {},
   "outputs": [],
   "source": [
    "model.compile(optimizer='adam',\n",
    "             loss='mean_squared_error')"
   ]
  },
  {
   "cell_type": "markdown",
   "metadata": {},
   "source": [
    "## 4. Train LSTM"
   ]
  },
  {
   "cell_type": "code",
   "execution_count": 14,
   "metadata": {},
   "outputs": [],
   "source": [
    "early_stopping = tf.keras.callbacks.EarlyStopping(monitor='val_loss',\n",
    "                                                  min_delta=0.0001,\n",
    "                                                  patience=10,\n",
    "                                                  verbose=0,\n",
    "                                                  mode='auto',\n",
    "                                                  restore_best_weights=True)"
   ]
  },
  {
   "cell_type": "code",
   "execution_count": 15,
   "metadata": {},
   "outputs": [
    {
     "name": "stdout",
     "output_type": "stream",
     "text": [
      "Epoch 1/50\n",
      "2779/2779 [==============================] - 14s 5ms/step - loss: 0.0397 - val_loss: 0.0357\n",
      "Epoch 2/50\n",
      "2779/2779 [==============================] - 14s 5ms/step - loss: 0.0375 - val_loss: 0.0354\n",
      "Epoch 3/50\n",
      "2779/2779 [==============================] - 13s 5ms/step - loss: 0.0372 - val_loss: 0.0351\n",
      "Epoch 4/50\n",
      "2779/2779 [==============================] - 13s 5ms/step - loss: 0.0370 - val_loss: 0.0349\n",
      "Epoch 5/50\n",
      "2779/2779 [==============================] - 14s 5ms/step - loss: 0.0368 - val_loss: 0.0354\n",
      "Epoch 6/50\n",
      "2779/2779 [==============================] - 14s 5ms/step - loss: 0.0366 - val_loss: 0.0348\n",
      "Epoch 7/50\n",
      "2779/2779 [==============================] - 14s 5ms/step - loss: 0.0365 - val_loss: 0.0347\n",
      "Epoch 8/50\n",
      "2779/2779 [==============================] - 13s 5ms/step - loss: 0.0364 - val_loss: 0.0349\n",
      "Epoch 9/50\n",
      "2779/2779 [==============================] - 13s 5ms/step - loss: 0.0363 - val_loss: 0.0347\n",
      "Epoch 10/50\n",
      "2779/2779 [==============================] - 14s 5ms/step - loss: 0.0363 - val_loss: 0.0346\n",
      "Epoch 11/50\n",
      "2779/2779 [==============================] - 13s 5ms/step - loss: 0.0361 - val_loss: 0.0350\n",
      "Epoch 12/50\n",
      "2779/2779 [==============================] - 13s 5ms/step - loss: 0.0360 - val_loss: 0.0350\n",
      "Epoch 13/50\n",
      "2779/2779 [==============================] - 13s 5ms/step - loss: 0.0360 - val_loss: 0.0352\n",
      "Epoch 14/50\n",
      "2779/2779 [==============================] - 13s 5ms/step - loss: 0.0359 - val_loss: 0.0354\n",
      "Epoch 15/50\n",
      "2779/2779 [==============================] - 13s 5ms/step - loss: 0.0359 - val_loss: 0.0347\n",
      "Epoch 16/50\n",
      "2779/2779 [==============================] - 13s 5ms/step - loss: 0.0359 - val_loss: 0.0347\n",
      "Epoch 17/50\n",
      "2779/2779 [==============================] - 13s 5ms/step - loss: 0.0358 - val_loss: 0.0345\n",
      "Epoch 18/50\n",
      "2779/2779 [==============================] - 13s 5ms/step - loss: 0.0357 - val_loss: 0.0347\n",
      "Epoch 19/50\n",
      "2779/2779 [==============================] - 13s 5ms/step - loss: 0.0357 - val_loss: 0.0348\n",
      "Epoch 20/50\n",
      "2779/2779 [==============================] - 13s 5ms/step - loss: 0.0357 - val_loss: 0.0354\n",
      "Epoch 21/50\n",
      "2779/2779 [==============================] - 13s 5ms/step - loss: 0.0356 - val_loss: 0.0352\n",
      "Epoch 22/50\n",
      "2779/2779 [==============================] - 13s 5ms/step - loss: 0.0355 - val_loss: 0.0348\n",
      "Epoch 23/50\n",
      "2779/2779 [==============================] - 13s 5ms/step - loss: 0.0355 - val_loss: 0.0348\n",
      "Epoch 24/50\n",
      "2779/2779 [==============================] - 13s 5ms/step - loss: 0.0354 - val_loss: 0.0349\n",
      "Epoch 25/50\n",
      "2779/2779 [==============================] - 13s 5ms/step - loss: 0.0354 - val_loss: 0.0348\n",
      "Epoch 26/50\n",
      "2779/2779 [==============================] - 13s 5ms/step - loss: 0.0353 - val_loss: 0.0348\n",
      "Epoch 27/50\n",
      "2779/2779 [==============================] - 13s 5ms/step - loss: 0.0353 - val_loss: 0.0350\n"
     ]
    }
   ],
   "source": [
    "history = model.fit(X_train,\n",
    "                    y_train,\n",
    "                    epochs=50,\n",
    "                    batch_size=16,\n",
    "                    validation_data=(X_test, y_test),\n",
    "                    callbacks=[early_stopping],\n",
    "                    verbose=1)"
   ]
  },
  {
   "cell_type": "code",
   "execution_count": 16,
   "metadata": {},
   "outputs": [
    {
     "name": "stdout",
     "output_type": "stream",
     "text": [
      "Minimal Loss: 0.0345\n",
      "RMSE: 356.4053937407513\n"
     ]
    },
    {
     "data": {
      "image/png": "[encoded data removed]",
      "text/plain": [
       "<Figure size 720x360 with 1 Axes>"
      ]
     },
     "metadata": {
      "needs_background": "light"
     },
     "output_type": "display_data"
    }
   ],
   "source": [
    "loss = history.history['loss']\n",
    "val_loss = history.history['val_loss']\n",
    "min_mse = min(val_loss)\n",
    "print(f'Minimal Loss: {min_mse:.4f}')\n",
    "print(f'RMSE: {np.sqrt(min_mse)*max_throughput}')\n",
    "plt.figure(figsize=(10,5))\n",
    "plt.plot(loss, 'r', label='Loss of training data')\n",
    "plt.plot(val_loss, 'b-', label='Loss of validation data')\n",
    "plt.title('Model Loss')\n",
    "plt.ylabel('Loss')\n",
    "plt.xlabel('Training Epoch')\n",
    "plt.legend()\n",
    "plt.show()"
   ]
  },
  {
   "cell_type": "markdown",
   "metadata": {},
   "source": [
    "## 5. Results"
   ]
  },
  {
   "cell_type": "code",
   "execution_count": 17,
   "metadata": {},
   "outputs": [
    {
     "name": "stdout",
     "output_type": "stream",
     "text": [
      "Forecast MSE of the example: 0.0149\n"
     ]
    },
    {
     "data": {
      "image/png": "[encoded data removed]",
      "text/plain": [
       "<Figure size 432x288 with 1 Axes>"
      ]
     },
     "metadata": {
      "needs_background": "light"
     },
     "output_type": "display_data"
    }
   ],
   "source": [
    "n = 360 # example number\n",
    "y_true = y_test[n]\n",
    "x_in = X_test[n].reshape((1, seconds_in, 1))\n",
    "y_pred = model.predict(x_in).flatten()\n",
    "plt.plot(y_true*max_throughput, 'b')\n",
    "plt.plot(y_pred*max_throughput, 'r')\n",
    "plt.ylim(0, max_throughput)\n",
    "print(f'Forecast MSE of the example: {mean_squared_error(y_true, y_pred):.4f}')\n",
    "plt.show()"
   ]
  },
  {
   "cell_type": "markdown",
   "metadata": {},
   "source": [
    "## 6. Stacked LSTM"
   ]
  },
  {
   "cell_type": "code",
   "execution_count": 28,
   "metadata": {},
   "outputs": [
    {
     "name": "stdout",
     "output_type": "stream",
     "text": [
      "Model: \"sequential_3\"\n",
      "_________________________________________________________________\n",
      "Layer (type)                 Output Shape              Param #   \n",
      "=================================================================\n",
      "lstm_5 (LSTM)                (None, 20, 32)            4352      \n",
      "_________________________________________________________________\n",
      "lstm_6 (LSTM)                (None, 32)                8320      \n",
      "_________________________________________________________________\n",
      "dense_3 (Dense)              (None, 20)                660       \n",
      "=================================================================\n",
      "Total params: 13,332\n",
      "Trainable params: 13,332\n",
      "Non-trainable params: 0\n",
      "_________________________________________________________________\n"
     ]
    }
   ],
   "source": [
    "model = tf.keras.models.Sequential()\n",
    "model.add(tf.keras.layers.LSTM(32,\n",
    "                               activation='tanh',\n",
    "                               input_shape=(seconds_in, 1),\n",
    "                               return_sequences=True))\n",
    "model.add(tf.keras.layers.LSTM(32, activation='tanh'))\n",
    "model.add(tf.keras.layers.Dense(seconds_out, activation='linear'))\n",
    "model.summary()"
   ]
  },
  {
   "cell_type": "code",
   "execution_count": 29,
   "metadata": {},
   "outputs": [],
   "source": [
    "model.compile(optimizer='adam',\n",
    "             loss='mean_squared_error')"
   ]
  },
  {
   "cell_type": "code",
   "execution_count": 30,
   "metadata": {},
   "outputs": [
    {
     "name": "stdout",
     "output_type": "stream",
     "text": [
      "Epoch 1/50\n",
      "1390/1390 [==============================] - 11s 8ms/step - loss: 0.0408 - val_loss: 0.0358\n",
      "Epoch 2/50\n",
      "1390/1390 [==============================] - 11s 8ms/step - loss: 0.0376 - val_loss: 0.0353\n",
      "Epoch 3/50\n",
      "1390/1390 [==============================] - 11s 8ms/step - loss: 0.0373 - val_loss: 0.0348\n",
      "Epoch 4/50\n",
      "1390/1390 [==============================] - 11s 8ms/step - loss: 0.0370 - val_loss: 0.0347\n",
      "Epoch 5/50\n",
      "1390/1390 [==============================] - 11s 8ms/step - loss: 0.0367 - val_loss: 0.0348\n",
      "Epoch 6/50\n",
      "1390/1390 [==============================] - 11s 8ms/step - loss: 0.0365 - val_loss: 0.0348\n",
      "Epoch 7/50\n",
      "1390/1390 [==============================] - 11s 8ms/step - loss: 0.0364 - val_loss: 0.0351\n",
      "Epoch 8/50\n",
      "1390/1390 [==============================] - 11s 8ms/step - loss: 0.0363 - val_loss: 0.0358\n",
      "Epoch 9/50\n",
      "1390/1390 [==============================] - 11s 8ms/step - loss: 0.0362 - val_loss: 0.0349\n",
      "Epoch 10/50\n",
      "1390/1390 [==============================] - 11s 8ms/step - loss: 0.0362 - val_loss: 0.0345\n",
      "Epoch 11/50\n",
      "1390/1390 [==============================] - 11s 8ms/step - loss: 0.0361 - val_loss: 0.0345\n",
      "Epoch 12/50\n",
      "1390/1390 [==============================] - 11s 8ms/step - loss: 0.0360 - val_loss: 0.0346\n",
      "Epoch 13/50\n",
      "1390/1390 [==============================] - 11s 8ms/step - loss: 0.0359 - val_loss: 0.0351\n",
      "Epoch 14/50\n",
      "1390/1390 [==============================] - 11s 8ms/step - loss: 0.0358 - val_loss: 0.0346\n",
      "Epoch 15/50\n",
      "1390/1390 [==============================] - 11s 8ms/step - loss: 0.0357 - val_loss: 0.0347\n",
      "Epoch 16/50\n",
      "1390/1390 [==============================] - 11s 8ms/step - loss: 0.0356 - val_loss: 0.0350\n",
      "Epoch 17/50\n",
      "1390/1390 [==============================] - 11s 8ms/step - loss: 0.0356 - val_loss: 0.0348\n",
      "Epoch 18/50\n",
      "1390/1390 [==============================] - 11s 8ms/step - loss: 0.0354 - val_loss: 0.0352\n",
      "Epoch 19/50\n",
      "1390/1390 [==============================] - 11s 8ms/step - loss: 0.0354 - val_loss: 0.0344\n",
      "Epoch 20/50\n",
      "1390/1390 [==============================] - 11s 8ms/step - loss: 0.0353 - val_loss: 0.0346\n",
      "Epoch 21/50\n",
      "1390/1390 [==============================] - 11s 8ms/step - loss: 0.0352 - val_loss: 0.0349\n",
      "Epoch 22/50\n",
      "1390/1390 [==============================] - 11s 8ms/step - loss: 0.0350 - val_loss: 0.0350\n",
      "Epoch 23/50\n",
      "1390/1390 [==============================] - 11s 8ms/step - loss: 0.0350 - val_loss: 0.0349\n",
      "Epoch 24/50\n",
      "1390/1390 [==============================] - 11s 8ms/step - loss: 0.0348 - val_loss: 0.0359\n",
      "Epoch 25/50\n",
      "1390/1390 [==============================] - 11s 8ms/step - loss: 0.0347 - val_loss: 0.0349\n",
      "Epoch 26/50\n",
      "1390/1390 [==============================] - 11s 8ms/step - loss: 0.0346 - val_loss: 0.0354\n",
      "Epoch 27/50\n",
      "1390/1390 [==============================] - 11s 8ms/step - loss: 0.0345 - val_loss: 0.0353\n",
      "Epoch 28/50\n",
      "1390/1390 [==============================] - 11s 8ms/step - loss: 0.0344 - val_loss: 0.0353\n",
      "Epoch 29/50\n",
      "1390/1390 [==============================] - 11s 8ms/step - loss: 0.0343 - val_loss: 0.0349\n"
     ]
    }
   ],
   "source": [
    "history = model.fit(X_train,\n",
    "                    y_train,\n",
    "                    epochs=50,\n",
    "                    batch_size=32,\n",
    "                    validation_data=(X_test, y_test),\n",
    "                    callbacks=[early_stopping],\n",
    "                    verbose=1)"
   ]
  },
  {
   "cell_type": "code",
   "execution_count": 31,
   "metadata": {},
   "outputs": [
    {
     "name": "stdout",
     "output_type": "stream",
     "text": [
      "Minimal Loss: 0.0344\n",
      "RMSE: 356.02 Mbps\n"
     ]
    },
    {
     "data": {
      "image/png": "[encoded data removed]",
      "text/plain": [
       "<Figure size 720x360 with 1 Axes>"
      ]
     },
     "metadata": {
      "needs_background": "light"
     },
     "output_type": "display_data"
    }
   ],
   "source": [
    "loss = history.history['loss']\n",
    "val_loss = history.history['val_loss']\n",
    "min_mse = min(val_loss)\n",
    "print(f'Minimal Loss: {min_mse:.4f}')\n",
    "print(f'RMSE: {np.sqrt(min_mse)*max_throughput:.2f} Mbps')\n",
    "plt.figure(figsize=(10,5))\n",
    "plt.plot(loss, 'r', label='Loss of training data')\n",
    "plt.plot(val_loss, 'b-', label='Loss of validation data')\n",
    "plt.title('Model Loss')\n",
    "plt.ylabel('Loss')\n",
    "plt.xlabel('Training Epoch')\n",
    "plt.legend()\n",
    "plt.show()"
   ]
  },
  {
   "cell_type": "code",
   "execution_count": 32,
   "metadata": {},
   "outputs": [
    {
     "name": "stdout",
     "output_type": "stream",
     "text": [
      "Forecast MSE of the example: 0.0667\n"
     ]
    },
    {
     "data": {
      "image/png": "[encoded data removed]",
      "text/plain": [
       "<Figure size 432x288 with 1 Axes>"
      ]
     },
     "metadata": {
      "needs_background": "light"
     },
     "output_type": "display_data"
    }
   ],
   "source": [
    "n = 150 # example number\n",
    "y_true = y_test[n]\n",
    "x_in = X_test[n].reshape((1, seconds_in, 1))\n",
    "y_pred = model.predict(x_in).flatten()\n",
    "plt.plot(y_true*max_throughput, 'b')\n",
    "plt.plot(y_pred*max_throughput, 'r')\n",
    "plt.ylim(0, max_throughput)\n",
    "print(f'Forecast MSE of the example: {mean_squared_error(y_true, y_pred):.4f}')\n",
    "plt.show()"
   ]
  },
  {
   "cell_type": "markdown",
   "metadata": {},
   "source": [
    "## 7. Encoder-Decoder LSTM"
   ]
  },
  {
   "cell_type": "code",
   "execution_count": 38,
   "metadata": {},
   "outputs": [
    {
     "name": "stdout",
     "output_type": "stream",
     "text": [
      "Model: \"sequential_5\"\n",
      "_________________________________________________________________\n",
      "Layer (type)                 Output Shape              Param #   \n",
      "=================================================================\n",
      "lstm_9 (LSTM)                (None, 16)                1152      \n",
      "_________________________________________________________________\n",
      "repeat_vector_1 (RepeatVecto (None, 20, 16)            0         \n",
      "_________________________________________________________________\n",
      "lstm_10 (LSTM)               (None, 20, 16)            2112      \n",
      "_________________________________________________________________\n",
      "time_distributed_1 (TimeDist (None, 20, 1)             17        \n",
      "=================================================================\n",
      "Total params: 3,281\n",
      "Trainable params: 3,281\n",
      "Non-trainable params: 0\n",
      "_________________________________________________________________\n"
     ]
    }
   ],
   "source": [
    "model = tf.keras.models.Sequential()\n",
    "model.add(tf.keras.layers.LSTM(16,\n",
    "                               activation='tanh',\n",
    "                               input_shape=(seconds_in, 1)))\n",
    "model.add(tf.keras.layers.RepeatVector(seconds_out))\n",
    "model.add(tf.keras.layers.LSTM(16, activation='tanh',\n",
    "                               return_sequences=True))\n",
    "model.add(tf.keras.layers.TimeDistributed(\n",
    "          tf.keras.layers.Dense(1, activation='linear')))\n",
    "model.summary()"
   ]
  },
  {
   "cell_type": "code",
   "execution_count": 39,
   "metadata": {},
   "outputs": [],
   "source": [
    "model.compile(optimizer='adam',\n",
    "             loss='mean_squared_error')"
   ]
  },
  {
   "cell_type": "code",
   "execution_count": 40,
   "metadata": {},
   "outputs": [
    {
     "name": "stdout",
     "output_type": "stream",
     "text": [
      "Epoch 1/50\n",
      "1390/1390 [==============================] - 12s 8ms/step - loss: 0.0408 - val_loss: 0.0360\n",
      "Epoch 2/50\n",
      "1390/1390 [==============================] - 11s 8ms/step - loss: 0.0376 - val_loss: 0.0349\n",
      "Epoch 3/50\n",
      "1390/1390 [==============================] - 11s 8ms/step - loss: 0.0372 - val_loss: 0.0360\n",
      "Epoch 4/50\n",
      "1390/1390 [==============================] - 11s 8ms/step - loss: 0.0369 - val_loss: 0.0352\n",
      "Epoch 5/50\n",
      "1390/1390 [==============================] - 11s 8ms/step - loss: 0.0368 - val_loss: 0.0353\n",
      "Epoch 6/50\n",
      "1390/1390 [==============================] - 11s 8ms/step - loss: 0.0366 - val_loss: 0.0354\n",
      "Epoch 7/50\n",
      "1390/1390 [==============================] - 11s 8ms/step - loss: 0.0364 - val_loss: 0.0347\n",
      "Epoch 8/50\n",
      "1390/1390 [==============================] - 10s 7ms/step - loss: 0.0363 - val_loss: 0.0345\n",
      "Epoch 9/50\n",
      "1390/1390 [==============================] - 11s 8ms/step - loss: 0.0362 - val_loss: 0.0345\n",
      "Epoch 10/50\n",
      "1390/1390 [==============================] - 10s 7ms/step - loss: 0.0362 - val_loss: 0.0347\n",
      "Epoch 11/50\n",
      "1390/1390 [==============================] - 11s 8ms/step - loss: 0.0361 - val_loss: 0.0352\n",
      "Epoch 12/50\n",
      "1390/1390 [==============================] - 11s 8ms/step - loss: 0.0361 - val_loss: 0.0346\n",
      "Epoch 13/50\n",
      "1390/1390 [==============================] - 10s 7ms/step - loss: 0.0360 - val_loss: 0.0346\n",
      "Epoch 14/50\n",
      "1390/1390 [==============================] - 11s 8ms/step - loss: 0.0360 - val_loss: 0.0349\n",
      "Epoch 15/50\n",
      "1390/1390 [==============================] - 11s 8ms/step - loss: 0.0360 - val_loss: 0.0348\n",
      "Epoch 16/50\n",
      "1390/1390 [==============================] - 11s 8ms/step - loss: 0.0359 - val_loss: 0.0350\n",
      "Epoch 17/50\n",
      "1390/1390 [==============================] - 11s 8ms/step - loss: 0.0359 - val_loss: 0.0351\n",
      "Epoch 18/50\n",
      "1390/1390 [==============================] - 11s 8ms/step - loss: 0.0358 - val_loss: 0.0350\n"
     ]
    }
   ],
   "source": [
    "history = model.fit(X_train,\n",
    "                    y_train,\n",
    "                    epochs=50,\n",
    "                    batch_size=32,\n",
    "                    validation_data=(X_test, y_test),\n",
    "                    callbacks=[early_stopping],\n",
    "                    verbose=1)"
   ]
  },
  {
   "cell_type": "code",
   "execution_count": 41,
   "metadata": {},
   "outputs": [
    {
     "name": "stdout",
     "output_type": "stream",
     "text": [
      "Minimal Loss: 0.0345\n",
      "RMSE: 356.43 Mbps\n"
     ]
    },
    {
     "data": {
      "image/png": "[encoded data removed]",
      "text/plain": [
       "<Figure size 720x360 with 1 Axes>"
      ]
     },
     "metadata": {
      "needs_background": "light"
     },
     "output_type": "display_data"
    }
   ],
   "source": [
    "loss = history.history['loss']\n",
    "val_loss = history.history['val_loss']\n",
    "min_mse = min(val_loss)\n",
    "print(f'Minimal Loss: {min_mse:.4f}')\n",
    "print(f'RMSE: {np.sqrt(min_mse)*max_throughput:.2f} Mbps')\n",
    "plt.figure(figsize=(10,5))\n",
    "plt.plot(loss, 'r', label='Loss of training data')\n",
    "plt.plot(val_loss, 'b-', label='Loss of validation data')\n",
    "plt.title('Model Loss')\n",
    "plt.ylabel('Loss')\n",
    "plt.xlabel('Training Epoch')\n",
    "plt.legend()\n",
    "plt.show()"
   ]
  },
  {
   "cell_type": "code",
   "execution_count": 42,
   "metadata": {},
   "outputs": [
    {
     "name": "stdout",
     "output_type": "stream",
     "text": [
      "Forecast MSE of the example: 0.0631\n"
     ]
    },
    {
     "data": {
      "image/png": "[encoded data removed]",
      "text/plain": [
       "<Figure size 432x288 with 1 Axes>"
      ]
     },
     "metadata": {
      "needs_background": "light"
     },
     "output_type": "display_data"
    }
   ],
   "source": [
    "n = 150 # example number\n",
    "y_true = y_test[n]\n",
    "x_in = X_test[n].reshape((1, seconds_in, 1))\n",
    "y_pred = model.predict(x_in).flatten()\n",
    "plt.plot(y_true*max_throughput, 'b')\n",
    "plt.plot(y_pred*max_throughput, 'r')\n",
    "plt.ylim(0, max_throughput)\n",
    "print(f'Forecast MSE of the example: {mean_squared_error(y_true, y_pred):.4f}')\n",
    "plt.show()"
   ]
  },
  {
   "cell_type": "markdown",
   "metadata": {},
   "source": [
    "# 8. Bidirectional LSTM"
   ]
  },
  {
   "cell_type": "code",
   "execution_count": 33,
   "metadata": {},
   "outputs": [
    {
     "name": "stdout",
     "output_type": "stream",
     "text": [
      "Model: \"sequential_5\"\n",
      "_________________________________________________________________\n",
      "Layer (type)                 Output Shape              Param #   \n",
      "=================================================================\n",
      "bidirectional_5 (Bidirection (None, 20, 16)            2304      \n",
      "_________________________________________________________________\n",
      "time_distributed_5 (TimeDist (None, 20, 1)             17        \n",
      "=================================================================\n",
      "Total params: 2,321\n",
      "Trainable params: 2,321\n",
      "Non-trainable params: 0\n",
      "_________________________________________________________________\n"
     ]
    }
   ],
   "source": [
    "model = tf.keras.models.Sequential()\n",
    "model.add(tf.keras.layers.Bidirectional(\n",
    "          tf.keras.layers.LSTM(16, activation='tanh', return_sequences=True),\n",
    "          merge_mode='sum', \n",
    "          input_shape=(seconds_in, 1)))\n",
    "model.add(tf.keras.layers.TimeDistributed(\n",
    "          tf.keras.layers.Dense(1, activation='linear')))\n",
    "model.summary()"
   ]
  },
  {
   "cell_type": "code",
   "execution_count": 34,
   "metadata": {},
   "outputs": [],
   "source": [
    "model.compile(optimizer='adam',\n",
    "             loss='mean_squared_error')"
   ]
  },
  {
   "cell_type": "code",
   "execution_count": 35,
   "metadata": {},
   "outputs": [],
   "source": [
    "early_stopping = tf.keras.callbacks.EarlyStopping(monitor='val_loss',\n",
    "                                                  min_delta=0.0001,\n",
    "                                                  patience=10,\n",
    "                                                  verbose=0,\n",
    "                                                  mode='auto',\n",
    "                                                  restore_best_weights=True)"
   ]
  },
  {
   "cell_type": "code",
   "execution_count": 36,
   "metadata": {},
   "outputs": [
    {
     "name": "stdout",
     "output_type": "stream",
     "text": [
      "Epoch 1/50\n",
      "1390/1390 [==============================] - 10s 7ms/step - loss: 0.0433 - val_loss: 0.0376\n",
      "Epoch 2/50\n",
      "1390/1390 [==============================] - 9s 7ms/step - loss: 0.0395 - val_loss: 0.0365\n",
      "Epoch 3/50\n",
      "1390/1390 [==============================] - 9s 7ms/step - loss: 0.0389 - val_loss: 0.0362\n",
      "Epoch 4/50\n",
      "1390/1390 [==============================] - 9s 7ms/step - loss: 0.0387 - val_loss: 0.0371\n",
      "Epoch 5/50\n",
      "1390/1390 [==============================] - 9s 7ms/step - loss: 0.0384 - val_loss: 0.0357\n",
      "Epoch 6/50\n",
      "1390/1390 [==============================] - 9s 7ms/step - loss: 0.0381 - val_loss: 0.0360\n",
      "Epoch 7/50\n",
      "1390/1390 [==============================] - 9s 7ms/step - loss: 0.0380 - val_loss: 0.0361\n",
      "Epoch 8/50\n",
      "1390/1390 [==============================] - 9s 7ms/step - loss: 0.0377 - val_loss: 0.0355\n",
      "Epoch 9/50\n",
      "1390/1390 [==============================] - 9s 7ms/step - loss: 0.0376 - val_loss: 0.0365\n",
      "Epoch 10/50\n",
      "1390/1390 [==============================] - 9s 6ms/step - loss: 0.0376 - val_loss: 0.0352\n",
      "Epoch 11/50\n",
      "1390/1390 [==============================] - 9s 7ms/step - loss: 0.0375 - val_loss: 0.0353\n",
      "Epoch 12/50\n",
      "1390/1390 [==============================] - 9s 7ms/step - loss: 0.0375 - val_loss: 0.0353\n",
      "Epoch 13/50\n",
      "1390/1390 [==============================] - 9s 7ms/step - loss: 0.0374 - val_loss: 0.0385\n",
      "Epoch 14/50\n",
      "1390/1390 [==============================] - 9s 7ms/step - loss: 0.0373 - val_loss: 0.0353\n",
      "Epoch 15/50\n",
      "1390/1390 [==============================] - 9s 7ms/step - loss: 0.0373 - val_loss: 0.0355\n",
      "Epoch 16/50\n",
      "1390/1390 [==============================] - 9s 7ms/step - loss: 0.0373 - val_loss: 0.0354\n",
      "Epoch 17/50\n",
      "1390/1390 [==============================] - 9s 7ms/step - loss: 0.0372 - val_loss: 0.0353\n",
      "Epoch 18/50\n",
      "1390/1390 [==============================] - 10s 7ms/step - loss: 0.0372 - val_loss: 0.0349\n",
      "Epoch 19/50\n",
      "1390/1390 [==============================] - 9s 7ms/step - loss: 0.0371 - val_loss: 0.0353\n",
      "Epoch 20/50\n",
      "1390/1390 [==============================] - 10s 7ms/step - loss: 0.0371 - val_loss: 0.0349\n",
      "Epoch 21/50\n",
      "1390/1390 [==============================] - 9s 7ms/step - loss: 0.0370 - val_loss: 0.0353\n",
      "Epoch 22/50\n",
      "1390/1390 [==============================] - 9s 7ms/step - loss: 0.0370 - val_loss: 0.0354\n",
      "Epoch 23/50\n",
      "1390/1390 [==============================] - 9s 7ms/step - loss: 0.0370 - val_loss: 0.0351\n",
      "Epoch 24/50\n",
      "1390/1390 [==============================] - 9s 7ms/step - loss: 0.0370 - val_loss: 0.0350\n",
      "Epoch 25/50\n",
      "1390/1390 [==============================] - 9s 7ms/step - loss: 0.0370 - val_loss: 0.0355\n",
      "Epoch 26/50\n",
      "1390/1390 [==============================] - 9s 7ms/step - loss: 0.0369 - val_loss: 0.0353\n",
      "Epoch 27/50\n",
      "1390/1390 [==============================] - 9s 7ms/step - loss: 0.0369 - val_loss: 0.0353\n",
      "Epoch 28/50\n",
      "1390/1390 [==============================] - 9s 7ms/step - loss: 0.0369 - val_loss: 0.0369\n"
     ]
    }
   ],
   "source": [
    "history = model.fit(X_train,\n",
    "                    y_train,\n",
    "                    epochs=50,\n",
    "                    batch_size=32,\n",
    "                    validation_data=(X_test, y_test),\n",
    "                    callbacks=[early_stopping],\n",
    "                    verbose=1)"
   ]
  },
  {
   "cell_type": "code",
   "execution_count": 37,
   "metadata": {},
   "outputs": [
    {
     "name": "stdout",
     "output_type": "stream",
     "text": [
      "Minimal Loss: 0.0349\n",
      "RMSE: 358.47 Mbps\n"
     ]
    },
    {
     "data": {
      "image/png": "[encoded data removed]",
      "text/plain": [
       "<Figure size 720x360 with 1 Axes>"
      ]
     },
     "metadata": {
      "needs_background": "light"
     },
     "output_type": "display_data"
    }
   ],
   "source": [
    "loss = history.history['loss']\n",
    "val_loss = history.history['val_loss']\n",
    "min_mse = min(val_loss)\n",
    "print(f'Minimal Loss: {min_mse:.4f}')\n",
    "print(f'RMSE: {np.sqrt(min_mse)*max_throughput:.2f} Mbps')\n",
    "plt.figure(figsize=(10,5))\n",
    "plt.plot(loss, 'r', label='Loss of training data')\n",
    "plt.plot(val_loss, 'b-', label='Loss of validation data')\n",
    "plt.title('Model Loss')\n",
    "plt.ylabel('Loss')\n",
    "plt.xlabel('Training Epoch')\n",
    "plt.legend()\n",
    "plt.show()"
   ]
  },
  {
   "cell_type": "code",
   "execution_count": 38,
   "metadata": {},
   "outputs": [
    {
     "name": "stdout",
     "output_type": "stream",
     "text": [
      "Forecast MSE of the example: 0.0629\n"
     ]
    },
    {
     "data": {
      "image/png": "[encoded data removed]",
      "text/plain": [
       "<Figure size 432x288 with 1 Axes>"
      ]
     },
     "metadata": {
      "needs_background": "light"
     },
     "output_type": "display_data"
    }
   ],
   "source": [
    "n = 150 # example number\n",
    "y_true = y_test[n]\n",
    "x_in = X_test[n].reshape((1, seconds_in, 1))\n",
    "y_pred = model.predict(x_in).flatten()\n",
    "plt.plot(y_true*max_throughput, 'b')\n",
    "plt.plot(y_pred*max_throughput, 'r')\n",
    "plt.ylim(0, max_throughput)\n",
    "print(f'Forecast MSE of the example: {mean_squared_error(y_true, y_pred):.4f}')\n",
    "plt.show()"
   ]
  }
 ],
 "metadata": {
  "kernelspec": {
   "display_name": "Python 3",
   "language": "python",
   "name": "python3"
  },
  "language_info": {
   "codemirror_mode": {
    "name": "ipython",
    "version": 3
   },
   "file_extension": ".py",
   "mimetype": "text/x-python",
   "name": "python",
   "nbconvert_exporter": "python",
   "pygments_lexer": "ipython3",
   "version": "3.8.5"
  }
 },
 "nbformat": 4,
 "nbformat_minor": 4
}
