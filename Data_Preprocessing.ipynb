{
 "cells": [
  {
   "cell_type": "markdown",
   "metadata": {},
   "source": [
    "# Data Preprocessing"
   ]
  },
  {
   "cell_type": "code",
   "execution_count": 43,
   "metadata": {},
   "outputs": [],
   "source": [
    "import pandas as pd\n",
    "import numpy as np\n",
    "import matplotlib.pyplot as plt"
   ]
  },
  {
   "cell_type": "markdown",
   "metadata": {},
   "source": [
    "## 1.Load the dataset"
   ]
  },
  {
   "cell_type": "code",
   "execution_count": 2,
   "metadata": {},
   "outputs": [
    {
     "data": {
      "text/html": [
       "<div>\n",
       "<style scoped>\n",
       "    .dataframe tbody tr th:only-of-type {\n",
       "        vertical-align: middle;\n",
       "    }\n",
       "\n",
       "    .dataframe tbody tr th {\n",
       "        vertical-align: top;\n",
       "    }\n",
       "\n",
       "    .dataframe thead th {\n",
       "        text-align: right;\n",
       "    }\n",
       "</style>\n",
       "<table border=\"1\" class=\"dataframe\">\n",
       "  <thead>\n",
       "    <tr style=\"text-align: right;\">\n",
       "      <th></th>\n",
       "      <th></th>\n",
       "      <th>abstractSignalStr</th>\n",
       "      <th>latitude</th>\n",
       "      <th>longitude</th>\n",
       "      <th>movingSpeed</th>\n",
       "      <th>compassDirection</th>\n",
       "      <th>nrStatus</th>\n",
       "      <th>lte_rssi</th>\n",
       "      <th>lte_rsrp</th>\n",
       "      <th>lte_rsrq</th>\n",
       "      <th>lte_rssnr</th>\n",
       "      <th>nr_ssRsrp</th>\n",
       "      <th>nr_ssRsrq</th>\n",
       "      <th>nr_ssSinr</th>\n",
       "      <th>Throughput</th>\n",
       "      <th>mobility_mode</th>\n",
       "      <th>trajectory_direction</th>\n",
       "      <th>tower_id</th>\n",
       "    </tr>\n",
       "    <tr>\n",
       "      <th>run_num</th>\n",
       "      <th>seq_num</th>\n",
       "      <th></th>\n",
       "      <th></th>\n",
       "      <th></th>\n",
       "      <th></th>\n",
       "      <th></th>\n",
       "      <th></th>\n",
       "      <th></th>\n",
       "      <th></th>\n",
       "      <th></th>\n",
       "      <th></th>\n",
       "      <th></th>\n",
       "      <th></th>\n",
       "      <th></th>\n",
       "      <th></th>\n",
       "      <th></th>\n",
       "      <th></th>\n",
       "      <th></th>\n",
       "    </tr>\n",
       "  </thead>\n",
       "  <tbody>\n",
       "    <tr>\n",
       "      <th rowspan=\"5\" valign=\"top\">1</th>\n",
       "      <th>1.0</th>\n",
       "      <td>2</td>\n",
       "      <td>44.975314</td>\n",
       "      <td>-93.259316</td>\n",
       "      <td>0.094889</td>\n",
       "      <td>150</td>\n",
       "      <td>NOT_RESTRICTED</td>\n",
       "      <td>-61.0</td>\n",
       "      <td>-94</td>\n",
       "      <td>-14.0</td>\n",
       "      <td>2.147484e+09</td>\n",
       "      <td>NaN</td>\n",
       "      <td>NaN</td>\n",
       "      <td>NaN</td>\n",
       "      <td>78</td>\n",
       "      <td>driving</td>\n",
       "      <td>CW</td>\n",
       "      <td>16</td>\n",
       "    </tr>\n",
       "    <tr>\n",
       "      <th>2.0</th>\n",
       "      <td>2</td>\n",
       "      <td>44.975311</td>\n",
       "      <td>-93.259311</td>\n",
       "      <td>0.876634</td>\n",
       "      <td>117</td>\n",
       "      <td>NOT_RESTRICTED</td>\n",
       "      <td>-61.0</td>\n",
       "      <td>-94</td>\n",
       "      <td>-14.0</td>\n",
       "      <td>2.147484e+09</td>\n",
       "      <td>NaN</td>\n",
       "      <td>NaN</td>\n",
       "      <td>NaN</td>\n",
       "      <td>117</td>\n",
       "      <td>driving</td>\n",
       "      <td>CW</td>\n",
       "      <td>16</td>\n",
       "    </tr>\n",
       "    <tr>\n",
       "      <th>3.0</th>\n",
       "      <td>2</td>\n",
       "      <td>44.975305</td>\n",
       "      <td>-93.259292</td>\n",
       "      <td>2.225798</td>\n",
       "      <td>113</td>\n",
       "      <td>NOT_RESTRICTED</td>\n",
       "      <td>-61.0</td>\n",
       "      <td>-94</td>\n",
       "      <td>-14.0</td>\n",
       "      <td>2.147484e+09</td>\n",
       "      <td>NaN</td>\n",
       "      <td>NaN</td>\n",
       "      <td>NaN</td>\n",
       "      <td>110</td>\n",
       "      <td>driving</td>\n",
       "      <td>CW</td>\n",
       "      <td>16</td>\n",
       "    </tr>\n",
       "    <tr>\n",
       "      <th>4.0</th>\n",
       "      <td>2</td>\n",
       "      <td>44.975293</td>\n",
       "      <td>-93.259258</td>\n",
       "      <td>3.180726</td>\n",
       "      <td>114</td>\n",
       "      <td>NOT_RESTRICTED</td>\n",
       "      <td>-59.0</td>\n",
       "      <td>-95</td>\n",
       "      <td>-16.0</td>\n",
       "      <td>2.147484e+09</td>\n",
       "      <td>NaN</td>\n",
       "      <td>NaN</td>\n",
       "      <td>NaN</td>\n",
       "      <td>108</td>\n",
       "      <td>driving</td>\n",
       "      <td>CW</td>\n",
       "      <td>16</td>\n",
       "    </tr>\n",
       "    <tr>\n",
       "      <th>5.0</th>\n",
       "      <td>2</td>\n",
       "      <td>44.975278</td>\n",
       "      <td>-93.259214</td>\n",
       "      <td>3.751234</td>\n",
       "      <td>115</td>\n",
       "      <td>NOT_RESTRICTED</td>\n",
       "      <td>-59.0</td>\n",
       "      <td>-95</td>\n",
       "      <td>-16.0</td>\n",
       "      <td>2.147484e+09</td>\n",
       "      <td>NaN</td>\n",
       "      <td>NaN</td>\n",
       "      <td>NaN</td>\n",
       "      <td>100</td>\n",
       "      <td>driving</td>\n",
       "      <td>CW</td>\n",
       "      <td>16</td>\n",
       "    </tr>\n",
       "  </tbody>\n",
       "</table>\n",
       "</div>"
      ],
      "text/plain": [
       "                 abstractSignalStr   latitude  longitude  movingSpeed  \\\n",
       "run_num seq_num                                                         \n",
       "1       1.0                      2  44.975314 -93.259316     0.094889   \n",
       "        2.0                      2  44.975311 -93.259311     0.876634   \n",
       "        3.0                      2  44.975305 -93.259292     2.225798   \n",
       "        4.0                      2  44.975293 -93.259258     3.180726   \n",
       "        5.0                      2  44.975278 -93.259214     3.751234   \n",
       "\n",
       "                 compassDirection        nrStatus  lte_rssi  lte_rsrp  \\\n",
       "run_num seq_num                                                         \n",
       "1       1.0                   150  NOT_RESTRICTED     -61.0       -94   \n",
       "        2.0                   117  NOT_RESTRICTED     -61.0       -94   \n",
       "        3.0                   113  NOT_RESTRICTED     -61.0       -94   \n",
       "        4.0                   114  NOT_RESTRICTED     -59.0       -95   \n",
       "        5.0                   115  NOT_RESTRICTED     -59.0       -95   \n",
       "\n",
       "                 lte_rsrq     lte_rssnr  nr_ssRsrp  nr_ssRsrq  nr_ssSinr  \\\n",
       "run_num seq_num                                                            \n",
       "1       1.0         -14.0  2.147484e+09        NaN        NaN        NaN   \n",
       "        2.0         -14.0  2.147484e+09        NaN        NaN        NaN   \n",
       "        3.0         -14.0  2.147484e+09        NaN        NaN        NaN   \n",
       "        4.0         -16.0  2.147484e+09        NaN        NaN        NaN   \n",
       "        5.0         -16.0  2.147484e+09        NaN        NaN        NaN   \n",
       "\n",
       "                 Throughput mobility_mode trajectory_direction  tower_id  \n",
       "run_num seq_num                                                           \n",
       "1       1.0              78       driving                   CW        16  \n",
       "        2.0             117       driving                   CW        16  \n",
       "        3.0             110       driving                   CW        16  \n",
       "        4.0             108       driving                   CW        16  \n",
       "        5.0             100       driving                   CW        16  "
      ]
     },
     "execution_count": 2,
     "metadata": {},
     "output_type": "execute_result"
    }
   ],
   "source": [
    "df = pd.read_csv('Lumos5G-v1.0.csv',\n",
    "                index_col=['run_num', 'seq_num'])\n",
    "df.head(5)"
   ]
  },
  {
   "cell_type": "markdown",
   "metadata": {},
   "source": [
    "## 2.Constract a new dataset and scale it"
   ]
  },
  {
   "cell_type": "code",
   "execution_count": 3,
   "metadata": {},
   "outputs": [
    {
     "data": {
      "text/html": [
       "<div>\n",
       "<style scoped>\n",
       "    .dataframe tbody tr th:only-of-type {\n",
       "        vertical-align: middle;\n",
       "    }\n",
       "\n",
       "    .dataframe tbody tr th {\n",
       "        vertical-align: top;\n",
       "    }\n",
       "\n",
       "    .dataframe thead th {\n",
       "        text-align: right;\n",
       "    }\n",
       "</style>\n",
       "<table border=\"1\" class=\"dataframe\">\n",
       "  <thead>\n",
       "    <tr style=\"text-align: right;\">\n",
       "      <th></th>\n",
       "      <th></th>\n",
       "      <th>latitude</th>\n",
       "      <th>longitude</th>\n",
       "      <th>Throughput</th>\n",
       "    </tr>\n",
       "    <tr>\n",
       "      <th>run_num</th>\n",
       "      <th>seq_num</th>\n",
       "      <th></th>\n",
       "      <th></th>\n",
       "      <th></th>\n",
       "    </tr>\n",
       "  </thead>\n",
       "  <tbody>\n",
       "    <tr>\n",
       "      <th rowspan=\"5\" valign=\"top\">1</th>\n",
       "      <th>1.0</th>\n",
       "      <td>44.975314</td>\n",
       "      <td>-93.259316</td>\n",
       "      <td>78</td>\n",
       "    </tr>\n",
       "    <tr>\n",
       "      <th>2.0</th>\n",
       "      <td>44.975311</td>\n",
       "      <td>-93.259311</td>\n",
       "      <td>117</td>\n",
       "    </tr>\n",
       "    <tr>\n",
       "      <th>3.0</th>\n",
       "      <td>44.975305</td>\n",
       "      <td>-93.259292</td>\n",
       "      <td>110</td>\n",
       "    </tr>\n",
       "    <tr>\n",
       "      <th>4.0</th>\n",
       "      <td>44.975293</td>\n",
       "      <td>-93.259258</td>\n",
       "      <td>108</td>\n",
       "    </tr>\n",
       "    <tr>\n",
       "      <th>5.0</th>\n",
       "      <td>44.975278</td>\n",
       "      <td>-93.259214</td>\n",
       "      <td>100</td>\n",
       "    </tr>\n",
       "  </tbody>\n",
       "</table>\n",
       "</div>"
      ],
      "text/plain": [
       "                  latitude  longitude  Throughput\n",
       "run_num seq_num                                  \n",
       "1       1.0      44.975314 -93.259316          78\n",
       "        2.0      44.975311 -93.259311         117\n",
       "        3.0      44.975305 -93.259292         110\n",
       "        4.0      44.975293 -93.259258         108\n",
       "        5.0      44.975278 -93.259214         100"
      ]
     },
     "execution_count": 3,
     "metadata": {},
     "output_type": "execute_result"
    }
   ],
   "source": [
    "ndf = df[[\"latitude\", \"longitude\", \"Throughput\"]]\n",
    "ndf.head()"
   ]
  },
  {
   "cell_type": "code",
   "execution_count": 18,
   "metadata": {},
   "outputs": [
    {
     "data": {
      "text/html": [
       "<div>\n",
       "<style scoped>\n",
       "    .dataframe tbody tr th:only-of-type {\n",
       "        vertical-align: middle;\n",
       "    }\n",
       "\n",
       "    .dataframe tbody tr th {\n",
       "        vertical-align: top;\n",
       "    }\n",
       "\n",
       "    .dataframe thead th {\n",
       "        text-align: right;\n",
       "    }\n",
       "</style>\n",
       "<table border=\"1\" class=\"dataframe\">\n",
       "  <thead>\n",
       "    <tr style=\"text-align: right;\">\n",
       "      <th></th>\n",
       "      <th></th>\n",
       "      <th>latitude</th>\n",
       "      <th>longitude</th>\n",
       "      <th>Throughput</th>\n",
       "    </tr>\n",
       "    <tr>\n",
       "      <th>run_num</th>\n",
       "      <th>seq_num</th>\n",
       "      <th></th>\n",
       "      <th></th>\n",
       "      <th></th>\n",
       "    </tr>\n",
       "  </thead>\n",
       "  <tbody>\n",
       "    <tr>\n",
       "      <th rowspan=\"5\" valign=\"top\">1</th>\n",
       "      <th>1.0</th>\n",
       "      <td>0.555052</td>\n",
       "      <td>0.931652</td>\n",
       "      <td>0.040625</td>\n",
       "    </tr>\n",
       "    <tr>\n",
       "      <th>2.0</th>\n",
       "      <td>0.554351</td>\n",
       "      <td>0.932764</td>\n",
       "      <td>0.060937</td>\n",
       "    </tr>\n",
       "    <tr>\n",
       "      <th>3.0</th>\n",
       "      <td>0.552584</td>\n",
       "      <td>0.936669</td>\n",
       "      <td>0.057292</td>\n",
       "    </tr>\n",
       "    <tr>\n",
       "      <th>4.0</th>\n",
       "      <td>0.549415</td>\n",
       "      <td>0.943976</td>\n",
       "      <td>0.056250</td>\n",
       "    </tr>\n",
       "    <tr>\n",
       "      <th>5.0</th>\n",
       "      <td>0.545235</td>\n",
       "      <td>0.953213</td>\n",
       "      <td>0.052083</td>\n",
       "    </tr>\n",
       "  </tbody>\n",
       "</table>\n",
       "</div>"
      ],
      "text/plain": [
       "                 latitude  longitude  Throughput\n",
       "run_num seq_num                                 \n",
       "1       1.0      0.555052   0.931652    0.040625\n",
       "        2.0      0.554351   0.932764    0.060937\n",
       "        3.0      0.552584   0.936669    0.057292\n",
       "        4.0      0.549415   0.943976    0.056250\n",
       "        5.0      0.545235   0.953213    0.052083"
      ]
     },
     "execution_count": 18,
     "metadata": {},
     "output_type": "execute_result"
    }
   ],
   "source": [
    "scaled_df=(ndf-ndf.min())/(ndf.max()-ndf.min())\n",
    "scaled_df.head()"
   ]
  },
  {
   "cell_type": "markdown",
   "metadata": {},
   "source": [
    "## 3. Create Train-Test Sets"
   ]
  },
  {
   "cell_type": "code",
   "execution_count": 14,
   "metadata": {},
   "outputs": [],
   "source": [
    "# split function into sequences\n",
    "# y data from the last column \n",
    "def multistep_split(seq, n_steps_in, n_steps_out):\n",
    "    X = list()\n",
    "    y = list()\n",
    "    for i in range(len(seq)):\n",
    "        # pattern end\n",
    "        end_ix = i + n_steps_in\n",
    "        out_end_ix = end_ix + n_steps_out\n",
    "        if out_end_ix > len(seq):\n",
    "            break\n",
    "        seq_x = seq[i:end_ix]\n",
    "        seq_y = seq[end_ix:out_end_ix, -1]\n",
    "        X.append(seq_x)\n",
    "        y.append(seq_y)\n",
    "    return np.array(X), np.array(y)"
   ]
  },
  {
   "cell_type": "code",
   "execution_count": 22,
   "metadata": {},
   "outputs": [
    {
     "data": {
      "text/html": [
       "<div>\n",
       "<style scoped>\n",
       "    .dataframe tbody tr th:only-of-type {\n",
       "        vertical-align: middle;\n",
       "    }\n",
       "\n",
       "    .dataframe tbody tr th {\n",
       "        vertical-align: top;\n",
       "    }\n",
       "\n",
       "    .dataframe thead th {\n",
       "        text-align: right;\n",
       "    }\n",
       "</style>\n",
       "<table border=\"1\" class=\"dataframe\">\n",
       "  <thead>\n",
       "    <tr style=\"text-align: right;\">\n",
       "      <th></th>\n",
       "      <th>latitude</th>\n",
       "      <th>longitude</th>\n",
       "      <th>Throughput</th>\n",
       "    </tr>\n",
       "    <tr>\n",
       "      <th>seq_num</th>\n",
       "      <th></th>\n",
       "      <th></th>\n",
       "      <th></th>\n",
       "    </tr>\n",
       "  </thead>\n",
       "  <tbody>\n",
       "    <tr>\n",
       "      <th>1.0</th>\n",
       "      <td>0.524185</td>\n",
       "      <td>0.921343</td>\n",
       "      <td>0.145833</td>\n",
       "    </tr>\n",
       "    <tr>\n",
       "      <th>2.0</th>\n",
       "      <td>0.526585</td>\n",
       "      <td>0.917659</td>\n",
       "      <td>0.153125</td>\n",
       "    </tr>\n",
       "    <tr>\n",
       "      <th>3.0</th>\n",
       "      <td>0.529579</td>\n",
       "      <td>0.912756</td>\n",
       "      <td>0.159896</td>\n",
       "    </tr>\n",
       "    <tr>\n",
       "      <th>4.0</th>\n",
       "      <td>0.532006</td>\n",
       "      <td>0.908662</td>\n",
       "      <td>0.205208</td>\n",
       "    </tr>\n",
       "    <tr>\n",
       "      <th>5.0</th>\n",
       "      <td>0.534865</td>\n",
       "      <td>0.903918</td>\n",
       "      <td>0.166667</td>\n",
       "    </tr>\n",
       "    <tr>\n",
       "      <th>...</th>\n",
       "      <td>...</td>\n",
       "      <td>...</td>\n",
       "      <td>...</td>\n",
       "    </tr>\n",
       "    <tr>\n",
       "      <th>779.0</th>\n",
       "      <td>0.487425</td>\n",
       "      <td>0.976864</td>\n",
       "      <td>0.065104</td>\n",
       "    </tr>\n",
       "    <tr>\n",
       "      <th>780.0</th>\n",
       "      <td>0.488410</td>\n",
       "      <td>0.977389</td>\n",
       "      <td>0.054688</td>\n",
       "    </tr>\n",
       "    <tr>\n",
       "      <th>781.0</th>\n",
       "      <td>0.489017</td>\n",
       "      <td>0.977326</td>\n",
       "      <td>0.047917</td>\n",
       "    </tr>\n",
       "    <tr>\n",
       "      <th>782.0</th>\n",
       "      <td>0.489637</td>\n",
       "      <td>0.977347</td>\n",
       "      <td>0.045312</td>\n",
       "    </tr>\n",
       "    <tr>\n",
       "      <th>783.0</th>\n",
       "      <td>0.489974</td>\n",
       "      <td>0.977179</td>\n",
       "      <td>0.071354</td>\n",
       "    </tr>\n",
       "  </tbody>\n",
       "</table>\n",
       "<p>783 rows × 3 columns</p>\n",
       "</div>"
      ],
      "text/plain": [
       "         latitude  longitude  Throughput\n",
       "seq_num                                 \n",
       "1.0      0.524185   0.921343    0.145833\n",
       "2.0      0.526585   0.917659    0.153125\n",
       "3.0      0.529579   0.912756    0.159896\n",
       "4.0      0.532006   0.908662    0.205208\n",
       "5.0      0.534865   0.903918    0.166667\n",
       "...           ...        ...         ...\n",
       "779.0    0.487425   0.976864    0.065104\n",
       "780.0    0.488410   0.977389    0.054688\n",
       "781.0    0.489017   0.977326    0.047917\n",
       "782.0    0.489637   0.977347    0.045312\n",
       "783.0    0.489974   0.977179    0.071354\n",
       "\n",
       "[783 rows x 3 columns]"
      ]
     },
     "execution_count": 22,
     "metadata": {},
     "output_type": "execute_result"
    }
   ],
   "source": [
    "scaled_df.loc[118]"
   ]
  },
  {
   "cell_type": "code",
   "execution_count": 27,
   "metadata": {},
   "outputs": [
    {
     "data": {
      "text/plain": [
       "118"
      ]
     },
     "execution_count": 27,
     "metadata": {},
     "output_type": "execute_result"
    }
   ],
   "source": [
    "run_max=scaled_df.index.max()[0]\n",
    "run_max"
   ]
  },
  {
   "cell_type": "code",
   "execution_count": 52,
   "metadata": {},
   "outputs": [],
   "source": [
    "# splits runs into sequences separately\n",
    "seconds_in = 20\n",
    "seconds_out = 10 \n",
    "X_list = list()\n",
    "y_list = list()\n",
    "for run_num in range(1, run_max+1):\n",
    "    run = scaled_df.loc[run_num]\n",
    "    X, y = multistep_split(run.values, n_steps_in=seconds_in, n_steps_out=seconds_out)\n",
    "    X_list.append(X)\n",
    "    y_list.append(y)"
   ]
  },
  {
   "cell_type": "code",
   "execution_count": 53,
   "metadata": {},
   "outputs": [
    {
     "name": "stdout",
     "output_type": "stream",
     "text": [
      "(221, 20, 3)\n",
      "(221, 10)\n"
     ]
    }
   ],
   "source": [
    "print(X_list[2].shape)\n",
    "print(y_list[2].shape)"
   ]
  },
  {
   "cell_type": "code",
   "execution_count": 54,
   "metadata": {},
   "outputs": [
    {
     "name": "stdout",
     "output_type": "stream",
     "text": [
      "(64696, 20, 3)\n"
     ]
    }
   ],
   "source": [
    "X = np.concatenate(X_list)\n",
    "print(X.shape)"
   ]
  },
  {
   "cell_type": "code",
   "execution_count": 55,
   "metadata": {},
   "outputs": [
    {
     "name": "stdout",
     "output_type": "stream",
     "text": [
      "(64696, 10)\n"
     ]
    }
   ],
   "source": [
    "y = np.concatenate(y_list)\n",
    "print(y.shape)"
   ]
  },
  {
   "cell_type": "code",
   "execution_count": 56,
   "metadata": {},
   "outputs": [
    {
     "data": {
      "text/plain": [
       "[<matplotlib.lines.Line2D at 0x7efdeebc94c0>]"
      ]
     },
     "execution_count": 56,
     "metadata": {},
     "output_type": "execute_result"
    },
    {
     "data": {
      "image/png": "[encoded data removed]",
      "text/plain": [
       "<Figure size 432x288 with 1 Axes>"
      ]
     },
     "metadata": {
      "needs_background": "light"
     },
     "output_type": "display_data"
    }
   ],
   "source": [
    "plt.plot(y[200])"
   ]
  },
  {
   "cell_type": "code",
   "execution_count": 57,
   "metadata": {},
   "outputs": [
    {
     "data": {
      "text/plain": [
       "[<matplotlib.lines.Line2D at 0x7efdecdec160>]"
      ]
     },
     "execution_count": 57,
     "metadata": {},
     "output_type": "execute_result"
    },
    {
     "data": {
      "image/png": "[encoded data removed]",
      "text/plain": [
       "<Figure size 432x288 with 1 Axes>"
      ]
     },
     "metadata": {
      "needs_background": "light"
     },
     "output_type": "display_data"
    }
   ],
   "source": [
    "T = X[200, :, -1]\n",
    "plt.plot(T)"
   ]
  }
 ],
 "metadata": {
  "kernelspec": {
   "display_name": "Python 3.8.5 64-bit ('data': venv)",
   "language": "python",
   "name": "python385jvsc74a57bd0cd31887e2e07df70553cd5c31f508df79b5538fc01dbd5d7718909411d6538a1"
  },
  "language_info": {
   "codemirror_mode": {
    "name": "ipython",
    "version": 3
   },
   "file_extension": ".py",
   "mimetype": "text/x-python",
   "name": "python",
   "nbconvert_exporter": "python",
   "pygments_lexer": "ipython3",
   "version": "3.8.5"
  }
 },
 "nbformat": 4,
 "nbformat_minor": 4
}
