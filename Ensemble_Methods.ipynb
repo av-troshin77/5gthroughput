{
 "cells": [
  {
   "cell_type": "markdown",
   "metadata": {},
   "source": [
    "# Ensemble Methods"
   ]
  },
  {
   "cell_type": "code",
   "execution_count": 1,
   "metadata": {},
   "outputs": [],
   "source": [
    "import numpy as np\n",
    "import pandas as pd\n",
    "import math\n",
    "import matplotlib.pyplot as plt\n",
    "from sklearn.metrics import mean_squared_error\n",
    "from sklearn.neighbors import KNeighborsRegressor\n",
    "from sklearn.tree import DecisionTreeRegressor\n",
    "from sklearn.multioutput import MultiOutputRegressor\n",
    "from sklearn.multioutput import RegressorChain\n",
    "from sklearn.ensemble import RandomForestRegressor\n",
    "from sklearn.ensemble import ExtraTreesRegressor\n",
    "from sklearn.ensemble import GradientBoostingRegressor"
   ]
  },
  {
   "cell_type": "markdown",
   "metadata": {},
   "source": [
    "## 1. Load the Dataset"
   ]
  },
  {
   "cell_type": "code",
   "execution_count": 2,
   "metadata": {},
   "outputs": [
    {
     "data": {
      "text/html": [
       "<div>\n",
       "<style scoped>\n",
       "    .dataframe tbody tr th:only-of-type {\n",
       "        vertical-align: middle;\n",
       "    }\n",
       "\n",
       "    .dataframe tbody tr th {\n",
       "        vertical-align: top;\n",
       "    }\n",
       "\n",
       "    .dataframe thead th {\n",
       "        text-align: right;\n",
       "    }\n",
       "</style>\n",
       "<table border=\"1\" class=\"dataframe\">\n",
       "  <thead>\n",
       "    <tr style=\"text-align: right;\">\n",
       "      <th></th>\n",
       "      <th></th>\n",
       "      <th>abstractSignalStr</th>\n",
       "      <th>latitude</th>\n",
       "      <th>longitude</th>\n",
       "      <th>movingSpeed</th>\n",
       "      <th>compassDirection</th>\n",
       "      <th>nrStatus</th>\n",
       "      <th>lte_rssi</th>\n",
       "      <th>lte_rsrp</th>\n",
       "      <th>lte_rsrq</th>\n",
       "      <th>lte_rssnr</th>\n",
       "      <th>nr_ssRsrp</th>\n",
       "      <th>nr_ssRsrq</th>\n",
       "      <th>nr_ssSinr</th>\n",
       "      <th>Throughput</th>\n",
       "      <th>mobility_mode</th>\n",
       "      <th>trajectory_direction</th>\n",
       "      <th>tower_id</th>\n",
       "    </tr>\n",
       "    <tr>\n",
       "      <th>run_num</th>\n",
       "      <th>seq_num</th>\n",
       "      <th></th>\n",
       "      <th></th>\n",
       "      <th></th>\n",
       "      <th></th>\n",
       "      <th></th>\n",
       "      <th></th>\n",
       "      <th></th>\n",
       "      <th></th>\n",
       "      <th></th>\n",
       "      <th></th>\n",
       "      <th></th>\n",
       "      <th></th>\n",
       "      <th></th>\n",
       "      <th></th>\n",
       "      <th></th>\n",
       "      <th></th>\n",
       "      <th></th>\n",
       "    </tr>\n",
       "  </thead>\n",
       "  <tbody>\n",
       "    <tr>\n",
       "      <th rowspan=\"5\" valign=\"top\">1</th>\n",
       "      <th>1.0</th>\n",
       "      <td>2</td>\n",
       "      <td>44.975314</td>\n",
       "      <td>-93.259316</td>\n",
       "      <td>0.094889</td>\n",
       "      <td>150</td>\n",
       "      <td>NOT_RESTRICTED</td>\n",
       "      <td>-61.0</td>\n",
       "      <td>-94</td>\n",
       "      <td>-14.0</td>\n",
       "      <td>2.147484e+09</td>\n",
       "      <td>NaN</td>\n",
       "      <td>NaN</td>\n",
       "      <td>NaN</td>\n",
       "      <td>78</td>\n",
       "      <td>driving</td>\n",
       "      <td>CW</td>\n",
       "      <td>16</td>\n",
       "    </tr>\n",
       "    <tr>\n",
       "      <th>2.0</th>\n",
       "      <td>2</td>\n",
       "      <td>44.975311</td>\n",
       "      <td>-93.259311</td>\n",
       "      <td>0.876634</td>\n",
       "      <td>117</td>\n",
       "      <td>NOT_RESTRICTED</td>\n",
       "      <td>-61.0</td>\n",
       "      <td>-94</td>\n",
       "      <td>-14.0</td>\n",
       "      <td>2.147484e+09</td>\n",
       "      <td>NaN</td>\n",
       "      <td>NaN</td>\n",
       "      <td>NaN</td>\n",
       "      <td>117</td>\n",
       "      <td>driving</td>\n",
       "      <td>CW</td>\n",
       "      <td>16</td>\n",
       "    </tr>\n",
       "    <tr>\n",
       "      <th>3.0</th>\n",
       "      <td>2</td>\n",
       "      <td>44.975305</td>\n",
       "      <td>-93.259292</td>\n",
       "      <td>2.225798</td>\n",
       "      <td>113</td>\n",
       "      <td>NOT_RESTRICTED</td>\n",
       "      <td>-61.0</td>\n",
       "      <td>-94</td>\n",
       "      <td>-14.0</td>\n",
       "      <td>2.147484e+09</td>\n",
       "      <td>NaN</td>\n",
       "      <td>NaN</td>\n",
       "      <td>NaN</td>\n",
       "      <td>110</td>\n",
       "      <td>driving</td>\n",
       "      <td>CW</td>\n",
       "      <td>16</td>\n",
       "    </tr>\n",
       "    <tr>\n",
       "      <th>4.0</th>\n",
       "      <td>2</td>\n",
       "      <td>44.975293</td>\n",
       "      <td>-93.259258</td>\n",
       "      <td>3.180726</td>\n",
       "      <td>114</td>\n",
       "      <td>NOT_RESTRICTED</td>\n",
       "      <td>-59.0</td>\n",
       "      <td>-95</td>\n",
       "      <td>-16.0</td>\n",
       "      <td>2.147484e+09</td>\n",
       "      <td>NaN</td>\n",
       "      <td>NaN</td>\n",
       "      <td>NaN</td>\n",
       "      <td>108</td>\n",
       "      <td>driving</td>\n",
       "      <td>CW</td>\n",
       "      <td>16</td>\n",
       "    </tr>\n",
       "    <tr>\n",
       "      <th>5.0</th>\n",
       "      <td>2</td>\n",
       "      <td>44.975278</td>\n",
       "      <td>-93.259214</td>\n",
       "      <td>3.751234</td>\n",
       "      <td>115</td>\n",
       "      <td>NOT_RESTRICTED</td>\n",
       "      <td>-59.0</td>\n",
       "      <td>-95</td>\n",
       "      <td>-16.0</td>\n",
       "      <td>2.147484e+09</td>\n",
       "      <td>NaN</td>\n",
       "      <td>NaN</td>\n",
       "      <td>NaN</td>\n",
       "      <td>100</td>\n",
       "      <td>driving</td>\n",
       "      <td>CW</td>\n",
       "      <td>16</td>\n",
       "    </tr>\n",
       "  </tbody>\n",
       "</table>\n",
       "</div>"
      ],
      "text/plain": [
       "                 abstractSignalStr   latitude  longitude  movingSpeed  \\\n",
       "run_num seq_num                                                         \n",
       "1       1.0                      2  44.975314 -93.259316     0.094889   \n",
       "        2.0                      2  44.975311 -93.259311     0.876634   \n",
       "        3.0                      2  44.975305 -93.259292     2.225798   \n",
       "        4.0                      2  44.975293 -93.259258     3.180726   \n",
       "        5.0                      2  44.975278 -93.259214     3.751234   \n",
       "\n",
       "                 compassDirection        nrStatus  lte_rssi  lte_rsrp  \\\n",
       "run_num seq_num                                                         \n",
       "1       1.0                   150  NOT_RESTRICTED     -61.0       -94   \n",
       "        2.0                   117  NOT_RESTRICTED     -61.0       -94   \n",
       "        3.0                   113  NOT_RESTRICTED     -61.0       -94   \n",
       "        4.0                   114  NOT_RESTRICTED     -59.0       -95   \n",
       "        5.0                   115  NOT_RESTRICTED     -59.0       -95   \n",
       "\n",
       "                 lte_rsrq     lte_rssnr  nr_ssRsrp  nr_ssRsrq  nr_ssSinr  \\\n",
       "run_num seq_num                                                            \n",
       "1       1.0         -14.0  2.147484e+09        NaN        NaN        NaN   \n",
       "        2.0         -14.0  2.147484e+09        NaN        NaN        NaN   \n",
       "        3.0         -14.0  2.147484e+09        NaN        NaN        NaN   \n",
       "        4.0         -16.0  2.147484e+09        NaN        NaN        NaN   \n",
       "        5.0         -16.0  2.147484e+09        NaN        NaN        NaN   \n",
       "\n",
       "                 Throughput mobility_mode trajectory_direction  tower_id  \n",
       "run_num seq_num                                                           \n",
       "1       1.0              78       driving                   CW        16  \n",
       "        2.0             117       driving                   CW        16  \n",
       "        3.0             110       driving                   CW        16  \n",
       "        4.0             108       driving                   CW        16  \n",
       "        5.0             100       driving                   CW        16  "
      ]
     },
     "execution_count": 2,
     "metadata": {},
     "output_type": "execute_result"
    }
   ],
   "source": [
    "df = pd.read_csv('Lumos5G-v1.0.csv',\n",
    "                index_col=['run_num', 'seq_num'])\n",
    "df.head(5)"
   ]
  },
  {
   "cell_type": "code",
   "execution_count": 3,
   "metadata": {},
   "outputs": [
    {
     "data": {
      "text/html": [
       "<div>\n",
       "<style scoped>\n",
       "    .dataframe tbody tr th:only-of-type {\n",
       "        vertical-align: middle;\n",
       "    }\n",
       "\n",
       "    .dataframe tbody tr th {\n",
       "        vertical-align: top;\n",
       "    }\n",
       "\n",
       "    .dataframe thead th {\n",
       "        text-align: right;\n",
       "    }\n",
       "</style>\n",
       "<table border=\"1\" class=\"dataframe\">\n",
       "  <thead>\n",
       "    <tr style=\"text-align: right;\">\n",
       "      <th></th>\n",
       "      <th></th>\n",
       "      <th>Throughput</th>\n",
       "    </tr>\n",
       "    <tr>\n",
       "      <th>run_num</th>\n",
       "      <th>seq_num</th>\n",
       "      <th></th>\n",
       "    </tr>\n",
       "  </thead>\n",
       "  <tbody>\n",
       "    <tr>\n",
       "      <th rowspan=\"5\" valign=\"top\">1</th>\n",
       "      <th>1.0</th>\n",
       "      <td>78</td>\n",
       "    </tr>\n",
       "    <tr>\n",
       "      <th>2.0</th>\n",
       "      <td>117</td>\n",
       "    </tr>\n",
       "    <tr>\n",
       "      <th>3.0</th>\n",
       "      <td>110</td>\n",
       "    </tr>\n",
       "    <tr>\n",
       "      <th>4.0</th>\n",
       "      <td>108</td>\n",
       "    </tr>\n",
       "    <tr>\n",
       "      <th>5.0</th>\n",
       "      <td>100</td>\n",
       "    </tr>\n",
       "  </tbody>\n",
       "</table>\n",
       "</div>"
      ],
      "text/plain": [
       "                 Throughput\n",
       "run_num seq_num            \n",
       "1       1.0              78\n",
       "        2.0             117\n",
       "        3.0             110\n",
       "        4.0             108\n",
       "        5.0             100"
      ]
     },
     "execution_count": 3,
     "metadata": {},
     "output_type": "execute_result"
    }
   ],
   "source": [
    "# select columns\n",
    "ndf = df[[\"Throughput\"]]\n",
    "ndf.head()"
   ]
  },
  {
   "cell_type": "code",
   "execution_count": 4,
   "metadata": {},
   "outputs": [
    {
     "name": "stdout",
     "output_type": "stream",
     "text": [
      "Max throughput: Throughput    1920\n",
      "dtype: int64\n",
      "Min throughput: Throughput    0\n",
      "dtype: int64\n"
     ]
    }
   ],
   "source": [
    "max_throughput = ndf.max()\n",
    "min_throughput = ndf.min()\n",
    "print(f'Max throughput: {max_throughput}')\n",
    "print(f'Min throughput: {min_throughput}')\n",
    "max_throughput = max_throughput.item() # get python int!"
   ]
  },
  {
   "cell_type": "code",
   "execution_count": 5,
   "metadata": {},
   "outputs": [
    {
     "data": {
      "text/html": [
       "<div>\n",
       "<style scoped>\n",
       "    .dataframe tbody tr th:only-of-type {\n",
       "        vertical-align: middle;\n",
       "    }\n",
       "\n",
       "    .dataframe tbody tr th {\n",
       "        vertical-align: top;\n",
       "    }\n",
       "\n",
       "    .dataframe thead th {\n",
       "        text-align: right;\n",
       "    }\n",
       "</style>\n",
       "<table border=\"1\" class=\"dataframe\">\n",
       "  <thead>\n",
       "    <tr style=\"text-align: right;\">\n",
       "      <th></th>\n",
       "      <th></th>\n",
       "      <th>Throughput</th>\n",
       "    </tr>\n",
       "    <tr>\n",
       "      <th>run_num</th>\n",
       "      <th>seq_num</th>\n",
       "      <th></th>\n",
       "    </tr>\n",
       "  </thead>\n",
       "  <tbody>\n",
       "    <tr>\n",
       "      <th rowspan=\"5\" valign=\"top\">1</th>\n",
       "      <th>1.0</th>\n",
       "      <td>0.040625</td>\n",
       "    </tr>\n",
       "    <tr>\n",
       "      <th>2.0</th>\n",
       "      <td>0.060937</td>\n",
       "    </tr>\n",
       "    <tr>\n",
       "      <th>3.0</th>\n",
       "      <td>0.057292</td>\n",
       "    </tr>\n",
       "    <tr>\n",
       "      <th>4.0</th>\n",
       "      <td>0.056250</td>\n",
       "    </tr>\n",
       "    <tr>\n",
       "      <th>5.0</th>\n",
       "      <td>0.052083</td>\n",
       "    </tr>\n",
       "  </tbody>\n",
       "</table>\n",
       "</div>"
      ],
      "text/plain": [
       "                 Throughput\n",
       "run_num seq_num            \n",
       "1       1.0        0.040625\n",
       "        2.0        0.060937\n",
       "        3.0        0.057292\n",
       "        4.0        0.056250\n",
       "        5.0        0.052083"
      ]
     },
     "execution_count": 5,
     "metadata": {},
     "output_type": "execute_result"
    }
   ],
   "source": [
    "# Min-Max Scaling\n",
    "df=(ndf-ndf.min())/(ndf.max()-ndf.min())\n",
    "df.head()"
   ]
  },
  {
   "cell_type": "markdown",
   "metadata": {},
   "source": [
    "## 2. Create Train-Test Sets"
   ]
  },
  {
   "cell_type": "code",
   "execution_count": 6,
   "metadata": {},
   "outputs": [],
   "source": [
    "# split function into sequences\n",
    "def multistep_split(seq, n_steps_in, n_steps_out):\n",
    "    X = list()\n",
    "    y = list()\n",
    "    for i in range(len(seq)):\n",
    "        # pattern end\n",
    "        end_ix = i + n_steps_in\n",
    "        out_end_ix = end_ix + n_steps_out\n",
    "        if out_end_ix > len(seq):\n",
    "            break\n",
    "        seq_x = seq[i:end_ix]\n",
    "        seq_y = seq[end_ix:out_end_ix, -1]\n",
    "        X.append(seq_x)\n",
    "        y.append(seq_y)\n",
    "    return np.array(X), np.array(y)"
   ]
  },
  {
   "cell_type": "code",
   "execution_count": 7,
   "metadata": {},
   "outputs": [
    {
     "name": "stdout",
     "output_type": "stream",
     "text": [
      "(63516, 20)\n",
      "(63516, 20)\n"
     ]
    }
   ],
   "source": [
    "# separately splits runs into sequences\n",
    "run_max=df.index.max()[0]\n",
    "seconds_in = 20\n",
    "seconds_out = 20 \n",
    "X_list = list()\n",
    "y_list = list()\n",
    "for run_num in range(1, run_max+1):\n",
    "    run = df.loc[run_num].values\n",
    "    X, y = multistep_split(run.astype('float32'), n_steps_in=seconds_in, n_steps_out=seconds_out)\n",
    "    X_list.append(X)\n",
    "    y_list.append(y)\n",
    "X = np.concatenate(X_list)\n",
    "y = np.concatenate(y_list)\n",
    "X = X.reshape((X.shape[0], X.shape[1]))\n",
    "print(X.shape)\n",
    "print(y.shape)"
   ]
  },
  {
   "cell_type": "code",
   "execution_count": 8,
   "metadata": {},
   "outputs": [
    {
     "name": "stdout",
     "output_type": "stream",
     "text": [
      "(44461, 20)\n",
      "(44461, 20)\n",
      "(19055, 20)\n",
      "(19055, 20)\n"
     ]
    }
   ],
   "source": [
    "ratio=0.7\n",
    "train_size = int(ratio*X.shape[0])\n",
    "X_train = X[:train_size]\n",
    "y_train = y[:train_size]\n",
    "X_test = X[train_size:]\n",
    "y_test = y[train_size:]\n",
    "print(X_train.shape)\n",
    "print(y_train.shape)\n",
    "print(X_test.shape)\n",
    "print(y_test.shape)"
   ]
  },
  {
   "cell_type": "markdown",
   "metadata": {},
   "source": [
    "## 3. Random Forest"
   ]
  },
  {
   "cell_type": "code",
   "execution_count": 9,
   "metadata": {},
   "outputs": [
    {
     "data": {
      "text/plain": [
       "RandomForestRegressor()"
      ]
     },
     "execution_count": 9,
     "metadata": {},
     "output_type": "execute_result"
    }
   ],
   "source": [
    "model = RandomForestRegressor(n_estimators=100)\n",
    "model.fit(X_train, y_train)"
   ]
  },
  {
   "cell_type": "code",
   "execution_count": 10,
   "metadata": {},
   "outputs": [
    {
     "name": "stdout",
     "output_type": "stream",
     "text": [
      "MSE of RF for this example : 0.0080\n"
     ]
    },
    {
     "data": {
      "image/png": "[encoded data removed]",
      "text/plain": [
       "<Figure size 432x288 with 1 Axes>"
      ]
     },
     "metadata": {
      "needs_background": "light"
     },
     "output_type": "display_data"
    }
   ],
   "source": [
    "n = 360 # example number\n",
    "y_true = y_test[n]\n",
    "x = X_test[n].reshape(1,-1)\n",
    "y_pred = model.predict(x).flatten()\n",
    "print(f'MSE of RF for this example : {mean_squared_error(y_true, y_pred):.4f}')\n",
    "plt.plot(y_true*max_throughput, 'b')\n",
    "plt.plot(y_pred*max_throughput, 'r')\n",
    "plt.ylim(0, max_throughput)\n",
    "plt.show()"
   ]
  },
  {
   "cell_type": "code",
   "execution_count": 11,
   "metadata": {},
   "outputs": [
    {
     "name": "stdout",
     "output_type": "stream",
     "text": [
      "RF MSE for all test data: 0.0354\n",
      "RF RMSE: 361.366000\n"
     ]
    }
   ],
   "source": [
    "# MSE for all test data\n",
    "mse_list = list()\n",
    "for x,y in zip(X_test, y_test):\n",
    "    x_in = x.reshape(1,-1)\n",
    "    y_pred = model.predict(x_in).flatten()\n",
    "    mse = mean_squared_error(y, y_pred)\n",
    "    mse_list.append(mse)\n",
    "MSE = np.array(mse_list)\n",
    "MSE = MSE.mean()\n",
    "print(f'RF MSE for all test data: {MSE:.4f}')\n",
    "print(f'RF RMSE: {math.sqrt(MSE)*max_throughput:4f}')"
   ]
  },
  {
   "cell_type": "markdown",
   "metadata": {},
   "source": [
    "## 4. Extra Trees"
   ]
  },
  {
   "cell_type": "code",
   "execution_count": 12,
   "metadata": {},
   "outputs": [
    {
     "data": {
      "text/plain": [
       "ExtraTreesRegressor()"
      ]
     },
     "execution_count": 12,
     "metadata": {},
     "output_type": "execute_result"
    }
   ],
   "source": [
    "model = ExtraTreesRegressor(n_estimators=100)\n",
    "model.fit(X_train, y_train)"
   ]
  },
  {
   "cell_type": "code",
   "execution_count": 13,
   "metadata": {},
   "outputs": [
    {
     "name": "stdout",
     "output_type": "stream",
     "text": [
      "MSE of ET for this example : 0.0095\n"
     ]
    },
    {
     "data": {
      "image/png": "[encoded data removed]",
      "text/plain": [
       "<Figure size 432x288 with 1 Axes>"
      ]
     },
     "metadata": {
      "needs_background": "light"
     },
     "output_type": "display_data"
    }
   ],
   "source": [
    "n = 360 # example number\n",
    "y_true = y_test[n]\n",
    "x = X_test[n].reshape(1,-1)\n",
    "y_pred = model.predict(x).flatten()\n",
    "print(f'MSE of ET for this example : {mean_squared_error(y_true, y_pred):.4f}')\n",
    "plt.plot(y_true*max_throughput, 'b')\n",
    "plt.plot(y_pred*max_throughput, 'r')\n",
    "plt.ylim(0, max_throughput)\n",
    "plt.show()"
   ]
  },
  {
   "cell_type": "code",
   "execution_count": 14,
   "metadata": {},
   "outputs": [
    {
     "name": "stdout",
     "output_type": "stream",
     "text": [
      "ET MSE for all test data: 0.0355\n",
      "ET RMSE: 361.643041\n"
     ]
    }
   ],
   "source": [
    "# MSE for all test data\n",
    "mse_list = list()\n",
    "for x,y in zip(X_test, y_test):\n",
    "    x_in = x.reshape(1,-1)\n",
    "    y_pred = model.predict(x_in).flatten()\n",
    "    mse = mean_squared_error(y, y_pred)\n",
    "    mse_list.append(mse)\n",
    "MSE = np.array(mse_list)\n",
    "MSE = MSE.mean()\n",
    "print(f'ET MSE for all test data: {MSE:.4f}')\n",
    "print(f'ET RMSE: {math.sqrt(MSE)*max_throughput:4f}')"
   ]
  },
  {
   "cell_type": "markdown",
   "metadata": {},
   "source": [
    "## 5. Gradient Boosting"
   ]
  },
  {
   "cell_type": "code",
   "execution_count": 15,
   "metadata": {},
   "outputs": [
    {
     "data": {
      "text/plain": [
       "MultiOutputRegressor(estimator=GradientBoostingRegressor(n_estimators=30))"
      ]
     },
     "execution_count": 15,
     "metadata": {},
     "output_type": "execute_result"
    }
   ],
   "source": [
    "model = GradientBoostingRegressor(n_estimators=30)\n",
    "wrapper = MultiOutputRegressor(model)\n",
    "wrapper.fit(X_train, y_train)"
   ]
  },
  {
   "cell_type": "code",
   "execution_count": 16,
   "metadata": {},
   "outputs": [
    {
     "name": "stdout",
     "output_type": "stream",
     "text": [
      "MSE of GB for this example : 0.0084\n"
     ]
    },
    {
     "data": {
      "image/png": "[encoded data removed]",
      "text/plain": [
       "<Figure size 432x288 with 1 Axes>"
      ]
     },
     "metadata": {
      "needs_background": "light"
     },
     "output_type": "display_data"
    }
   ],
   "source": [
    "n = 360 # example number\n",
    "y_true = y_test[n]\n",
    "x = X_test[n].reshape(1,-1)\n",
    "y_pred = wrapper.predict(x).flatten()\n",
    "print(f'MSE of GB for this example : {mean_squared_error(y_true, y_pred):.4f}')\n",
    "plt.plot(y_true*max_throughput, 'b')\n",
    "plt.plot(y_pred*max_throughput, 'r')\n",
    "plt.ylim(0, max_throughput)\n",
    "plt.show()"
   ]
  },
  {
   "cell_type": "code",
   "execution_count": 17,
   "metadata": {},
   "outputs": [
    {
     "name": "stdout",
     "output_type": "stream",
     "text": [
      "GB MSE for all test data: 0.0347\n",
      "GB RMSE: 357.414782\n"
     ]
    }
   ],
   "source": [
    "# MSE for all test data\n",
    "mse_list = list()\n",
    "for x,y in zip(X_test, y_test):\n",
    "    x_in = x.reshape(1,-1)\n",
    "    y_pred = wrapper.predict(x_in).flatten()\n",
    "    mse = mean_squared_error(y, y_pred)\n",
    "    mse_list.append(mse)\n",
    "MSE = np.array(mse_list)\n",
    "MSE = MSE.mean()\n",
    "print(f'GB MSE for all test data: {MSE:.4f}')\n",
    "print(f'GB RMSE: {math.sqrt(MSE)*max_throughput:4f}')"
   ]
  }
 ],
 "metadata": {
  "kernelspec": {
   "display_name": "Python 3",
   "language": "python",
   "name": "python3"
  },
  "language_info": {
   "codemirror_mode": {
    "name": "ipython",
    "version": 3
   },
   "file_extension": ".py",
   "mimetype": "text/x-python",
   "name": "python",
   "nbconvert_exporter": "python",
   "pygments_lexer": "ipython3",
   "version": "3.6.9"
  }
 },
 "nbformat": 4,
 "nbformat_minor": 4
}
