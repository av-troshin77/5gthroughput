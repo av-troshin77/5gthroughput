{
 "cells": [
  {
   "cell_type": "markdown",
   "metadata": {},
   "source": [
    "# Multivariate LSTM"
   ]
  },
  {
   "cell_type": "code",
   "execution_count": 1,
   "metadata": {},
   "outputs": [],
   "source": [
    "import pandas as pd\n",
    "import numpy as np\n",
    "import tensorflow as tf\n",
    "import matplotlib.pyplot as plt\n",
    "from sklearn.metrics import mean_squared_error\n",
    "from sklearn import preprocessing"
   ]
  },
  {
   "cell_type": "code",
   "execution_count": 2,
   "metadata": {},
   "outputs": [],
   "source": [
    "# fix tensorflow gpu problems\n",
    "from tensorflow.compat.v1 import ConfigProto\n",
    "from tensorflow.compat.v1 import InteractiveSession\n",
    "config = ConfigProto()\n",
    "config.gpu_options.allow_growth = True\n",
    "session = InteractiveSession(config=config)"
   ]
  },
  {
   "cell_type": "code",
   "execution_count": 3,
   "metadata": {},
   "outputs": [
    {
     "name": "stdout",
     "output_type": "stream",
     "text": [
      "1\n",
      "True\n",
      "True\n",
      "/device:GPU:0\n"
     ]
    }
   ],
   "source": [
    "# check gpu support\n",
    "gpus = tf.config.list_physical_devices('GPU')\n",
    "print(len(gpus))\n",
    "print(tf.test.is_built_with_gpu_support())\n",
    "print(tf.test.is_built_with_cuda())\n",
    "print(tf.test.gpu_device_name())"
   ]
  },
  {
   "cell_type": "markdown",
   "metadata": {},
   "source": [
    "## 1. Load the dataset"
   ]
  },
  {
   "cell_type": "code",
   "execution_count": 4,
   "metadata": {},
   "outputs": [
    {
     "data": {
      "text/html": [
       "<div>\n",
       "<style scoped>\n",
       "    .dataframe tbody tr th:only-of-type {\n",
       "        vertical-align: middle;\n",
       "    }\n",
       "\n",
       "    .dataframe tbody tr th {\n",
       "        vertical-align: top;\n",
       "    }\n",
       "\n",
       "    .dataframe thead th {\n",
       "        text-align: right;\n",
       "    }\n",
       "</style>\n",
       "<table border=\"1\" class=\"dataframe\">\n",
       "  <thead>\n",
       "    <tr style=\"text-align: right;\">\n",
       "      <th></th>\n",
       "      <th></th>\n",
       "      <th>abstractSignalStr</th>\n",
       "      <th>latitude</th>\n",
       "      <th>longitude</th>\n",
       "      <th>movingSpeed</th>\n",
       "      <th>compassDirection</th>\n",
       "      <th>nrStatus</th>\n",
       "      <th>lte_rssi</th>\n",
       "      <th>lte_rsrp</th>\n",
       "      <th>lte_rsrq</th>\n",
       "      <th>lte_rssnr</th>\n",
       "      <th>nr_ssRsrp</th>\n",
       "      <th>nr_ssRsrq</th>\n",
       "      <th>nr_ssSinr</th>\n",
       "      <th>Throughput</th>\n",
       "      <th>mobility_mode</th>\n",
       "      <th>trajectory_direction</th>\n",
       "      <th>tower_id</th>\n",
       "    </tr>\n",
       "    <tr>\n",
       "      <th>run_num</th>\n",
       "      <th>seq_num</th>\n",
       "      <th></th>\n",
       "      <th></th>\n",
       "      <th></th>\n",
       "      <th></th>\n",
       "      <th></th>\n",
       "      <th></th>\n",
       "      <th></th>\n",
       "      <th></th>\n",
       "      <th></th>\n",
       "      <th></th>\n",
       "      <th></th>\n",
       "      <th></th>\n",
       "      <th></th>\n",
       "      <th></th>\n",
       "      <th></th>\n",
       "      <th></th>\n",
       "      <th></th>\n",
       "    </tr>\n",
       "  </thead>\n",
       "  <tbody>\n",
       "    <tr>\n",
       "      <th rowspan=\"5\" valign=\"top\">1</th>\n",
       "      <th>1.0</th>\n",
       "      <td>2</td>\n",
       "      <td>44.975314</td>\n",
       "      <td>-93.259316</td>\n",
       "      <td>0.094889</td>\n",
       "      <td>150</td>\n",
       "      <td>NOT_RESTRICTED</td>\n",
       "      <td>-61.0</td>\n",
       "      <td>-94</td>\n",
       "      <td>-14.0</td>\n",
       "      <td>2.147484e+09</td>\n",
       "      <td>NaN</td>\n",
       "      <td>NaN</td>\n",
       "      <td>NaN</td>\n",
       "      <td>78</td>\n",
       "      <td>driving</td>\n",
       "      <td>CW</td>\n",
       "      <td>16</td>\n",
       "    </tr>\n",
       "    <tr>\n",
       "      <th>2.0</th>\n",
       "      <td>2</td>\n",
       "      <td>44.975311</td>\n",
       "      <td>-93.259311</td>\n",
       "      <td>0.876634</td>\n",
       "      <td>117</td>\n",
       "      <td>NOT_RESTRICTED</td>\n",
       "      <td>-61.0</td>\n",
       "      <td>-94</td>\n",
       "      <td>-14.0</td>\n",
       "      <td>2.147484e+09</td>\n",
       "      <td>NaN</td>\n",
       "      <td>NaN</td>\n",
       "      <td>NaN</td>\n",
       "      <td>117</td>\n",
       "      <td>driving</td>\n",
       "      <td>CW</td>\n",
       "      <td>16</td>\n",
       "    </tr>\n",
       "    <tr>\n",
       "      <th>3.0</th>\n",
       "      <td>2</td>\n",
       "      <td>44.975305</td>\n",
       "      <td>-93.259292</td>\n",
       "      <td>2.225798</td>\n",
       "      <td>113</td>\n",
       "      <td>NOT_RESTRICTED</td>\n",
       "      <td>-61.0</td>\n",
       "      <td>-94</td>\n",
       "      <td>-14.0</td>\n",
       "      <td>2.147484e+09</td>\n",
       "      <td>NaN</td>\n",
       "      <td>NaN</td>\n",
       "      <td>NaN</td>\n",
       "      <td>110</td>\n",
       "      <td>driving</td>\n",
       "      <td>CW</td>\n",
       "      <td>16</td>\n",
       "    </tr>\n",
       "    <tr>\n",
       "      <th>4.0</th>\n",
       "      <td>2</td>\n",
       "      <td>44.975293</td>\n",
       "      <td>-93.259258</td>\n",
       "      <td>3.180726</td>\n",
       "      <td>114</td>\n",
       "      <td>NOT_RESTRICTED</td>\n",
       "      <td>-59.0</td>\n",
       "      <td>-95</td>\n",
       "      <td>-16.0</td>\n",
       "      <td>2.147484e+09</td>\n",
       "      <td>NaN</td>\n",
       "      <td>NaN</td>\n",
       "      <td>NaN</td>\n",
       "      <td>108</td>\n",
       "      <td>driving</td>\n",
       "      <td>CW</td>\n",
       "      <td>16</td>\n",
       "    </tr>\n",
       "    <tr>\n",
       "      <th>5.0</th>\n",
       "      <td>2</td>\n",
       "      <td>44.975278</td>\n",
       "      <td>-93.259214</td>\n",
       "      <td>3.751234</td>\n",
       "      <td>115</td>\n",
       "      <td>NOT_RESTRICTED</td>\n",
       "      <td>-59.0</td>\n",
       "      <td>-95</td>\n",
       "      <td>-16.0</td>\n",
       "      <td>2.147484e+09</td>\n",
       "      <td>NaN</td>\n",
       "      <td>NaN</td>\n",
       "      <td>NaN</td>\n",
       "      <td>100</td>\n",
       "      <td>driving</td>\n",
       "      <td>CW</td>\n",
       "      <td>16</td>\n",
       "    </tr>\n",
       "  </tbody>\n",
       "</table>\n",
       "</div>"
      ],
      "text/plain": [
       "                 abstractSignalStr   latitude  longitude  movingSpeed  \\\n",
       "run_num seq_num                                                         \n",
       "1       1.0                      2  44.975314 -93.259316     0.094889   \n",
       "        2.0                      2  44.975311 -93.259311     0.876634   \n",
       "        3.0                      2  44.975305 -93.259292     2.225798   \n",
       "        4.0                      2  44.975293 -93.259258     3.180726   \n",
       "        5.0                      2  44.975278 -93.259214     3.751234   \n",
       "\n",
       "                 compassDirection        nrStatus  lte_rssi  lte_rsrp  \\\n",
       "run_num seq_num                                                         \n",
       "1       1.0                   150  NOT_RESTRICTED     -61.0       -94   \n",
       "        2.0                   117  NOT_RESTRICTED     -61.0       -94   \n",
       "        3.0                   113  NOT_RESTRICTED     -61.0       -94   \n",
       "        4.0                   114  NOT_RESTRICTED     -59.0       -95   \n",
       "        5.0                   115  NOT_RESTRICTED     -59.0       -95   \n",
       "\n",
       "                 lte_rsrq     lte_rssnr  nr_ssRsrp  nr_ssRsrq  nr_ssSinr  \\\n",
       "run_num seq_num                                                            \n",
       "1       1.0         -14.0  2.147484e+09        NaN        NaN        NaN   \n",
       "        2.0         -14.0  2.147484e+09        NaN        NaN        NaN   \n",
       "        3.0         -14.0  2.147484e+09        NaN        NaN        NaN   \n",
       "        4.0         -16.0  2.147484e+09        NaN        NaN        NaN   \n",
       "        5.0         -16.0  2.147484e+09        NaN        NaN        NaN   \n",
       "\n",
       "                 Throughput mobility_mode trajectory_direction  tower_id  \n",
       "run_num seq_num                                                           \n",
       "1       1.0              78       driving                   CW        16  \n",
       "        2.0             117       driving                   CW        16  \n",
       "        3.0             110       driving                   CW        16  \n",
       "        4.0             108       driving                   CW        16  \n",
       "        5.0             100       driving                   CW        16  "
      ]
     },
     "execution_count": 4,
     "metadata": {},
     "output_type": "execute_result"
    }
   ],
   "source": [
    "df = pd.read_csv('Lumos5G-v1.0.csv', \n",
    "                index_col=['run_num', 'seq_num'])\n",
    "df.head(5)"
   ]
  },
  {
   "cell_type": "code",
   "execution_count": 5,
   "metadata": {},
   "outputs": [
    {
     "name": "stdout",
     "output_type": "stream",
     "text": [
      "<class 'pandas.core.frame.DataFrame'>\n",
      "MultiIndex: 68118 entries, (1, 1.0) to (118, 783.0)\n",
      "Data columns (total 17 columns):\n",
      " #   Column                Non-Null Count  Dtype  \n",
      "---  ------                --------------  -----  \n",
      " 0   abstractSignalStr     68118 non-null  int64  \n",
      " 1   latitude              68118 non-null  float64\n",
      " 2   longitude             68118 non-null  float64\n",
      " 3   movingSpeed           68118 non-null  float64\n",
      " 4   compassDirection      68118 non-null  int64  \n",
      " 5   nrStatus              68118 non-null  object \n",
      " 6   lte_rssi              65137 non-null  float64\n",
      " 7   lte_rsrp              68118 non-null  int64  \n",
      " 8   lte_rsrq              65137 non-null  float64\n",
      " 9   lte_rssnr             65137 non-null  float64\n",
      " 10  nr_ssRsrp             51990 non-null  float64\n",
      " 11  nr_ssRsrq             51990 non-null  float64\n",
      " 12  nr_ssSinr             51990 non-null  float64\n",
      " 13  Throughput            68118 non-null  int64  \n",
      " 14  mobility_mode         68118 non-null  object \n",
      " 15  trajectory_direction  68118 non-null  object \n",
      " 16  tower_id              68118 non-null  int64  \n",
      "dtypes: float64(9), int64(5), object(3)\n",
      "memory usage: 9.1+ MB\n"
     ]
    }
   ],
   "source": [
    "df.info()"
   ]
  },
  {
   "cell_type": "code",
   "execution_count": 6,
   "metadata": {},
   "outputs": [
    {
     "data": {
      "text/html": [
       "<div>\n",
       "<style scoped>\n",
       "    .dataframe tbody tr th:only-of-type {\n",
       "        vertical-align: middle;\n",
       "    }\n",
       "\n",
       "    .dataframe tbody tr th {\n",
       "        vertical-align: top;\n",
       "    }\n",
       "\n",
       "    .dataframe thead th {\n",
       "        text-align: right;\n",
       "    }\n",
       "</style>\n",
       "<table border=\"1\" class=\"dataframe\">\n",
       "  <thead>\n",
       "    <tr style=\"text-align: right;\">\n",
       "      <th></th>\n",
       "      <th></th>\n",
       "      <th>latitude</th>\n",
       "      <th>longitude</th>\n",
       "      <th>abstractSignalStr</th>\n",
       "      <th>movingSpeed</th>\n",
       "      <th>compassDirection</th>\n",
       "      <th>lte_rssi</th>\n",
       "      <th>lte_rsrp</th>\n",
       "      <th>lte_rsrq</th>\n",
       "      <th>lte_rssnr</th>\n",
       "      <th>nr_ssRsrp</th>\n",
       "      <th>nr_ssRsrq</th>\n",
       "      <th>nr_ssSinr</th>\n",
       "      <th>tower_id</th>\n",
       "      <th>trajectory_direction</th>\n",
       "      <th>mobility_mode</th>\n",
       "      <th>nrStatus</th>\n",
       "      <th>Throughput</th>\n",
       "    </tr>\n",
       "    <tr>\n",
       "      <th>run_num</th>\n",
       "      <th>seq_num</th>\n",
       "      <th></th>\n",
       "      <th></th>\n",
       "      <th></th>\n",
       "      <th></th>\n",
       "      <th></th>\n",
       "      <th></th>\n",
       "      <th></th>\n",
       "      <th></th>\n",
       "      <th></th>\n",
       "      <th></th>\n",
       "      <th></th>\n",
       "      <th></th>\n",
       "      <th></th>\n",
       "      <th></th>\n",
       "      <th></th>\n",
       "      <th></th>\n",
       "      <th></th>\n",
       "    </tr>\n",
       "  </thead>\n",
       "  <tbody>\n",
       "    <tr>\n",
       "      <th rowspan=\"5\" valign=\"top\">1</th>\n",
       "      <th>1.0</th>\n",
       "      <td>44.975314</td>\n",
       "      <td>-93.259316</td>\n",
       "      <td>2</td>\n",
       "      <td>0.094889</td>\n",
       "      <td>150</td>\n",
       "      <td>-61.0</td>\n",
       "      <td>-94</td>\n",
       "      <td>-14.0</td>\n",
       "      <td>2.147484e+09</td>\n",
       "      <td>NaN</td>\n",
       "      <td>NaN</td>\n",
       "      <td>NaN</td>\n",
       "      <td>16</td>\n",
       "      <td>CW</td>\n",
       "      <td>driving</td>\n",
       "      <td>NOT_RESTRICTED</td>\n",
       "      <td>78</td>\n",
       "    </tr>\n",
       "    <tr>\n",
       "      <th>2.0</th>\n",
       "      <td>44.975311</td>\n",
       "      <td>-93.259311</td>\n",
       "      <td>2</td>\n",
       "      <td>0.876634</td>\n",
       "      <td>117</td>\n",
       "      <td>-61.0</td>\n",
       "      <td>-94</td>\n",
       "      <td>-14.0</td>\n",
       "      <td>2.147484e+09</td>\n",
       "      <td>NaN</td>\n",
       "      <td>NaN</td>\n",
       "      <td>NaN</td>\n",
       "      <td>16</td>\n",
       "      <td>CW</td>\n",
       "      <td>driving</td>\n",
       "      <td>NOT_RESTRICTED</td>\n",
       "      <td>117</td>\n",
       "    </tr>\n",
       "    <tr>\n",
       "      <th>3.0</th>\n",
       "      <td>44.975305</td>\n",
       "      <td>-93.259292</td>\n",
       "      <td>2</td>\n",
       "      <td>2.225798</td>\n",
       "      <td>113</td>\n",
       "      <td>-61.0</td>\n",
       "      <td>-94</td>\n",
       "      <td>-14.0</td>\n",
       "      <td>2.147484e+09</td>\n",
       "      <td>NaN</td>\n",
       "      <td>NaN</td>\n",
       "      <td>NaN</td>\n",
       "      <td>16</td>\n",
       "      <td>CW</td>\n",
       "      <td>driving</td>\n",
       "      <td>NOT_RESTRICTED</td>\n",
       "      <td>110</td>\n",
       "    </tr>\n",
       "    <tr>\n",
       "      <th>4.0</th>\n",
       "      <td>44.975293</td>\n",
       "      <td>-93.259258</td>\n",
       "      <td>2</td>\n",
       "      <td>3.180726</td>\n",
       "      <td>114</td>\n",
       "      <td>-59.0</td>\n",
       "      <td>-95</td>\n",
       "      <td>-16.0</td>\n",
       "      <td>2.147484e+09</td>\n",
       "      <td>NaN</td>\n",
       "      <td>NaN</td>\n",
       "      <td>NaN</td>\n",
       "      <td>16</td>\n",
       "      <td>CW</td>\n",
       "      <td>driving</td>\n",
       "      <td>NOT_RESTRICTED</td>\n",
       "      <td>108</td>\n",
       "    </tr>\n",
       "    <tr>\n",
       "      <th>5.0</th>\n",
       "      <td>44.975278</td>\n",
       "      <td>-93.259214</td>\n",
       "      <td>2</td>\n",
       "      <td>3.751234</td>\n",
       "      <td>115</td>\n",
       "      <td>-59.0</td>\n",
       "      <td>-95</td>\n",
       "      <td>-16.0</td>\n",
       "      <td>2.147484e+09</td>\n",
       "      <td>NaN</td>\n",
       "      <td>NaN</td>\n",
       "      <td>NaN</td>\n",
       "      <td>16</td>\n",
       "      <td>CW</td>\n",
       "      <td>driving</td>\n",
       "      <td>NOT_RESTRICTED</td>\n",
       "      <td>100</td>\n",
       "    </tr>\n",
       "  </tbody>\n",
       "</table>\n",
       "</div>"
      ],
      "text/plain": [
       "                  latitude  longitude  abstractSignalStr  movingSpeed  \\\n",
       "run_num seq_num                                                         \n",
       "1       1.0      44.975314 -93.259316                  2     0.094889   \n",
       "        2.0      44.975311 -93.259311                  2     0.876634   \n",
       "        3.0      44.975305 -93.259292                  2     2.225798   \n",
       "        4.0      44.975293 -93.259258                  2     3.180726   \n",
       "        5.0      44.975278 -93.259214                  2     3.751234   \n",
       "\n",
       "                 compassDirection  lte_rssi  lte_rsrp  lte_rsrq     lte_rssnr  \\\n",
       "run_num seq_num                                                                 \n",
       "1       1.0                   150     -61.0       -94     -14.0  2.147484e+09   \n",
       "        2.0                   117     -61.0       -94     -14.0  2.147484e+09   \n",
       "        3.0                   113     -61.0       -94     -14.0  2.147484e+09   \n",
       "        4.0                   114     -59.0       -95     -16.0  2.147484e+09   \n",
       "        5.0                   115     -59.0       -95     -16.0  2.147484e+09   \n",
       "\n",
       "                 nr_ssRsrp  nr_ssRsrq  nr_ssSinr  tower_id  \\\n",
       "run_num seq_num                                              \n",
       "1       1.0            NaN        NaN        NaN        16   \n",
       "        2.0            NaN        NaN        NaN        16   \n",
       "        3.0            NaN        NaN        NaN        16   \n",
       "        4.0            NaN        NaN        NaN        16   \n",
       "        5.0            NaN        NaN        NaN        16   \n",
       "\n",
       "                trajectory_direction mobility_mode        nrStatus  Throughput  \n",
       "run_num seq_num                                                                 \n",
       "1       1.0                       CW       driving  NOT_RESTRICTED          78  \n",
       "        2.0                       CW       driving  NOT_RESTRICTED         117  \n",
       "        3.0                       CW       driving  NOT_RESTRICTED         110  \n",
       "        4.0                       CW       driving  NOT_RESTRICTED         108  \n",
       "        5.0                       CW       driving  NOT_RESTRICTED         100  "
      ]
     },
     "execution_count": 6,
     "metadata": {},
     "output_type": "execute_result"
    }
   ],
   "source": [
    "# select columns\n",
    "ndf = df[[\"latitude\",\n",
    "          \"longitude\",\n",
    "          \"abstractSignalStr\",\n",
    "          \"movingSpeed\",\n",
    "          \"compassDirection\",\n",
    "          \"lte_rssi\",\n",
    "          \"lte_rsrp\",\n",
    "          \"lte_rsrq\",\n",
    "          \"lte_rssnr\",\n",
    "          \"nr_ssRsrp\",\n",
    "          \"nr_ssRsrq\",\n",
    "          \"nr_ssSinr\",\n",
    "          \"tower_id\",\n",
    "          \"trajectory_direction\",\n",
    "          \"mobility_mode\",\n",
    "          \"nrStatus\",\n",
    "          \"Throughput\"]]\n",
    "ndf.head()"
   ]
  },
  {
   "cell_type": "code",
   "execution_count": 7,
   "metadata": {},
   "outputs": [
    {
     "name": "stdout",
     "output_type": "stream",
     "text": [
      "<class 'pandas.core.frame.DataFrame'>\n",
      "MultiIndex: 68118 entries, (1, 1.0) to (118, 783.0)\n",
      "Data columns (total 17 columns):\n",
      " #   Column                Non-Null Count  Dtype  \n",
      "---  ------                --------------  -----  \n",
      " 0   latitude              68118 non-null  float64\n",
      " 1   longitude             68118 non-null  float64\n",
      " 2   abstractSignalStr     68118 non-null  int64  \n",
      " 3   movingSpeed           68118 non-null  float64\n",
      " 4   compassDirection      68118 non-null  int64  \n",
      " 5   lte_rssi              65137 non-null  float64\n",
      " 6   lte_rsrp              68118 non-null  int64  \n",
      " 7   lte_rsrq              65137 non-null  float64\n",
      " 8   lte_rssnr             65137 non-null  float64\n",
      " 9   nr_ssRsrp             51990 non-null  float64\n",
      " 10  nr_ssRsrq             51990 non-null  float64\n",
      " 11  nr_ssSinr             51990 non-null  float64\n",
      " 12  tower_id              68118 non-null  int64  \n",
      " 13  trajectory_direction  68118 non-null  object \n",
      " 14  mobility_mode         68118 non-null  object \n",
      " 15  nrStatus              68118 non-null  object \n",
      " 16  Throughput            68118 non-null  int64  \n",
      "dtypes: float64(9), int64(5), object(3)\n",
      "memory usage: 9.1+ MB\n"
     ]
    }
   ],
   "source": [
    "ndf.info()"
   ]
  },
  {
   "cell_type": "code",
   "execution_count": 8,
   "metadata": {},
   "outputs": [
    {
     "data": {
      "text/plain": [
       "0"
      ]
     },
     "execution_count": 8,
     "metadata": {},
     "output_type": "execute_result"
    }
   ],
   "source": [
    "# fill nans with zeros\n",
    "ndf = ndf.fillna(0)\n",
    "ndf.isna().sum().sum() # check nans"
   ]
  },
  {
   "cell_type": "code",
   "execution_count": 9,
   "metadata": {},
   "outputs": [
    {
     "name": "stdout",
     "output_type": "stream",
     "text": [
      "Max throughput: 1920\n",
      "Min throughput: 0\n"
     ]
    }
   ],
   "source": [
    "max_throughput = ndf[\"Throughput\"].max()\n",
    "min_throughput = ndf[\"Throughput\"].min()\n",
    "print(f'Max throughput: {max_throughput}')\n",
    "print(f'Min throughput: {min_throughput}')\n",
    "max_throughput = max_throughput.item() # get python int"
   ]
  },
  {
   "cell_type": "code",
   "execution_count": 10,
   "metadata": {},
   "outputs": [
    {
     "name": "stdout",
     "output_type": "stream",
     "text": [
      "Directions ['CW', 'ACW']\n",
      "Mobility mode ['driving', 'walking']\n",
      "nrStatus ['NOT_RESTRICTED', 'CONNECTED', 'NONE']\n"
     ]
    },
    {
     "data": {
      "text/html": [
       "<div>\n",
       "<style scoped>\n",
       "    .dataframe tbody tr th:only-of-type {\n",
       "        vertical-align: middle;\n",
       "    }\n",
       "\n",
       "    .dataframe tbody tr th {\n",
       "        vertical-align: top;\n",
       "    }\n",
       "\n",
       "    .dataframe thead th {\n",
       "        text-align: right;\n",
       "    }\n",
       "</style>\n",
       "<table border=\"1\" class=\"dataframe\">\n",
       "  <thead>\n",
       "    <tr style=\"text-align: right;\">\n",
       "      <th></th>\n",
       "      <th></th>\n",
       "      <th>latitude</th>\n",
       "      <th>longitude</th>\n",
       "      <th>abstractSignalStr</th>\n",
       "      <th>movingSpeed</th>\n",
       "      <th>compassDirection</th>\n",
       "      <th>lte_rssi</th>\n",
       "      <th>lte_rsrp</th>\n",
       "      <th>lte_rsrq</th>\n",
       "      <th>lte_rssnr</th>\n",
       "      <th>nr_ssRsrp</th>\n",
       "      <th>nr_ssRsrq</th>\n",
       "      <th>nr_ssSinr</th>\n",
       "      <th>tower_id</th>\n",
       "      <th>trajectory_direction</th>\n",
       "      <th>mobility_mode</th>\n",
       "      <th>nrStatus</th>\n",
       "      <th>Throughput</th>\n",
       "    </tr>\n",
       "    <tr>\n",
       "      <th>run_num</th>\n",
       "      <th>seq_num</th>\n",
       "      <th></th>\n",
       "      <th></th>\n",
       "      <th></th>\n",
       "      <th></th>\n",
       "      <th></th>\n",
       "      <th></th>\n",
       "      <th></th>\n",
       "      <th></th>\n",
       "      <th></th>\n",
       "      <th></th>\n",
       "      <th></th>\n",
       "      <th></th>\n",
       "      <th></th>\n",
       "      <th></th>\n",
       "      <th></th>\n",
       "      <th></th>\n",
       "      <th></th>\n",
       "    </tr>\n",
       "  </thead>\n",
       "  <tbody>\n",
       "    <tr>\n",
       "      <th rowspan=\"5\" valign=\"top\">1</th>\n",
       "      <th>1.0</th>\n",
       "      <td>44.975314</td>\n",
       "      <td>-93.259316</td>\n",
       "      <td>2</td>\n",
       "      <td>0.094889</td>\n",
       "      <td>150</td>\n",
       "      <td>-61.0</td>\n",
       "      <td>-94</td>\n",
       "      <td>-14.0</td>\n",
       "      <td>2.147484e+09</td>\n",
       "      <td>0.0</td>\n",
       "      <td>0.0</td>\n",
       "      <td>0.0</td>\n",
       "      <td>16</td>\n",
       "      <td>1</td>\n",
       "      <td>0</td>\n",
       "      <td>2</td>\n",
       "      <td>78</td>\n",
       "    </tr>\n",
       "    <tr>\n",
       "      <th>2.0</th>\n",
       "      <td>44.975311</td>\n",
       "      <td>-93.259311</td>\n",
       "      <td>2</td>\n",
       "      <td>0.876634</td>\n",
       "      <td>117</td>\n",
       "      <td>-61.0</td>\n",
       "      <td>-94</td>\n",
       "      <td>-14.0</td>\n",
       "      <td>2.147484e+09</td>\n",
       "      <td>0.0</td>\n",
       "      <td>0.0</td>\n",
       "      <td>0.0</td>\n",
       "      <td>16</td>\n",
       "      <td>1</td>\n",
       "      <td>0</td>\n",
       "      <td>2</td>\n",
       "      <td>117</td>\n",
       "    </tr>\n",
       "    <tr>\n",
       "      <th>3.0</th>\n",
       "      <td>44.975305</td>\n",
       "      <td>-93.259292</td>\n",
       "      <td>2</td>\n",
       "      <td>2.225798</td>\n",
       "      <td>113</td>\n",
       "      <td>-61.0</td>\n",
       "      <td>-94</td>\n",
       "      <td>-14.0</td>\n",
       "      <td>2.147484e+09</td>\n",
       "      <td>0.0</td>\n",
       "      <td>0.0</td>\n",
       "      <td>0.0</td>\n",
       "      <td>16</td>\n",
       "      <td>1</td>\n",
       "      <td>0</td>\n",
       "      <td>2</td>\n",
       "      <td>110</td>\n",
       "    </tr>\n",
       "    <tr>\n",
       "      <th>4.0</th>\n",
       "      <td>44.975293</td>\n",
       "      <td>-93.259258</td>\n",
       "      <td>2</td>\n",
       "      <td>3.180726</td>\n",
       "      <td>114</td>\n",
       "      <td>-59.0</td>\n",
       "      <td>-95</td>\n",
       "      <td>-16.0</td>\n",
       "      <td>2.147484e+09</td>\n",
       "      <td>0.0</td>\n",
       "      <td>0.0</td>\n",
       "      <td>0.0</td>\n",
       "      <td>16</td>\n",
       "      <td>1</td>\n",
       "      <td>0</td>\n",
       "      <td>2</td>\n",
       "      <td>108</td>\n",
       "    </tr>\n",
       "    <tr>\n",
       "      <th>5.0</th>\n",
       "      <td>44.975278</td>\n",
       "      <td>-93.259214</td>\n",
       "      <td>2</td>\n",
       "      <td>3.751234</td>\n",
       "      <td>115</td>\n",
       "      <td>-59.0</td>\n",
       "      <td>-95</td>\n",
       "      <td>-16.0</td>\n",
       "      <td>2.147484e+09</td>\n",
       "      <td>0.0</td>\n",
       "      <td>0.0</td>\n",
       "      <td>0.0</td>\n",
       "      <td>16</td>\n",
       "      <td>1</td>\n",
       "      <td>0</td>\n",
       "      <td>2</td>\n",
       "      <td>100</td>\n",
       "    </tr>\n",
       "  </tbody>\n",
       "</table>\n",
       "</div>"
      ],
      "text/plain": [
       "                  latitude  longitude  abstractSignalStr  movingSpeed  \\\n",
       "run_num seq_num                                                         \n",
       "1       1.0      44.975314 -93.259316                  2     0.094889   \n",
       "        2.0      44.975311 -93.259311                  2     0.876634   \n",
       "        3.0      44.975305 -93.259292                  2     2.225798   \n",
       "        4.0      44.975293 -93.259258                  2     3.180726   \n",
       "        5.0      44.975278 -93.259214                  2     3.751234   \n",
       "\n",
       "                 compassDirection  lte_rssi  lte_rsrp  lte_rsrq     lte_rssnr  \\\n",
       "run_num seq_num                                                                 \n",
       "1       1.0                   150     -61.0       -94     -14.0  2.147484e+09   \n",
       "        2.0                   117     -61.0       -94     -14.0  2.147484e+09   \n",
       "        3.0                   113     -61.0       -94     -14.0  2.147484e+09   \n",
       "        4.0                   114     -59.0       -95     -16.0  2.147484e+09   \n",
       "        5.0                   115     -59.0       -95     -16.0  2.147484e+09   \n",
       "\n",
       "                 nr_ssRsrp  nr_ssRsrq  nr_ssSinr  tower_id  \\\n",
       "run_num seq_num                                              \n",
       "1       1.0            0.0        0.0        0.0        16   \n",
       "        2.0            0.0        0.0        0.0        16   \n",
       "        3.0            0.0        0.0        0.0        16   \n",
       "        4.0            0.0        0.0        0.0        16   \n",
       "        5.0            0.0        0.0        0.0        16   \n",
       "\n",
       "                 trajectory_direction  mobility_mode  nrStatus  Throughput  \n",
       "run_num seq_num                                                             \n",
       "1       1.0                         1              0         2          78  \n",
       "        2.0                         1              0         2         117  \n",
       "        3.0                         1              0         2         110  \n",
       "        4.0                         1              0         2         108  \n",
       "        5.0                         1              0         2         100  "
      ]
     },
     "execution_count": 10,
     "metadata": {},
     "output_type": "execute_result"
    }
   ],
   "source": [
    "# label encoding\n",
    "directions = list(ndf['trajectory_direction'].unique())\n",
    "print('Directions', directions)\n",
    "enc = preprocessing.LabelEncoder()\n",
    "ndf['trajectory_direction'] = enc.fit_transform(ndf['trajectory_direction'].values.ravel())\n",
    "mobility_mode = list(ndf['mobility_mode'].unique())\n",
    "print('Mobility mode', mobility_mode)\n",
    "enc = preprocessing.LabelEncoder()\n",
    "ndf['mobility_mode'] = enc.fit_transform(ndf['mobility_mode'].values.ravel())\n",
    "nrStatus = list(ndf['nrStatus'].unique())\n",
    "print('nrStatus', nrStatus)\n",
    "enc = preprocessing.LabelEncoder()\n",
    "ndf['nrStatus'] = enc.fit_transform(ndf['nrStatus'].values.ravel())\n",
    "ndf.head()"
   ]
  },
  {
   "cell_type": "code",
   "execution_count": 11,
   "metadata": {},
   "outputs": [
    {
     "data": {
      "text/html": [
       "<div>\n",
       "<style scoped>\n",
       "    .dataframe tbody tr th:only-of-type {\n",
       "        vertical-align: middle;\n",
       "    }\n",
       "\n",
       "    .dataframe tbody tr th {\n",
       "        vertical-align: top;\n",
       "    }\n",
       "\n",
       "    .dataframe thead th {\n",
       "        text-align: right;\n",
       "    }\n",
       "</style>\n",
       "<table border=\"1\" class=\"dataframe\">\n",
       "  <thead>\n",
       "    <tr style=\"text-align: right;\">\n",
       "      <th></th>\n",
       "      <th></th>\n",
       "      <th>latitude</th>\n",
       "      <th>longitude</th>\n",
       "      <th>abstractSignalStr</th>\n",
       "      <th>movingSpeed</th>\n",
       "      <th>compassDirection</th>\n",
       "      <th>lte_rssi</th>\n",
       "      <th>lte_rsrp</th>\n",
       "      <th>lte_rsrq</th>\n",
       "      <th>lte_rssnr</th>\n",
       "      <th>nr_ssRsrp</th>\n",
       "      <th>nr_ssRsrq</th>\n",
       "      <th>nr_ssSinr</th>\n",
       "      <th>tower_id</th>\n",
       "      <th>trajectory_direction</th>\n",
       "      <th>mobility_mode</th>\n",
       "      <th>nrStatus</th>\n",
       "      <th>Throughput</th>\n",
       "    </tr>\n",
       "    <tr>\n",
       "      <th>run_num</th>\n",
       "      <th>seq_num</th>\n",
       "      <th></th>\n",
       "      <th></th>\n",
       "      <th></th>\n",
       "      <th></th>\n",
       "      <th></th>\n",
       "      <th></th>\n",
       "      <th></th>\n",
       "      <th></th>\n",
       "      <th></th>\n",
       "      <th></th>\n",
       "      <th></th>\n",
       "      <th></th>\n",
       "      <th></th>\n",
       "      <th></th>\n",
       "      <th></th>\n",
       "      <th></th>\n",
       "      <th></th>\n",
       "    </tr>\n",
       "  </thead>\n",
       "  <tbody>\n",
       "    <tr>\n",
       "      <th rowspan=\"5\" valign=\"top\">1</th>\n",
       "      <th>1.0</th>\n",
       "      <td>0.555052</td>\n",
       "      <td>0.931652</td>\n",
       "      <td>0.25</td>\n",
       "      <td>0.006749</td>\n",
       "      <td>0.416667</td>\n",
       "      <td>0.227848</td>\n",
       "      <td>0.479167</td>\n",
       "      <td>0.3</td>\n",
       "      <td>1.0</td>\n",
       "      <td>1.0</td>\n",
       "      <td>9.313226e-09</td>\n",
       "      <td>0.4</td>\n",
       "      <td>0.652174</td>\n",
       "      <td>1.0</td>\n",
       "      <td>0.0</td>\n",
       "      <td>1.0</td>\n",
       "      <td>0.040625</td>\n",
       "    </tr>\n",
       "    <tr>\n",
       "      <th>2.0</th>\n",
       "      <td>0.554351</td>\n",
       "      <td>0.932764</td>\n",
       "      <td>0.25</td>\n",
       "      <td>0.062350</td>\n",
       "      <td>0.325000</td>\n",
       "      <td>0.227848</td>\n",
       "      <td>0.479167</td>\n",
       "      <td>0.3</td>\n",
       "      <td>1.0</td>\n",
       "      <td>1.0</td>\n",
       "      <td>9.313226e-09</td>\n",
       "      <td>0.4</td>\n",
       "      <td>0.652174</td>\n",
       "      <td>1.0</td>\n",
       "      <td>0.0</td>\n",
       "      <td>1.0</td>\n",
       "      <td>0.060937</td>\n",
       "    </tr>\n",
       "    <tr>\n",
       "      <th>3.0</th>\n",
       "      <td>0.552584</td>\n",
       "      <td>0.936669</td>\n",
       "      <td>0.25</td>\n",
       "      <td>0.158308</td>\n",
       "      <td>0.313889</td>\n",
       "      <td>0.227848</td>\n",
       "      <td>0.479167</td>\n",
       "      <td>0.3</td>\n",
       "      <td>1.0</td>\n",
       "      <td>1.0</td>\n",
       "      <td>9.313226e-09</td>\n",
       "      <td>0.4</td>\n",
       "      <td>0.652174</td>\n",
       "      <td>1.0</td>\n",
       "      <td>0.0</td>\n",
       "      <td>1.0</td>\n",
       "      <td>0.057292</td>\n",
       "    </tr>\n",
       "    <tr>\n",
       "      <th>4.0</th>\n",
       "      <td>0.549415</td>\n",
       "      <td>0.943976</td>\n",
       "      <td>0.25</td>\n",
       "      <td>0.226227</td>\n",
       "      <td>0.316667</td>\n",
       "      <td>0.253165</td>\n",
       "      <td>0.468750</td>\n",
       "      <td>0.2</td>\n",
       "      <td>1.0</td>\n",
       "      <td>1.0</td>\n",
       "      <td>9.313226e-09</td>\n",
       "      <td>0.4</td>\n",
       "      <td>0.652174</td>\n",
       "      <td>1.0</td>\n",
       "      <td>0.0</td>\n",
       "      <td>1.0</td>\n",
       "      <td>0.056250</td>\n",
       "    </tr>\n",
       "    <tr>\n",
       "      <th>5.0</th>\n",
       "      <td>0.545235</td>\n",
       "      <td>0.953213</td>\n",
       "      <td>0.25</td>\n",
       "      <td>0.266804</td>\n",
       "      <td>0.319444</td>\n",
       "      <td>0.253165</td>\n",
       "      <td>0.468750</td>\n",
       "      <td>0.2</td>\n",
       "      <td>1.0</td>\n",
       "      <td>1.0</td>\n",
       "      <td>9.313226e-09</td>\n",
       "      <td>0.4</td>\n",
       "      <td>0.652174</td>\n",
       "      <td>1.0</td>\n",
       "      <td>0.0</td>\n",
       "      <td>1.0</td>\n",
       "      <td>0.052083</td>\n",
       "    </tr>\n",
       "  </tbody>\n",
       "</table>\n",
       "</div>"
      ],
      "text/plain": [
       "                 latitude  longitude  abstractSignalStr  movingSpeed  \\\n",
       "run_num seq_num                                                        \n",
       "1       1.0      0.555052   0.931652               0.25     0.006749   \n",
       "        2.0      0.554351   0.932764               0.25     0.062350   \n",
       "        3.0      0.552584   0.936669               0.25     0.158308   \n",
       "        4.0      0.549415   0.943976               0.25     0.226227   \n",
       "        5.0      0.545235   0.953213               0.25     0.266804   \n",
       "\n",
       "                 compassDirection  lte_rssi  lte_rsrp  lte_rsrq  lte_rssnr  \\\n",
       "run_num seq_num                                                              \n",
       "1       1.0              0.416667  0.227848  0.479167       0.3        1.0   \n",
       "        2.0              0.325000  0.227848  0.479167       0.3        1.0   \n",
       "        3.0              0.313889  0.227848  0.479167       0.3        1.0   \n",
       "        4.0              0.316667  0.253165  0.468750       0.2        1.0   \n",
       "        5.0              0.319444  0.253165  0.468750       0.2        1.0   \n",
       "\n",
       "                 nr_ssRsrp     nr_ssRsrq  nr_ssSinr  tower_id  \\\n",
       "run_num seq_num                                                 \n",
       "1       1.0            1.0  9.313226e-09        0.4  0.652174   \n",
       "        2.0            1.0  9.313226e-09        0.4  0.652174   \n",
       "        3.0            1.0  9.313226e-09        0.4  0.652174   \n",
       "        4.0            1.0  9.313226e-09        0.4  0.652174   \n",
       "        5.0            1.0  9.313226e-09        0.4  0.652174   \n",
       "\n",
       "                 trajectory_direction  mobility_mode  nrStatus  Throughput  \n",
       "run_num seq_num                                                             \n",
       "1       1.0                       1.0            0.0       1.0    0.040625  \n",
       "        2.0                       1.0            0.0       1.0    0.060937  \n",
       "        3.0                       1.0            0.0       1.0    0.057292  \n",
       "        4.0                       1.0            0.0       1.0    0.056250  \n",
       "        5.0                       1.0            0.0       1.0    0.052083  "
      ]
     },
     "execution_count": 11,
     "metadata": {},
     "output_type": "execute_result"
    }
   ],
   "source": [
    "# Min-Max Scaling\n",
    "df=(ndf-ndf.min())/(ndf.max()-ndf.min())\n",
    "df.head()"
   ]
  },
  {
   "cell_type": "markdown",
   "metadata": {},
   "source": [
    "## 2. Create Train-Test Sets"
   ]
  },
  {
   "cell_type": "code",
   "execution_count": 12,
   "metadata": {},
   "outputs": [],
   "source": [
    "# split function into sequences\n",
    "# y data from the last column \n",
    "def multistep_split(seq, n_steps_in, n_steps_out):\n",
    "    X = list()\n",
    "    y = list()\n",
    "    for i in range(len(seq)):\n",
    "        # pattern end\n",
    "        end_ix = i + n_steps_in\n",
    "        out_end_ix = end_ix + n_steps_out\n",
    "        if out_end_ix > len(seq):\n",
    "            break\n",
    "        seq_x = seq[i:end_ix]\n",
    "        seq_y = seq[end_ix:out_end_ix, -1]\n",
    "        X.append(seq_x)\n",
    "        y.append(seq_y)\n",
    "    return np.array(X), np.array(y)"
   ]
  },
  {
   "cell_type": "code",
   "execution_count": 13,
   "metadata": {},
   "outputs": [
    {
     "name": "stdout",
     "output_type": "stream",
     "text": [
      "(63516, 20, 17)\n",
      "(63516, 20)\n"
     ]
    }
   ],
   "source": [
    "# separately splits runs into sequences\n",
    "run_max=df.index.max()[0]\n",
    "seconds_in = 20\n",
    "seconds_out = 20 \n",
    "X_list = list()\n",
    "y_list = list()\n",
    "for run_num in range(1, run_max+1):\n",
    "    run = df.loc[run_num].values\n",
    "    X, y = multistep_split(run.astype('float32'), n_steps_in=seconds_in, n_steps_out=seconds_out)\n",
    "    X_list.append(X)\n",
    "    y_list.append(y)\n",
    "X = np.concatenate(X_list)\n",
    "y = np.concatenate(y_list)\n",
    "print(X.shape)\n",
    "print(y.shape)"
   ]
  },
  {
   "cell_type": "code",
   "execution_count": 14,
   "metadata": {},
   "outputs": [
    {
     "name": "stdout",
     "output_type": "stream",
     "text": [
      "(44461, 20, 17)\n",
      "(44461, 20)\n",
      "(19055, 20, 17)\n",
      "(19055, 20)\n"
     ]
    }
   ],
   "source": [
    "ratio=0.7\n",
    "train_size = int(ratio*X.shape[0])\n",
    "X_train = X[:train_size]\n",
    "y_train = y[:train_size]\n",
    "X_test = X[train_size:]\n",
    "y_test = y[train_size:]\n",
    "print(X_train.shape)\n",
    "print(y_train.shape)\n",
    "print(X_test.shape)\n",
    "print(y_test.shape)"
   ]
  },
  {
   "cell_type": "markdown",
   "metadata": {},
   "source": [
    "## 3. Naive Forecast"
   ]
  },
  {
   "cell_type": "code",
   "execution_count": 15,
   "metadata": {},
   "outputs": [
    {
     "name": "stdout",
     "output_type": "stream",
     "text": [
      "Naive forecast MSE: 0.0724\n"
     ]
    },
    {
     "data": {
      "image/png": "[encoded data removed]",
      "text/plain": [
       "<Figure size 432x288 with 1 Axes>"
      ]
     },
     "metadata": {
      "needs_background": "light"
     },
     "output_type": "display_data"
    }
   ],
   "source": [
    "n = 150 # example number\n",
    "y_true = y_test[n]\n",
    "x_thr = X_test[n]\n",
    "y_pred = x_thr[-seconds_out:, -1]\n",
    "print(f'Naive forecast MSE: {mean_squared_error(y_true, y_pred):.4f}')\n",
    "plt.plot(y_true * max_throughput, 'b')\n",
    "plt.plot(y_pred * max_throughput, 'r')\n",
    "plt.ylim(0, max_throughput)\n",
    "plt.show()"
   ]
  },
  {
   "cell_type": "code",
   "execution_count": 16,
   "metadata": {},
   "outputs": [
    {
     "name": "stdout",
     "output_type": "stream",
     "text": [
      "Forecast Naive MSE for all test data: 0.0697\n",
      "Naive RMSE for all test data: 506.7360\n"
     ]
    }
   ],
   "source": [
    "# MSE for all test data\n",
    "mse_list = list()\n",
    "for x, y in zip(X_test, y_test):\n",
    "    y_pred = x[-seconds_out:,-1]\n",
    "    mse = mean_squared_error(y, y_pred)\n",
    "    mse_list.append(mse)\n",
    "MSE = np.array(mse_list)\n",
    "MSE = MSE.mean()\n",
    "print(f'Forecast Naive MSE for all test data: {MSE:.4f}')\n",
    "print(f'Naive RMSE for all test data: {np.sqrt(MSE)*max_throughput:.4f}')"
   ]
  },
  {
   "cell_type": "markdown",
   "metadata": {},
   "source": [
    "## 4. Simple LSTM"
   ]
  },
  {
   "cell_type": "code",
   "execution_count": 17,
   "metadata": {},
   "outputs": [
    {
     "name": "stdout",
     "output_type": "stream",
     "text": [
      "Model: \"sequential\"\n",
      "_________________________________________________________________\n",
      "Layer (type)                 Output Shape              Param #   \n",
      "=================================================================\n",
      "lstm (LSTM)                  (None, 128)               74752     \n",
      "_________________________________________________________________\n",
      "dense (Dense)                (None, 20)                2580      \n",
      "=================================================================\n",
      "Total params: 77,332\n",
      "Trainable params: 77,332\n",
      "Non-trainable params: 0\n",
      "_________________________________________________________________\n"
     ]
    }
   ],
   "source": [
    "n_features = X_train.shape[2]\n",
    "model = tf.keras.models.Sequential()\n",
    "model.add(tf.keras.layers.LSTM(128,\n",
    "                               activation='tanh',\n",
    "                               input_shape=(seconds_in, n_features)))\n",
    "model.add(tf.keras.layers.Dense(seconds_out, activation='linear'))\n",
    "model.summary()"
   ]
  },
  {
   "cell_type": "code",
   "execution_count": 18,
   "metadata": {},
   "outputs": [],
   "source": [
    "model.compile(optimizer='adam',\n",
    "             loss='mean_squared_error')"
   ]
  },
  {
   "cell_type": "code",
   "execution_count": 19,
   "metadata": {},
   "outputs": [],
   "source": [
    "early_stopping = tf.keras.callbacks.EarlyStopping(monitor='val_loss',\n",
    "                                                  min_delta=0.0001,\n",
    "                                                  patience=20,\n",
    "                                                  verbose=0,\n",
    "                                                  mode='auto',\n",
    "                                                  restore_best_weights=True)"
   ]
  },
  {
   "cell_type": "code",
   "execution_count": 20,
   "metadata": {},
   "outputs": [
    {
     "name": "stdout",
     "output_type": "stream",
     "text": [
      "Epoch 1/50\n",
      "1390/1390 [==============================] - 8s 6ms/step - loss: 0.0370 - val_loss: 0.0340\n",
      "Epoch 2/50\n",
      "1390/1390 [==============================] - 8s 6ms/step - loss: 0.0326 - val_loss: 0.0318\n",
      "Epoch 3/50\n",
      "1390/1390 [==============================] - 8s 5ms/step - loss: 0.0307 - val_loss: 0.0316\n",
      "Epoch 4/50\n",
      "1390/1390 [==============================] - 8s 5ms/step - loss: 0.0291 - val_loss: 0.0306\n",
      "Epoch 5/50\n",
      "1390/1390 [==============================] - 8s 5ms/step - loss: 0.0277 - val_loss: 0.0304\n",
      "Epoch 6/50\n",
      "1390/1390 [==============================] - 8s 5ms/step - loss: 0.0263 - val_loss: 0.0308\n",
      "Epoch 7/50\n",
      "1390/1390 [==============================] - 8s 5ms/step - loss: 0.0251 - val_loss: 0.0306\n",
      "Epoch 8/50\n",
      "1390/1390 [==============================] - 8s 6ms/step - loss: 0.0238 - val_loss: 0.0310\n",
      "Epoch 9/50\n",
      "1390/1390 [==============================] - 8s 6ms/step - loss: 0.0228 - val_loss: 0.0302\n",
      "Epoch 10/50\n",
      "1390/1390 [==============================] - 8s 6ms/step - loss: 0.0215 - val_loss: 0.0308\n",
      "Epoch 11/50\n",
      "1390/1390 [==============================] - 8s 6ms/step - loss: 0.0203 - val_loss: 0.0317\n",
      "Epoch 12/50\n",
      "1390/1390 [==============================] - 8s 6ms/step - loss: 0.0193 - val_loss: 0.0320\n",
      "Epoch 13/50\n",
      "1390/1390 [==============================] - 8s 6ms/step - loss: 0.0183 - val_loss: 0.0327\n",
      "Epoch 14/50\n",
      "1390/1390 [==============================] - 7s 5ms/step - loss: 0.0175 - val_loss: 0.0332\n",
      "Epoch 15/50\n",
      "1390/1390 [==============================] - 8s 6ms/step - loss: 0.0167 - val_loss: 0.0345\n",
      "Epoch 16/50\n",
      "1390/1390 [==============================] - 8s 6ms/step - loss: 0.0160 - val_loss: 0.0336\n",
      "Epoch 17/50\n",
      "1390/1390 [==============================] - 8s 6ms/step - loss: 0.0153 - val_loss: 0.0352\n",
      "Epoch 18/50\n",
      "1390/1390 [==============================] - 8s 6ms/step - loss: 0.0147 - val_loss: 0.0353\n",
      "Epoch 19/50\n",
      "1390/1390 [==============================] - 8s 5ms/step - loss: 0.0142 - val_loss: 0.0354\n",
      "Epoch 20/50\n",
      "1390/1390 [==============================] - 7s 5ms/step - loss: 0.0137 - val_loss: 0.0353\n",
      "Epoch 21/50\n",
      "1390/1390 [==============================] - 7s 5ms/step - loss: 0.0131 - val_loss: 0.0355\n",
      "Epoch 22/50\n",
      "1390/1390 [==============================] - 7s 5ms/step - loss: 0.0128 - val_loss: 0.0362\n",
      "Epoch 23/50\n",
      "1390/1390 [==============================] - 7s 5ms/step - loss: 0.0124 - val_loss: 0.0364\n",
      "Epoch 24/50\n",
      "1390/1390 [==============================] - 7s 5ms/step - loss: 0.0120 - val_loss: 0.0363\n",
      "Epoch 25/50\n",
      "1390/1390 [==============================] - 8s 5ms/step - loss: 0.0116 - val_loss: 0.0371\n",
      "Epoch 26/50\n",
      "1390/1390 [==============================] - 8s 5ms/step - loss: 0.0114 - val_loss: 0.0376\n",
      "Epoch 27/50\n",
      "1390/1390 [==============================] - 8s 5ms/step - loss: 0.0113 - val_loss: 0.0380\n",
      "Epoch 28/50\n",
      "1390/1390 [==============================] - 8s 5ms/step - loss: 0.0109 - val_loss: 0.0371\n",
      "Epoch 29/50\n",
      "1390/1390 [==============================] - 7s 5ms/step - loss: 0.0107 - val_loss: 0.0381\n"
     ]
    }
   ],
   "source": [
    "history = model.fit(X_train,\n",
    "                    y_train,\n",
    "                    epochs=50,\n",
    "                    batch_size=32,\n",
    "                    validation_data=(X_test, y_test),\n",
    "                    callbacks=[early_stopping],\n",
    "                    verbose=1)"
   ]
  },
  {
   "cell_type": "code",
   "execution_count": 21,
   "metadata": {},
   "outputs": [
    {
     "name": "stdout",
     "output_type": "stream",
     "text": [
      "Minimal Loss: 0.0302\n"
     ]
    },
    {
     "data": {
      "image/png": "[encoded data removed]",
      "text/plain": [
       "<Figure size 720x360 with 1 Axes>"
      ]
     },
     "metadata": {
      "needs_background": "light"
     },
     "output_type": "display_data"
    }
   ],
   "source": [
    "loss = history.history['loss']\n",
    "val_loss = history.history['val_loss']\n",
    "min_mse = min(val_loss)\n",
    "print(f'Minimal Loss: {min_mse:.4f}')\n",
    "plt.figure(figsize=(10,5))\n",
    "plt.plot(loss, 'r', label='Loss of training data')\n",
    "plt.plot(val_loss, 'b-', label='Loss of validation data')\n",
    "plt.title('Model Loss')\n",
    "plt.ylabel('Loss')\n",
    "plt.xlabel('Training Epoch')\n",
    "plt.legend()\n",
    "plt.show()"
   ]
  },
  {
   "cell_type": "code",
   "execution_count": 22,
   "metadata": {},
   "outputs": [
    {
     "name": "stdout",
     "output_type": "stream",
     "text": [
      "RMSE: 333.72\n"
     ]
    }
   ],
   "source": [
    "print(f'RMSE: {np.sqrt(min_mse)*max_throughput:.2f}')"
   ]
  },
  {
   "cell_type": "code",
   "execution_count": 23,
   "metadata": {},
   "outputs": [
    {
     "name": "stdout",
     "output_type": "stream",
     "text": [
      "Example forecast MSE: 0.0137\n"
     ]
    },
    {
     "data": {
      "image/png": "[encoded data removed]",
      "text/plain": [
       "<Figure size 432x288 with 1 Axes>"
      ]
     },
     "metadata": {
      "needs_background": "light"
     },
     "output_type": "display_data"
    }
   ],
   "source": [
    "n = 150 # test example number\n",
    "x_in = X_test[n].reshape(1, seconds_in, n_features)\n",
    "y_true = y_test[n] # test true\n",
    "y_pred = model.predict(x_in).flatten()\n",
    "print(f'Example forecast MSE: {mean_squared_error(y_true, y_pred):.4f}')\n",
    "plt.plot(y_true * max_throughput, 'b')\n",
    "plt.plot(y_pred * max_throughput, 'r')\n",
    "plt.ylim(0, max_throughput)\n",
    "plt.show()"
   ]
  },
  {
   "cell_type": "markdown",
   "metadata": {},
   "source": [
    "## 5. Stacked LSTM"
   ]
  },
  {
   "cell_type": "code",
   "execution_count": 24,
   "metadata": {},
   "outputs": [
    {
     "name": "stdout",
     "output_type": "stream",
     "text": [
      "Model: \"sequential_1\"\n",
      "_________________________________________________________________\n",
      "Layer (type)                 Output Shape              Param #   \n",
      "=================================================================\n",
      "lstm_1 (LSTM)                (None, 20, 128)           74752     \n",
      "_________________________________________________________________\n",
      "lstm_2 (LSTM)                (None, 128)               131584    \n",
      "_________________________________________________________________\n",
      "dense_1 (Dense)              (None, 20)                2580      \n",
      "=================================================================\n",
      "Total params: 208,916\n",
      "Trainable params: 208,916\n",
      "Non-trainable params: 0\n",
      "_________________________________________________________________\n"
     ]
    }
   ],
   "source": [
    "n_features = X_train.shape[2]\n",
    "model = tf.keras.models.Sequential()\n",
    "model.add(tf.keras.layers.LSTM(128,\n",
    "                               activation='tanh',\n",
    "                               input_shape=(seconds_in, n_features),\n",
    "                               return_sequences=True))\n",
    "model.add(tf.keras.layers.LSTM(128, activation='tanh'))\n",
    "model.add(tf.keras.layers.Dense(seconds_out, activation='linear'))\n",
    "model.summary()"
   ]
  },
  {
   "cell_type": "code",
   "execution_count": 25,
   "metadata": {},
   "outputs": [],
   "source": [
    "model.compile(optimizer='adam',\n",
    "             loss='mean_squared_error')"
   ]
  },
  {
   "cell_type": "code",
   "execution_count": 26,
   "metadata": {},
   "outputs": [
    {
     "name": "stdout",
     "output_type": "stream",
     "text": [
      "Epoch 1/50\n",
      "695/695 [==============================] - 7s 9ms/step - loss: 0.0381 - val_loss: 0.0331\n",
      "Epoch 2/50\n",
      "695/695 [==============================] - 6s 9ms/step - loss: 0.0328 - val_loss: 0.0319\n",
      "Epoch 3/50\n",
      "695/695 [==============================] - 6s 9ms/step - loss: 0.0306 - val_loss: 0.0307\n",
      "Epoch 4/50\n",
      "695/695 [==============================] - 6s 9ms/step - loss: 0.0289 - val_loss: 0.0314\n",
      "Epoch 5/50\n",
      "695/695 [==============================] - 6s 9ms/step - loss: 0.0274 - val_loss: 0.0302\n",
      "Epoch 6/50\n",
      "695/695 [==============================] - 6s 9ms/step - loss: 0.0259 - val_loss: 0.0320\n",
      "Epoch 7/50\n",
      "695/695 [==============================] - 6s 9ms/step - loss: 0.0244 - val_loss: 0.0306\n",
      "Epoch 8/50\n",
      "695/695 [==============================] - 6s 9ms/step - loss: 0.0229 - val_loss: 0.0319\n",
      "Epoch 9/50\n",
      "695/695 [==============================] - 6s 9ms/step - loss: 0.0214 - val_loss: 0.0335\n",
      "Epoch 10/50\n",
      "695/695 [==============================] - 6s 9ms/step - loss: 0.0201 - val_loss: 0.0331\n",
      "Epoch 11/50\n",
      "695/695 [==============================] - 6s 8ms/step - loss: 0.0188 - val_loss: 0.0337\n",
      "Epoch 12/50\n",
      "695/695 [==============================] - 6s 8ms/step - loss: 0.0174 - val_loss: 0.0349\n",
      "Epoch 13/50\n",
      "695/695 [==============================] - 6s 8ms/step - loss: 0.0162 - val_loss: 0.0349\n",
      "Epoch 14/50\n",
      "695/695 [==============================] - 6s 9ms/step - loss: 0.0150 - val_loss: 0.0359\n",
      "Epoch 15/50\n",
      "695/695 [==============================] - 6s 9ms/step - loss: 0.0140 - val_loss: 0.0348\n",
      "Epoch 16/50\n",
      "695/695 [==============================] - 6s 9ms/step - loss: 0.0131 - val_loss: 0.0371\n",
      "Epoch 17/50\n",
      "695/695 [==============================] - 6s 9ms/step - loss: 0.0121 - val_loss: 0.0386\n",
      "Epoch 18/50\n",
      "695/695 [==============================] - 6s 9ms/step - loss: 0.0114 - val_loss: 0.0384\n",
      "Epoch 19/50\n",
      "695/695 [==============================] - 6s 9ms/step - loss: 0.0107 - val_loss: 0.0384\n",
      "Epoch 20/50\n",
      "695/695 [==============================] - 6s 9ms/step - loss: 0.0102 - val_loss: 0.0397\n",
      "Epoch 21/50\n",
      "695/695 [==============================] - 6s 9ms/step - loss: 0.0097 - val_loss: 0.0385\n",
      "Epoch 22/50\n",
      "695/695 [==============================] - 6s 9ms/step - loss: 0.0094 - val_loss: 0.0397\n",
      "Epoch 23/50\n",
      "695/695 [==============================] - 6s 9ms/step - loss: 0.0089 - val_loss: 0.0391\n",
      "Epoch 24/50\n",
      "695/695 [==============================] - 6s 9ms/step - loss: 0.0086 - val_loss: 0.0404\n",
      "Epoch 25/50\n",
      "695/695 [==============================] - 6s 9ms/step - loss: 0.0083 - val_loss: 0.0395\n"
     ]
    }
   ],
   "source": [
    "history = model.fit(X_train,\n",
    "                    y_train,\n",
    "                    epochs=50,\n",
    "                    batch_size=64,\n",
    "                    validation_data=(X_test, y_test),\n",
    "                    callbacks=[early_stopping],\n",
    "                    verbose=1)"
   ]
  },
  {
   "cell_type": "code",
   "execution_count": 27,
   "metadata": {},
   "outputs": [
    {
     "name": "stdout",
     "output_type": "stream",
     "text": [
      "Minimal Loss: 0.0302\n"
     ]
    },
    {
     "data": {
      "image/png": "[encoded data removed]",
      "text/plain": [
       "<Figure size 720x360 with 1 Axes>"
      ]
     },
     "metadata": {
      "needs_background": "light"
     },
     "output_type": "display_data"
    }
   ],
   "source": [
    "loss = history.history['loss']\n",
    "val_loss = history.history['val_loss']\n",
    "min_mse = min(val_loss)\n",
    "print(f'Minimal Loss: {min_mse:.4f}')\n",
    "plt.figure(figsize=(10,5))\n",
    "plt.plot(loss, 'r', label='Loss of training data')\n",
    "plt.plot(val_loss, 'b-', label='Loss of validation data')\n",
    "plt.title('Model Loss')\n",
    "plt.ylabel('Loss')\n",
    "plt.xlabel('Training Epoch')\n",
    "plt.legend()\n",
    "plt.show()"
   ]
  },
  {
   "cell_type": "code",
   "execution_count": 28,
   "metadata": {},
   "outputs": [
    {
     "name": "stdout",
     "output_type": "stream",
     "text": [
      "RMSE: 333.61\n"
     ]
    }
   ],
   "source": [
    "print(f'RMSE: {np.sqrt(min_mse)*max_throughput:.2f}')"
   ]
  },
  {
   "cell_type": "code",
   "execution_count": 29,
   "metadata": {},
   "outputs": [
    {
     "name": "stdout",
     "output_type": "stream",
     "text": [
      "Example forecast MSE: 0.2147\n"
     ]
    },
    {
     "data": {
      "image/png": "[encoded data removed]",
      "text/plain": [
       "<Figure size 432x288 with 1 Axes>"
      ]
     },
     "metadata": {
      "needs_background": "light"
     },
     "output_type": "display_data"
    }
   ],
   "source": [
    "n = 1000 # test example number\n",
    "x_in = X_test[n].reshape(1, seconds_in, n_features)\n",
    "y_true = y_test[n] # test true\n",
    "y_pred = model.predict(x_in).flatten()\n",
    "print(f'Example forecast MSE: {mean_squared_error(y_true, y_pred):.4f}')\n",
    "plt.plot(y_true * max_throughput, 'b')\n",
    "plt.plot(y_pred * max_throughput, 'r')\n",
    "plt.ylim(0, max_throughput)\n",
    "plt.show()"
   ]
  },
  {
   "cell_type": "markdown",
   "metadata": {},
   "source": [
    "## 6.Encoder-Decoder LSTM"
   ]
  },
  {
   "cell_type": "code",
   "execution_count": 30,
   "metadata": {},
   "outputs": [
    {
     "name": "stdout",
     "output_type": "stream",
     "text": [
      "Model: \"sequential_2\"\n",
      "_________________________________________________________________\n",
      "Layer (type)                 Output Shape              Param #   \n",
      "=================================================================\n",
      "lstm_3 (LSTM)                (None, 64)                20992     \n",
      "_________________________________________________________________\n",
      "repeat_vector (RepeatVector) (None, 20, 64)            0         \n",
      "_________________________________________________________________\n",
      "lstm_4 (LSTM)                (None, 20, 64)            33024     \n",
      "_________________________________________________________________\n",
      "time_distributed (TimeDistri (None, 20, 1)             65        \n",
      "=================================================================\n",
      "Total params: 54,081\n",
      "Trainable params: 54,081\n",
      "Non-trainable params: 0\n",
      "_________________________________________________________________\n"
     ]
    }
   ],
   "source": [
    "n_features = X_train.shape[2]\n",
    "model = tf.keras.models.Sequential()\n",
    "model.add(tf.keras.layers.LSTM(64,\n",
    "                               activation='tanh',\n",
    "                               input_shape=(seconds_in, n_features)))\n",
    "model.add(tf.keras.layers.RepeatVector(seconds_out))\n",
    "model.add(tf.keras.layers.LSTM(64, activation='tanh',\n",
    "                               return_sequences=True))\n",
    "model.add(tf.keras.layers.TimeDistributed(\n",
    "          tf.keras.layers.Dense(1, activation='linear')))\n",
    "model.summary()"
   ]
  },
  {
   "cell_type": "code",
   "execution_count": 31,
   "metadata": {},
   "outputs": [],
   "source": [
    "model.compile(optimizer='adam',\n",
    "             loss='mean_squared_error')"
   ]
  },
  {
   "cell_type": "code",
   "execution_count": 32,
   "metadata": {},
   "outputs": [
    {
     "name": "stdout",
     "output_type": "stream",
     "text": [
      "Epoch 1/50\n",
      "2779/2779 [==============================] - 23s 8ms/step - loss: 0.0361 - val_loss: 0.0314\n",
      "Epoch 2/50\n",
      "2779/2779 [==============================] - 23s 8ms/step - loss: 0.0318 - val_loss: 0.0312\n",
      "Epoch 3/50\n",
      "2779/2779 [==============================] - 23s 8ms/step - loss: 0.0298 - val_loss: 0.0310\n",
      "Epoch 4/50\n",
      "2779/2779 [==============================] - 23s 8ms/step - loss: 0.0282 - val_loss: 0.0302\n",
      "Epoch 5/50\n",
      "2779/2779 [==============================] - 23s 8ms/step - loss: 0.0269 - val_loss: 0.0309\n",
      "Epoch 6/50\n",
      "2779/2779 [==============================] - 23s 8ms/step - loss: 0.0255 - val_loss: 0.0321\n",
      "Epoch 7/50\n",
      "2779/2779 [==============================] - 23s 8ms/step - loss: 0.0244 - val_loss: 0.0308\n",
      "Epoch 8/50\n",
      "2779/2779 [==============================] - 23s 8ms/step - loss: 0.0231 - val_loss: 0.0312\n",
      "Epoch 9/50\n",
      "2779/2779 [==============================] - 23s 8ms/step - loss: 0.0221 - val_loss: 0.0313\n",
      "Epoch 10/50\n",
      "2779/2779 [==============================] - 23s 8ms/step - loss: 0.0210 - val_loss: 0.0320\n",
      "Epoch 11/50\n",
      "2779/2779 [==============================] - 23s 8ms/step - loss: 0.0201 - val_loss: 0.0335\n",
      "Epoch 12/50\n",
      "2779/2779 [==============================] - 23s 8ms/step - loss: 0.0192 - val_loss: 0.0336\n",
      "Epoch 13/50\n",
      "2779/2779 [==============================] - 23s 8ms/step - loss: 0.0187 - val_loss: 0.0334\n",
      "Epoch 14/50\n",
      "2779/2779 [==============================] - 23s 8ms/step - loss: 0.0179 - val_loss: 0.0338\n",
      "Epoch 15/50\n",
      "2779/2779 [==============================] - 23s 8ms/step - loss: 0.0173 - val_loss: 0.0346\n",
      "Epoch 16/50\n",
      "2779/2779 [==============================] - 23s 8ms/step - loss: 0.0166 - val_loss: 0.0342\n",
      "Epoch 17/50\n",
      "2779/2779 [==============================] - 23s 8ms/step - loss: 0.0162 - val_loss: 0.0349\n",
      "Epoch 18/50\n",
      "2779/2779 [==============================] - 23s 8ms/step - loss: 0.0157 - val_loss: 0.0341\n",
      "Epoch 19/50\n",
      "2779/2779 [==============================] - 22s 8ms/step - loss: 0.0153 - val_loss: 0.0362\n",
      "Epoch 20/50\n",
      "2779/2779 [==============================] - 23s 8ms/step - loss: 0.0149 - val_loss: 0.0353\n",
      "Epoch 21/50\n",
      "2779/2779 [==============================] - 23s 8ms/step - loss: 0.0145 - val_loss: 0.0360\n",
      "Epoch 22/50\n",
      "2779/2779 [==============================] - 23s 8ms/step - loss: 0.0141 - val_loss: 0.0368\n",
      "Epoch 23/50\n",
      "2779/2779 [==============================] - 22s 8ms/step - loss: 0.0138 - val_loss: 0.0367\n",
      "Epoch 24/50\n",
      "2779/2779 [==============================] - 22s 8ms/step - loss: 0.0135 - val_loss: 0.0367\n"
     ]
    }
   ],
   "source": [
    "history = model.fit(X_train,\n",
    "                    y_train,\n",
    "                    epochs=50,\n",
    "                    batch_size=32,\n",
    "                    validation_data=(X_test, y_test),\n",
    "                    callbacks=[early_stopping],\n",
    "                    verbose=1)"
   ]
  },
  {
   "cell_type": "code",
   "execution_count": 33,
   "metadata": {},
   "outputs": [
    {
     "name": "stdout",
     "output_type": "stream",
     "text": [
      "Minimal Loss: 0.0302\n",
      "RMSE: 333.70\n"
     ]
    },
    {
     "data": {
      "image/png": "[encoded data removed]",
      "text/plain": [
       "<Figure size 720x360 with 1 Axes>"
      ]
     },
     "metadata": {
      "needs_background": "light"
     },
     "output_type": "display_data"
    }
   ],
   "source": [
    "loss = history.history['loss']\n",
    "val_loss = history.history['val_loss']\n",
    "min_mse = min(val_loss)\n",
    "print(f'Minimal Loss: {min_mse:.4f}')\n",
    "print(f'RMSE: {np.sqrt(min_mse)*max_throughput:.2f}')\n",
    "plt.figure(figsize=(10,5))\n",
    "plt.plot(loss, 'r', label='Loss of training data')\n",
    "plt.plot(val_loss, 'b-', label='Loss of validation data')\n",
    "plt.title('Model Loss')\n",
    "plt.ylabel('Loss')\n",
    "plt.xlabel('Training Epoch')\n",
    "plt.legend()\n",
    "plt.show()"
   ]
  },
  {
   "cell_type": "code",
   "execution_count": 34,
   "metadata": {},
   "outputs": [
    {
     "name": "stdout",
     "output_type": "stream",
     "text": [
      "Example forecast MSE: 0.1926\n"
     ]
    },
    {
     "data": {
      "image/png": "[encoded data removed]",
      "text/plain": [
       "<Figure size 432x288 with 1 Axes>"
      ]
     },
     "metadata": {
      "needs_background": "light"
     },
     "output_type": "display_data"
    }
   ],
   "source": [
    "n = 1000 # test example number\n",
    "x_in = X_test[n].reshape(1, seconds_in, n_features)\n",
    "y_true = y_test[n] # test true\n",
    "y_pred = model.predict(x_in).flatten()\n",
    "print(f'Example forecast MSE: {mean_squared_error(y_true, y_pred):.4f}')\n",
    "plt.plot(y_true * max_throughput, 'b')\n",
    "plt.plot(y_pred * max_throughput, 'r')\n",
    "plt.ylim(0, max_throughput)\n",
    "plt.show()"
   ]
  },
  {
   "cell_type": "markdown",
   "metadata": {},
   "source": [
    "## 7. Bidirectional LSTM"
   ]
  },
  {
   "cell_type": "code",
   "execution_count": 35,
   "metadata": {},
   "outputs": [
    {
     "name": "stdout",
     "output_type": "stream",
     "text": [
      "Model: \"sequential_3\"\n",
      "_________________________________________________________________\n",
      "Layer (type)                 Output Shape              Param #   \n",
      "=================================================================\n",
      "bidirectional (Bidirectional (None, 20, 64)            12800     \n",
      "_________________________________________________________________\n",
      "time_distributed_1 (TimeDist (None, 20, 1)             65        \n",
      "=================================================================\n",
      "Total params: 12,865\n",
      "Trainable params: 12,865\n",
      "Non-trainable params: 0\n",
      "_________________________________________________________________\n"
     ]
    }
   ],
   "source": [
    "n_features = X_train.shape[2]\n",
    "model = tf.keras.models.Sequential()\n",
    "model.add(tf.keras.layers.Bidirectional(\n",
    "          tf.keras.layers.LSTM(32, activation='tanh', return_sequences=True),\n",
    "          merge_mode='concat', \n",
    "          input_shape=(seconds_in, n_features)))\n",
    "model.add(tf.keras.layers.TimeDistributed(\n",
    "          tf.keras.layers.Dense(1, activation='linear')))\n",
    "model.summary()"
   ]
  },
  {
   "cell_type": "code",
   "execution_count": 36,
   "metadata": {},
   "outputs": [],
   "source": [
    "model.compile(optimizer='adam',\n",
    "             loss='mean_squared_error')"
   ]
  },
  {
   "cell_type": "code",
   "execution_count": 37,
   "metadata": {},
   "outputs": [],
   "source": [
    "early_stopping = tf.keras.callbacks.EarlyStopping(monitor='val_loss',\n",
    "                                                  min_delta=0.0001,\n",
    "                                                  patience=10,\n",
    "                                                  verbose=0,\n",
    "                                                  mode='auto',\n",
    "                                                  restore_best_weights=True)"
   ]
  },
  {
   "cell_type": "code",
   "execution_count": 38,
   "metadata": {},
   "outputs": [
    {
     "name": "stdout",
     "output_type": "stream",
     "text": [
      "Epoch 1/50\n",
      "1390/1390 [==============================] - 11s 8ms/step - loss: 0.0406 - val_loss: 0.0346\n",
      "Epoch 2/50\n",
      "1390/1390 [==============================] - 10s 7ms/step - loss: 0.0342 - val_loss: 0.0344\n",
      "Epoch 3/50\n",
      "1390/1390 [==============================] - 10s 7ms/step - loss: 0.0326 - val_loss: 0.0349\n",
      "Epoch 4/50\n",
      "1390/1390 [==============================] - 9s 6ms/step - loss: 0.0315 - val_loss: 0.0341\n",
      "Epoch 5/50\n",
      "1390/1390 [==============================] - 10s 7ms/step - loss: 0.0306 - val_loss: 0.0320\n",
      "Epoch 6/50\n",
      "1390/1390 [==============================] - 10s 7ms/step - loss: 0.0298 - val_loss: 0.0329\n",
      "Epoch 7/50\n",
      "1390/1390 [==============================] - 10s 7ms/step - loss: 0.0291 - val_loss: 0.0327\n",
      "Epoch 8/50\n",
      "1390/1390 [==============================] - 10s 7ms/step - loss: 0.0284 - val_loss: 0.0322\n",
      "Epoch 9/50\n",
      "1390/1390 [==============================] - 10s 7ms/step - loss: 0.0278 - val_loss: 0.0318\n",
      "Epoch 10/50\n",
      "1390/1390 [==============================] - 10s 7ms/step - loss: 0.0273 - val_loss: 0.0322\n",
      "Epoch 11/50\n",
      "1390/1390 [==============================] - 10s 7ms/step - loss: 0.0269 - val_loss: 0.0340\n",
      "Epoch 12/50\n",
      "1390/1390 [==============================] - 10s 7ms/step - loss: 0.0264 - val_loss: 0.0323\n",
      "Epoch 13/50\n",
      "1390/1390 [==============================] - 10s 7ms/step - loss: 0.0260 - val_loss: 0.0311\n",
      "Epoch 14/50\n",
      "1390/1390 [==============================] - 10s 7ms/step - loss: 0.0256 - val_loss: 0.0317\n",
      "Epoch 15/50\n",
      "1390/1390 [==============================] - 10s 7ms/step - loss: 0.0252 - val_loss: 0.0324\n",
      "Epoch 16/50\n",
      "1390/1390 [==============================] - 10s 7ms/step - loss: 0.0249 - val_loss: 0.0319\n",
      "Epoch 17/50\n",
      "1390/1390 [==============================] - 10s 7ms/step - loss: 0.0245 - val_loss: 0.0326\n",
      "Epoch 18/50\n",
      "1390/1390 [==============================] - 10s 7ms/step - loss: 0.0241 - val_loss: 0.0327\n",
      "Epoch 19/50\n",
      "1390/1390 [==============================] - 10s 7ms/step - loss: 0.0237 - val_loss: 0.0321\n",
      "Epoch 20/50\n",
      "1390/1390 [==============================] - 10s 7ms/step - loss: 0.0235 - val_loss: 0.0323\n",
      "Epoch 21/50\n",
      "1390/1390 [==============================] - 10s 7ms/step - loss: 0.0232 - val_loss: 0.0322\n",
      "Epoch 22/50\n",
      "1390/1390 [==============================] - 10s 7ms/step - loss: 0.0229 - val_loss: 0.0330\n",
      "Epoch 23/50\n",
      "1390/1390 [==============================] - 10s 7ms/step - loss: 0.0226 - val_loss: 0.0335\n"
     ]
    }
   ],
   "source": [
    "history = model.fit(X_train,\n",
    "                    y_train,\n",
    "                    epochs=50,\n",
    "                    batch_size=32,\n",
    "                    validation_data=(X_test, y_test),\n",
    "                    callbacks=[early_stopping],\n",
    "                    verbose=1)"
   ]
  },
  {
   "cell_type": "code",
   "execution_count": 39,
   "metadata": {},
   "outputs": [
    {
     "name": "stdout",
     "output_type": "stream",
     "text": [
      "Minimal Loss: 0.0311\n",
      "RMSE: 338.80\n"
     ]
    },
    {
     "data": {
      "image/png": "[encoded data removed]",
      "text/plain": [
       "<Figure size 720x360 with 1 Axes>"
      ]
     },
     "metadata": {
      "needs_background": "light"
     },
     "output_type": "display_data"
    }
   ],
   "source": [
    "loss = history.history['loss']\n",
    "val_loss = history.history['val_loss']\n",
    "min_mse = min(val_loss)\n",
    "print(f'Minimal Loss: {min_mse:.4f}')\n",
    "print(f'RMSE: {np.sqrt(min_mse)*max_throughput:.2f}')\n",
    "plt.figure(figsize=(10,5))\n",
    "plt.plot(loss, 'r', label='Loss of training data')\n",
    "plt.plot(val_loss, 'b-', label='Loss of validation data')\n",
    "plt.title('Model Loss')\n",
    "plt.ylabel('Loss')\n",
    "plt.xlabel('Training Epoch')\n",
    "plt.legend()\n",
    "plt.show()"
   ]
  },
  {
   "cell_type": "code",
   "execution_count": 40,
   "metadata": {},
   "outputs": [
    {
     "name": "stdout",
     "output_type": "stream",
     "text": [
      "Example forecast MSE: 0.0250\n"
     ]
    },
    {
     "data": {
      "image/png": "[encoded data removed]",
      "text/plain": [
       "<Figure size 432x288 with 1 Axes>"
      ]
     },
     "metadata": {
      "needs_background": "light"
     },
     "output_type": "display_data"
    }
   ],
   "source": [
    "n = 150 # test example number\n",
    "x_in = X_test[n].reshape(1, seconds_in, n_features)\n",
    "y_true = y_test[n] # test true\n",
    "y_pred = model.predict(x_in).flatten()\n",
    "print(f'Example forecast MSE: {mean_squared_error(y_true, y_pred):.4f}')\n",
    "plt.plot(y_true * max_throughput, 'b')\n",
    "plt.plot(y_pred * max_throughput, 'r')\n",
    "plt.ylim(0, max_throughput)\n",
    "plt.show()"
   ]
  }
 ],
 "metadata": {
  "kernelspec": {
   "display_name": "Python 3",
   "language": "python",
   "name": "python3"
  },
  "language_info": {
   "codemirror_mode": {
    "name": "ipython",
    "version": 3
   },
   "file_extension": ".py",
   "mimetype": "text/x-python",
   "name": "python",
   "nbconvert_exporter": "python",
   "pygments_lexer": "ipython3",
   "version": "3.6.9"
  }
 },
 "nbformat": 4,
 "nbformat_minor": 4
}
